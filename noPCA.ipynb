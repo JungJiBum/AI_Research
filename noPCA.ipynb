{
 "cells": [
  {
   "cell_type": "markdown",
   "id": "23aaf640-5eaf-4073-b9c3-5831f832ff9f",
   "metadata": {},
   "source": [
    "# Data Merge"
   ]
  },
  {
   "cell_type": "code",
   "execution_count": 48,
   "id": "16e1237f-1ca2-4b4d-8573-9478539c6575",
   "metadata": {},
   "outputs": [],
   "source": [
    "import pandas as pd\n",
    "import numpy as np\n",
    "import matplotlib.pyplot as plt\n",
    "import os\n",
    "import sys\n",
    "from sklearn.model_selection import train_test_split\n",
    "from sklearn.preprocessing import OneHotEncoder"
   ]
  },
  {
   "cell_type": "code",
   "execution_count": 49,
   "id": "895af241-4d89-4f71-b566-a4d3fe58b316",
   "metadata": {},
   "outputs": [],
   "source": [
    "os.environ[\"CUDA_VISIBLE_DEVICES\"]='0'"
   ]
  },
  {
   "cell_type": "markdown",
   "id": "c36d1878-07f7-4eb7-8aa3-523ed254ea0f",
   "metadata": {},
   "source": [
    "### Data Path Setting"
   ]
  },
  {
   "cell_type": "code",
   "execution_count": 50,
   "id": "1826c9f0-06b4-49a1-a377-5b062e0917d7",
   "metadata": {},
   "outputs": [],
   "source": [
    "# csv = '/home/master/Jibum/Motion_Show/HAR/DataSet/'\n",
    "\n",
    "# csv_ls = os.listdir(csv)"
   ]
  },
  {
   "cell_type": "code",
   "execution_count": 51,
   "id": "6252d3c2-0317-46c0-9020-b53e519998f9",
   "metadata": {},
   "outputs": [],
   "source": [
    "# DataSet = pd.DataFrame()\n",
    "\n",
    "# for i in csv_ls:\n",
    "#     df = pd.read_csv(csv + '/' + i)\n",
    "#     DataSet = pd.concat([DataSet, df])"
   ]
  },
  {
   "cell_type": "code",
   "execution_count": 52,
   "id": "92a52e45-d64d-47d4-98bb-83f4fd917a7f",
   "metadata": {},
   "outputs": [],
   "source": [
    "# DataSet.to_csv('/home/master/Jibum/Motion_Show/HAR/Dataset.csv')"
   ]
  },
  {
   "cell_type": "code",
   "execution_count": 53,
   "id": "7557252f-75eb-406c-8588-81d59ccc5d7f",
   "metadata": {},
   "outputs": [],
   "source": [
    "DataSet = pd.read_csv('/home/master/Jibum/Motion_Show/HAR/Dataset.csv')\n",
    "DataSet = DataSet.drop('Unnamed: 0', axis=1)"
   ]
  },
  {
   "cell_type": "code",
   "execution_count": 55,
   "id": "b22ab46c-bb7a-4c03-a711-48d7466fb712",
   "metadata": {},
   "outputs": [
    {
     "data": {
      "text/html": [
       "<div>\n",
       "<style scoped>\n",
       "    .dataframe tbody tr th:only-of-type {\n",
       "        vertical-align: middle;\n",
       "    }\n",
       "\n",
       "    .dataframe tbody tr th {\n",
       "        vertical-align: top;\n",
       "    }\n",
       "\n",
       "    .dataframe thead th {\n",
       "        text-align: right;\n",
       "    }\n",
       "</style>\n",
       "<table border=\"1\" class=\"dataframe\">\n",
       "  <thead>\n",
       "    <tr style=\"text-align: right;\">\n",
       "      <th></th>\n",
       "      <th>accelerometer_right_foot_x</th>\n",
       "      <th>accelerometer_right_foot_y</th>\n",
       "      <th>accelerometer_right_foot_z</th>\n",
       "      <th>gyroscope_right_foot_x</th>\n",
       "      <th>gyroscope_right_foot_y</th>\n",
       "      <th>gyroscope_right_foot_z</th>\n",
       "      <th>accelerometer_right_shin_x</th>\n",
       "      <th>accelerometer_right_shin_y</th>\n",
       "      <th>accelerometer_right_shin_z</th>\n",
       "      <th>gyroscope_right_shin_x</th>\n",
       "      <th>...</th>\n",
       "      <th>gyroscope_left_shin_z</th>\n",
       "      <th>accelerometer_left_thigh_x</th>\n",
       "      <th>accelerometer_left_thigh_y</th>\n",
       "      <th>accelerometer_left_thigh_z</th>\n",
       "      <th>gyroscope_left_thigh_x</th>\n",
       "      <th>gyroscope_left_thigh_y</th>\n",
       "      <th>gyroscope_left_thigh_z</th>\n",
       "      <th>EMG_right</th>\n",
       "      <th>EMG_left</th>\n",
       "      <th>activity</th>\n",
       "    </tr>\n",
       "  </thead>\n",
       "  <tbody>\n",
       "    <tr>\n",
       "      <th>0</th>\n",
       "      <td>-9256</td>\n",
       "      <td>-3132</td>\n",
       "      <td>13492</td>\n",
       "      <td>125</td>\n",
       "      <td>-72</td>\n",
       "      <td>-128</td>\n",
       "      <td>-15056</td>\n",
       "      <td>744</td>\n",
       "      <td>-5952</td>\n",
       "      <td>-16</td>\n",
       "      <td>...</td>\n",
       "      <td>128</td>\n",
       "      <td>-2912</td>\n",
       "      <td>3828</td>\n",
       "      <td>16356</td>\n",
       "      <td>215</td>\n",
       "      <td>-18</td>\n",
       "      <td>39</td>\n",
       "      <td>127</td>\n",
       "      <td>127</td>\n",
       "      <td>sitting</td>\n",
       "    </tr>\n",
       "    <tr>\n",
       "      <th>1</th>\n",
       "      <td>-9256</td>\n",
       "      <td>-3104</td>\n",
       "      <td>13584</td>\n",
       "      <td>144</td>\n",
       "      <td>-77</td>\n",
       "      <td>-156</td>\n",
       "      <td>-15084</td>\n",
       "      <td>820</td>\n",
       "      <td>-6076</td>\n",
       "      <td>-2</td>\n",
       "      <td>...</td>\n",
       "      <td>118</td>\n",
       "      <td>-2896</td>\n",
       "      <td>3900</td>\n",
       "      <td>16464</td>\n",
       "      <td>217</td>\n",
       "      <td>-27</td>\n",
       "      <td>45</td>\n",
       "      <td>127</td>\n",
       "      <td>127</td>\n",
       "      <td>sitting</td>\n",
       "    </tr>\n",
       "    <tr>\n",
       "      <th>2</th>\n",
       "      <td>-9212</td>\n",
       "      <td>-3112</td>\n",
       "      <td>13576</td>\n",
       "      <td>157</td>\n",
       "      <td>-48</td>\n",
       "      <td>-157</td>\n",
       "      <td>-15112</td>\n",
       "      <td>696</td>\n",
       "      <td>-5992</td>\n",
       "      <td>-26</td>\n",
       "      <td>...</td>\n",
       "      <td>119</td>\n",
       "      <td>-2924</td>\n",
       "      <td>3912</td>\n",
       "      <td>16448</td>\n",
       "      <td>165</td>\n",
       "      <td>10</td>\n",
       "      <td>27</td>\n",
       "      <td>127</td>\n",
       "      <td>127</td>\n",
       "      <td>sitting</td>\n",
       "    </tr>\n",
       "    <tr>\n",
       "      <th>3</th>\n",
       "      <td>-9216</td>\n",
       "      <td>-3084</td>\n",
       "      <td>13572</td>\n",
       "      <td>129</td>\n",
       "      <td>-55</td>\n",
       "      <td>-110</td>\n",
       "      <td>-15120</td>\n",
       "      <td>796</td>\n",
       "      <td>-6036</td>\n",
       "      <td>5</td>\n",
       "      <td>...</td>\n",
       "      <td>148</td>\n",
       "      <td>-2904</td>\n",
       "      <td>4012</td>\n",
       "      <td>16540</td>\n",
       "      <td>159</td>\n",
       "      <td>-26</td>\n",
       "      <td>48</td>\n",
       "      <td>127</td>\n",
       "      <td>127</td>\n",
       "      <td>sitting</td>\n",
       "    </tr>\n",
       "    <tr>\n",
       "      <th>4</th>\n",
       "      <td>-9192</td>\n",
       "      <td>-3100</td>\n",
       "      <td>13596</td>\n",
       "      <td>119</td>\n",
       "      <td>-23</td>\n",
       "      <td>-151</td>\n",
       "      <td>-15084</td>\n",
       "      <td>740</td>\n",
       "      <td>-6176</td>\n",
       "      <td>-22</td>\n",
       "      <td>...</td>\n",
       "      <td>94</td>\n",
       "      <td>-2912</td>\n",
       "      <td>3924</td>\n",
       "      <td>16380</td>\n",
       "      <td>163</td>\n",
       "      <td>-31</td>\n",
       "      <td>66</td>\n",
       "      <td>127</td>\n",
       "      <td>127</td>\n",
       "      <td>sitting</td>\n",
       "    </tr>\n",
       "    <tr>\n",
       "      <th>...</th>\n",
       "      <td>...</td>\n",
       "      <td>...</td>\n",
       "      <td>...</td>\n",
       "      <td>...</td>\n",
       "      <td>...</td>\n",
       "      <td>...</td>\n",
       "      <td>...</td>\n",
       "      <td>...</td>\n",
       "      <td>...</td>\n",
       "      <td>...</td>\n",
       "      <td>...</td>\n",
       "      <td>...</td>\n",
       "      <td>...</td>\n",
       "      <td>...</td>\n",
       "      <td>...</td>\n",
       "      <td>...</td>\n",
       "      <td>...</td>\n",
       "      <td>...</td>\n",
       "      <td>...</td>\n",
       "      <td>...</td>\n",
       "      <td>...</td>\n",
       "    </tr>\n",
       "    <tr>\n",
       "      <th>1137274</th>\n",
       "      <td>-8864</td>\n",
       "      <td>-3604</td>\n",
       "      <td>12976</td>\n",
       "      <td>-120</td>\n",
       "      <td>168</td>\n",
       "      <td>-117</td>\n",
       "      <td>-15992</td>\n",
       "      <td>2100</td>\n",
       "      <td>-4912</td>\n",
       "      <td>86</td>\n",
       "      <td>...</td>\n",
       "      <td>-265</td>\n",
       "      <td>-16112</td>\n",
       "      <td>2828</td>\n",
       "      <td>-2076</td>\n",
       "      <td>-544</td>\n",
       "      <td>274</td>\n",
       "      <td>-1</td>\n",
       "      <td>124</td>\n",
       "      <td>117</td>\n",
       "      <td>standing</td>\n",
       "    </tr>\n",
       "    <tr>\n",
       "      <th>1137275</th>\n",
       "      <td>-8944</td>\n",
       "      <td>-3496</td>\n",
       "      <td>12900</td>\n",
       "      <td>-109</td>\n",
       "      <td>185</td>\n",
       "      <td>-132</td>\n",
       "      <td>-15856</td>\n",
       "      <td>2128</td>\n",
       "      <td>-4796</td>\n",
       "      <td>-14</td>\n",
       "      <td>...</td>\n",
       "      <td>-293</td>\n",
       "      <td>-16280</td>\n",
       "      <td>2296</td>\n",
       "      <td>-1672</td>\n",
       "      <td>-1091</td>\n",
       "      <td>229</td>\n",
       "      <td>39</td>\n",
       "      <td>126</td>\n",
       "      <td>129</td>\n",
       "      <td>standing</td>\n",
       "    </tr>\n",
       "    <tr>\n",
       "      <th>1137276</th>\n",
       "      <td>-8784</td>\n",
       "      <td>-3516</td>\n",
       "      <td>12920</td>\n",
       "      <td>-100</td>\n",
       "      <td>195</td>\n",
       "      <td>-173</td>\n",
       "      <td>-15644</td>\n",
       "      <td>1988</td>\n",
       "      <td>-4648</td>\n",
       "      <td>78</td>\n",
       "      <td>...</td>\n",
       "      <td>-238</td>\n",
       "      <td>-16296</td>\n",
       "      <td>2052</td>\n",
       "      <td>-972</td>\n",
       "      <td>-1464</td>\n",
       "      <td>115</td>\n",
       "      <td>106</td>\n",
       "      <td>122</td>\n",
       "      <td>132</td>\n",
       "      <td>standing</td>\n",
       "    </tr>\n",
       "    <tr>\n",
       "      <th>1137277</th>\n",
       "      <td>-8852</td>\n",
       "      <td>-3552</td>\n",
       "      <td>12824</td>\n",
       "      <td>-83</td>\n",
       "      <td>125</td>\n",
       "      <td>-151</td>\n",
       "      <td>-15712</td>\n",
       "      <td>1764</td>\n",
       "      <td>-4444</td>\n",
       "      <td>251</td>\n",
       "      <td>...</td>\n",
       "      <td>-145</td>\n",
       "      <td>-16224</td>\n",
       "      <td>1820</td>\n",
       "      <td>-1100</td>\n",
       "      <td>-998</td>\n",
       "      <td>1</td>\n",
       "      <td>197</td>\n",
       "      <td>127</td>\n",
       "      <td>123</td>\n",
       "      <td>standing</td>\n",
       "    </tr>\n",
       "    <tr>\n",
       "      <th>1137278</th>\n",
       "      <td>-8840</td>\n",
       "      <td>-3664</td>\n",
       "      <td>12796</td>\n",
       "      <td>-81</td>\n",
       "      <td>132</td>\n",
       "      <td>-146</td>\n",
       "      <td>-15968</td>\n",
       "      <td>1788</td>\n",
       "      <td>-4620</td>\n",
       "      <td>440</td>\n",
       "      <td>...</td>\n",
       "      <td>-100</td>\n",
       "      <td>-16208</td>\n",
       "      <td>1620</td>\n",
       "      <td>-1228</td>\n",
       "      <td>-267</td>\n",
       "      <td>56</td>\n",
       "      <td>176</td>\n",
       "      <td>120</td>\n",
       "      <td>120</td>\n",
       "      <td>standing</td>\n",
       "    </tr>\n",
       "  </tbody>\n",
       "</table>\n",
       "<p>1137279 rows × 39 columns</p>\n",
       "</div>"
      ],
      "text/plain": [
       "         accelerometer_right_foot_x  accelerometer_right_foot_y  \\\n",
       "0                             -9256                       -3132   \n",
       "1                             -9256                       -3104   \n",
       "2                             -9212                       -3112   \n",
       "3                             -9216                       -3084   \n",
       "4                             -9192                       -3100   \n",
       "...                             ...                         ...   \n",
       "1137274                       -8864                       -3604   \n",
       "1137275                       -8944                       -3496   \n",
       "1137276                       -8784                       -3516   \n",
       "1137277                       -8852                       -3552   \n",
       "1137278                       -8840                       -3664   \n",
       "\n",
       "         accelerometer_right_foot_z  gyroscope_right_foot_x  \\\n",
       "0                             13492                     125   \n",
       "1                             13584                     144   \n",
       "2                             13576                     157   \n",
       "3                             13572                     129   \n",
       "4                             13596                     119   \n",
       "...                             ...                     ...   \n",
       "1137274                       12976                    -120   \n",
       "1137275                       12900                    -109   \n",
       "1137276                       12920                    -100   \n",
       "1137277                       12824                     -83   \n",
       "1137278                       12796                     -81   \n",
       "\n",
       "         gyroscope_right_foot_y  gyroscope_right_foot_z  \\\n",
       "0                           -72                    -128   \n",
       "1                           -77                    -156   \n",
       "2                           -48                    -157   \n",
       "3                           -55                    -110   \n",
       "4                           -23                    -151   \n",
       "...                         ...                     ...   \n",
       "1137274                     168                    -117   \n",
       "1137275                     185                    -132   \n",
       "1137276                     195                    -173   \n",
       "1137277                     125                    -151   \n",
       "1137278                     132                    -146   \n",
       "\n",
       "         accelerometer_right_shin_x  accelerometer_right_shin_y  \\\n",
       "0                            -15056                         744   \n",
       "1                            -15084                         820   \n",
       "2                            -15112                         696   \n",
       "3                            -15120                         796   \n",
       "4                            -15084                         740   \n",
       "...                             ...                         ...   \n",
       "1137274                      -15992                        2100   \n",
       "1137275                      -15856                        2128   \n",
       "1137276                      -15644                        1988   \n",
       "1137277                      -15712                        1764   \n",
       "1137278                      -15968                        1788   \n",
       "\n",
       "         accelerometer_right_shin_z  gyroscope_right_shin_x  ...  \\\n",
       "0                             -5952                     -16  ...   \n",
       "1                             -6076                      -2  ...   \n",
       "2                             -5992                     -26  ...   \n",
       "3                             -6036                       5  ...   \n",
       "4                             -6176                     -22  ...   \n",
       "...                             ...                     ...  ...   \n",
       "1137274                       -4912                      86  ...   \n",
       "1137275                       -4796                     -14  ...   \n",
       "1137276                       -4648                      78  ...   \n",
       "1137277                       -4444                     251  ...   \n",
       "1137278                       -4620                     440  ...   \n",
       "\n",
       "         gyroscope_left_shin_z  accelerometer_left_thigh_x  \\\n",
       "0                          128                       -2912   \n",
       "1                          118                       -2896   \n",
       "2                          119                       -2924   \n",
       "3                          148                       -2904   \n",
       "4                           94                       -2912   \n",
       "...                        ...                         ...   \n",
       "1137274                   -265                      -16112   \n",
       "1137275                   -293                      -16280   \n",
       "1137276                   -238                      -16296   \n",
       "1137277                   -145                      -16224   \n",
       "1137278                   -100                      -16208   \n",
       "\n",
       "         accelerometer_left_thigh_y  accelerometer_left_thigh_z  \\\n",
       "0                              3828                       16356   \n",
       "1                              3900                       16464   \n",
       "2                              3912                       16448   \n",
       "3                              4012                       16540   \n",
       "4                              3924                       16380   \n",
       "...                             ...                         ...   \n",
       "1137274                        2828                       -2076   \n",
       "1137275                        2296                       -1672   \n",
       "1137276                        2052                        -972   \n",
       "1137277                        1820                       -1100   \n",
       "1137278                        1620                       -1228   \n",
       "\n",
       "         gyroscope_left_thigh_x  gyroscope_left_thigh_y  \\\n",
       "0                           215                     -18   \n",
       "1                           217                     -27   \n",
       "2                           165                      10   \n",
       "3                           159                     -26   \n",
       "4                           163                     -31   \n",
       "...                         ...                     ...   \n",
       "1137274                    -544                     274   \n",
       "1137275                   -1091                     229   \n",
       "1137276                   -1464                     115   \n",
       "1137277                    -998                       1   \n",
       "1137278                    -267                      56   \n",
       "\n",
       "         gyroscope_left_thigh_z  EMG_right  EMG_left  activity  \n",
       "0                            39        127       127   sitting  \n",
       "1                            45        127       127   sitting  \n",
       "2                            27        127       127   sitting  \n",
       "3                            48        127       127   sitting  \n",
       "4                            66        127       127   sitting  \n",
       "...                         ...        ...       ...       ...  \n",
       "1137274                      -1        124       117  standing  \n",
       "1137275                      39        126       129  standing  \n",
       "1137276                     106        122       132  standing  \n",
       "1137277                     197        127       123  standing  \n",
       "1137278                     176        120       120  standing  \n",
       "\n",
       "[1137279 rows x 39 columns]"
      ]
     },
     "execution_count": 55,
     "metadata": {},
     "output_type": "execute_result"
    }
   ],
   "source": [
    "DataSet"
   ]
  },
  {
   "cell_type": "markdown",
   "id": "38bc5f00-faf7-4fd5-a74e-b42726967039",
   "metadata": {},
   "source": [
    "### Target Count"
   ]
  },
  {
   "cell_type": "code",
   "execution_count": 7,
   "id": "ee5d64a6-7c39-4f7a-b4e7-7dbcb8881ebe",
   "metadata": {},
   "outputs": [
    {
     "data": {
      "text/plain": [
       "walking             314966\n",
       "standing            222345\n",
       "going_up            135127\n",
       "going_down          119819\n",
       "up_by_elevator       89144\n",
       "sitting              82574\n",
       "down_by_elevator     68762\n",
       "running              65917\n",
       "standing_up          20506\n",
       "sitting_down         18119\n",
       "Name: activity, dtype: int64"
      ]
     },
     "execution_count": 7,
     "metadata": {},
     "output_type": "execute_result"
    }
   ],
   "source": [
    "DataSet['activity'].value_counts()"
   ]
  },
  {
   "cell_type": "markdown",
   "id": "d52e1b28-3121-4adc-af98-e68b8d92305e",
   "metadata": {},
   "source": [
    "### Data Columns"
   ]
  },
  {
   "cell_type": "code",
   "execution_count": 8,
   "id": "3cbd2ff5-aaf4-42eb-901c-d82b4698317c",
   "metadata": {},
   "outputs": [
    {
     "data": {
      "text/plain": [
       "Index(['accelerometer_right_foot_x', 'accelerometer_right_foot_y',\n",
       "       'accelerometer_right_foot_z', 'gyroscope_right_foot_x',\n",
       "       'gyroscope_right_foot_y', 'gyroscope_right_foot_z',\n",
       "       'accelerometer_right_shin_x', 'accelerometer_right_shin_y',\n",
       "       'accelerometer_right_shin_z', 'gyroscope_right_shin_x',\n",
       "       'gyroscope_right_shin_y', 'gyroscope_right_shin_z',\n",
       "       'accelerometer_right_thigh_x', 'accelerometer_right_thigh_y',\n",
       "       'accelerometer_right_thigh_z', 'gyroscope_right_thigh_x',\n",
       "       'gyroscope_right_thigh_y', 'gyroscope_right_thigh_z',\n",
       "       'accelerometer_left_foot_x', 'accelerometer_left_foot_y',\n",
       "       'accelerometer_left_foot_z', 'gyroscope_left_foot_x',\n",
       "       'gyroscope_left_foot_y', 'gyroscope_left_foot_z',\n",
       "       'accelerometer_left_shin_x', 'accelerometer_left_shin_y',\n",
       "       'accelerometer_left_shin_z', 'gyroscope_left_shin_x',\n",
       "       'gyroscope_left_shin_y', 'gyroscope_left_shin_z',\n",
       "       'accelerometer_left_thigh_x', 'accelerometer_left_thigh_y',\n",
       "       'accelerometer_left_thigh_z', 'gyroscope_left_thigh_x',\n",
       "       'gyroscope_left_thigh_y', 'gyroscope_left_thigh_z', 'EMG_right',\n",
       "       'EMG_left', 'activity'],\n",
       "      dtype='object')"
      ]
     },
     "execution_count": 8,
     "metadata": {},
     "output_type": "execute_result"
    }
   ],
   "source": [
    "DataSet.columns"
   ]
  },
  {
   "cell_type": "markdown",
   "id": "db1734a7-8339-4ab5-a8a9-940105e64aad",
   "metadata": {},
   "source": [
    "### Acc / Gyro / Acc+Gyro"
   ]
  },
  {
   "cell_type": "code",
   "execution_count": 9,
   "id": "2d730336-b9bf-4834-9879-5634b9dfb940",
   "metadata": {},
   "outputs": [],
   "source": [
    "Acc = DataSet[['accelerometer_right_foot_x', 'accelerometer_right_foot_y','accelerometer_right_foot_z',\n",
    "               'accelerometer_right_shin_x', 'accelerometer_right_shin_y','accelerometer_right_shin_z',\n",
    "               'accelerometer_right_thigh_x', 'accelerometer_right_thigh_y','accelerometer_right_thigh_z',\n",
    "               'accelerometer_left_foot_x', 'accelerometer_left_foot_y','accelerometer_left_foot_z',\n",
    "               'accelerometer_left_shin_x', 'accelerometer_left_shin_y','accelerometer_left_shin_z',\n",
    "               'accelerometer_left_thigh_x', 'accelerometer_left_thigh_y','accelerometer_left_thigh_z']]\n",
    "\n",
    "Gyro = DataSet[['gyroscope_right_foot_x', 'gyroscope_right_foot_y','gyroscope_right_foot_z',\n",
    "               'gyroscope_right_shin_x', 'gyroscope_right_shin_y','gyroscope_right_shin_z',\n",
    "               'gyroscope_right_thigh_x', 'gyroscope_right_thigh_y','gyroscope_right_thigh_z',\n",
    "               'gyroscope_left_foot_x', 'gyroscope_left_foot_y','gyroscope_left_foot_z',\n",
    "               'gyroscope_left_shin_x', 'gyroscope_left_shin_y','gyroscope_left_shin_z',\n",
    "               'gyroscope_left_thigh_x', 'gyroscope_left_thigh_y','gyroscope_left_thigh_z']]\n",
    "\n",
    "AccGyro = DataSet.drop(['EMG_right','EMG_left','activity'], axis=1)"
   ]
  },
  {
   "cell_type": "markdown",
   "id": "7379b4f6-27f6-40e5-adad-921e3dbe49e8",
   "metadata": {},
   "source": [
    "### PCA"
   ]
  },
  {
   "cell_type": "code",
   "execution_count": 10,
   "id": "4b0f5ec3-8415-40b0-95ee-09cc625fabd6",
   "metadata": {},
   "outputs": [],
   "source": [
    "# PCA\n",
    "accRF = DataSet[['accelerometer_right_foot_x','accelerometer_right_foot_y','accelerometer_right_foot_z']].values\n",
    "accRS = DataSet[['accelerometer_right_shin_x','accelerometer_right_shin_y','accelerometer_right_shin_z']].values\n",
    "accRT = DataSet[['accelerometer_right_thigh_x','accelerometer_right_thigh_y','accelerometer_right_thigh_z']].values\n",
    "accLF = DataSet[['accelerometer_left_foot_x','accelerometer_left_foot_y','accelerometer_left_foot_z']].values\n",
    "accLS = DataSet[['accelerometer_left_shin_x','accelerometer_left_shin_y','accelerometer_left_shin_z']].values\n",
    "accLT = DataSet[['accelerometer_left_thigh_x','accelerometer_left_thigh_y','accelerometer_left_thigh_z']].values"
   ]
  },
  {
   "cell_type": "code",
   "execution_count": 11,
   "id": "11abe918-4c7a-478d-b756-7616c80ed2f9",
   "metadata": {},
   "outputs": [],
   "source": [
    "gyroRF = DataSet[['gyroscope_right_foot_x', 'gyroscope_right_foot_y', 'gyroscope_right_foot_z']].values\n",
    "gyroRS = DataSet[['gyroscope_right_shin_x', 'gyroscope_right_shin_y', 'gyroscope_right_shin_z']].values\n",
    "gyroRT = DataSet[['gyroscope_right_thigh_x', 'gyroscope_right_thigh_y', 'gyroscope_right_thigh_z']].values\n",
    "gyroLF = DataSet[['gyroscope_left_foot_x', 'gyroscope_left_foot_y', 'gyroscope_left_foot_z']].values\n",
    "gyroLS = DataSet[['gyroscope_left_shin_x', 'gyroscope_left_shin_y', 'gyroscope_left_shin_z']].values\n",
    "gyroLT = DataSet[['gyroscope_left_thigh_x', 'gyroscope_left_thigh_y', 'gyroscope_left_thigh_z']].values"
   ]
  },
  {
   "cell_type": "code",
   "execution_count": 12,
   "id": "47eb1872-315c-4c8d-aaf2-81fe671a2ef0",
   "metadata": {},
   "outputs": [],
   "source": [
    "from sklearn.preprocessing import StandardScaler as SS\n",
    "from sklearn.decomposition import PCA\n",
    "\n",
    "accrf = SS().fit_transform(accRF)\n",
    "accrs = SS().fit_transform(accRS)\n",
    "accrt = SS().fit_transform(accRT)\n",
    "acclf = SS().fit_transform(accLF)\n",
    "accls = SS().fit_transform(accLS)\n",
    "acclt = SS().fit_transform(accLT)\n",
    "\n",
    "gyrorf = SS().fit_transform(gyroRF)\n",
    "gyrors = SS().fit_transform(gyroRS)\n",
    "gyrort = SS().fit_transform(gyroRT)\n",
    "gyrolf = SS().fit_transform(gyroLF)\n",
    "gyrols = SS().fit_transform(gyroLS)\n",
    "gyrolt = SS().fit_transform(gyroLT)\n",
    "\n",
    "pca = PCA(n_components=1)\n",
    "\n",
    "accrf = pca.fit_transform(accrf)\n",
    "accrfDF = pd.DataFrame(data = accrf, columns=['Acc_Right_Foot'])\n",
    "accrs = pca.fit_transform(accrs)\n",
    "accrsDF = pd.DataFrame(data = accrs, columns=['Acc_Right_Shin'])\n",
    "accrt = pca.fit_transform(accrt)\n",
    "accrtDF = pd.DataFrame(data = accrt, columns=['Acc_Right_thigh'])\n",
    "acclf = pca.fit_transform(acclf)\n",
    "acclfDF = pd.DataFrame(data = acclf, columns=['Acc_Left_Foot'])\n",
    "accls = pca.fit_transform(accls)\n",
    "acclsDF = pd.DataFrame(data = accls, columns=['Acc_Left_Shin'])\n",
    "acclt = pca.fit_transform(acclt)\n",
    "accltDF = pd.DataFrame(data = acclt, columns=['Acc_Left_thigh'])\n",
    "\n",
    "gyrorf = pca.fit_transform(gyrorf)\n",
    "gyrorfDF = pd.DataFrame(data = gyrorf, columns=['Gyro_Right_Foot'])\n",
    "gyrors = pca.fit_transform(gyrors)\n",
    "gyrorsDF = pd.DataFrame(data = gyrors, columns=['Gyro_Right_Shin'])\n",
    "gyrort = pca.fit_transform(gyrort)\n",
    "gyrortDF = pd.DataFrame(data = gyrort, columns=['Gyro_Right_thigh'])\n",
    "gyrolf = pca.fit_transform(gyrolf)\n",
    "gyrolfDF = pd.DataFrame(data = gyrolf, columns=['Gyro_Left_Foot'])\n",
    "gyrols = pca.fit_transform(gyrols)\n",
    "gyrolsDF = pd.DataFrame(data = gyrols, columns=['Gyro_Left_Shin'])\n",
    "gyrolt = pca.fit_transform(gyrolt)\n",
    "gyroltDF = pd.DataFrame(data = gyrolt, columns=['Gyro_Left_thigh'])\n"
   ]
  },
  {
   "cell_type": "markdown",
   "id": "7a18c31e-ebea-4d74-866c-59a49ea08d1a",
   "metadata": {},
   "source": [
    "### PCA_Acc / PCA_Gyro / PCA_Acc_Gyro"
   ]
  },
  {
   "cell_type": "code",
   "execution_count": 13,
   "id": "d8addd14-52cd-4536-89a3-23296d7c2a7c",
   "metadata": {},
   "outputs": [],
   "source": [
    "Pca_Acc = pd.concat([accrfDF,accrsDF,accrtDF,acclfDF,acclsDF,accltDF], axis=1)\n",
    "Pca_Gyro = pd.concat([gyrorfDF,gyrorsDF,gyrortDF,gyrolfDF,gyrolsDF,gyroltDF], axis=1)\n",
    "Pca_Acc_Gyro = pd.concat([accrfDF,accrsDF,accrtDF,acclfDF,acclsDF,accltDF,gyrorfDF,gyrorsDF,gyrortDF,gyrolfDF,gyrolsDF,gyroltDF], axis=1)"
   ]
  },
  {
   "cell_type": "markdown",
   "id": "82ec4d8f-807e-4fd3-b77a-3c9a1d522d2b",
   "metadata": {},
   "source": [
    "# Training Data"
   ]
  },
  {
   "cell_type": "code",
   "execution_count": 14,
   "id": "ea8ed333-56b8-447b-ae85-74ed52f5bdd2",
   "metadata": {},
   "outputs": [
    {
     "name": "stdout",
     "output_type": "stream",
     "text": [
      "(1137279, 18)\n",
      "(1137279, 18)\n",
      "(1137279, 36)\n",
      "(1137279, 6)\n",
      "(1137279, 6)\n",
      "(1137279, 12)\n"
     ]
    }
   ],
   "source": [
    "print(Acc.shape)\n",
    "print(Gyro.shape)\n",
    "print(AccGyro.shape)\n",
    "print(Pca_Acc.shape)\n",
    "print(Pca_Gyro.shape)\n",
    "print(Pca_Acc_Gyro.shape)"
   ]
  },
  {
   "cell_type": "markdown",
   "id": "13087032-0882-447b-91f4-3c21680f54be",
   "metadata": {},
   "source": [
    "# Exponential Smoothing"
   ]
  },
  {
   "cell_type": "code",
   "execution_count": 15,
   "id": "f6693809-121f-48ce-b09e-fc08d260da14",
   "metadata": {},
   "outputs": [],
   "source": [
    "# pip install --upgrade --no-deps statsmodels"
   ]
  },
  {
   "cell_type": "code",
   "execution_count": 16,
   "id": "7a911e64-74e3-4828-bfba-a03f8e6b82dd",
   "metadata": {},
   "outputs": [],
   "source": [
    "# pip install patsy"
   ]
  },
  {
   "cell_type": "code",
   "execution_count": 17,
   "id": "ee1594b0-219f-4c89-9413-12c125bf108e",
   "metadata": {},
   "outputs": [],
   "source": [
    "# from statsmodels.tsa.api import ExponentialSmoothing, SimpleExpSmoothing, Holt\n",
    "\n",
    "# EMGR = DataSet['EMG_right'].values\n",
    "# act = DataSet['activity'].values\n",
    "\n",
    "# data = EMGR\n",
    "# index = act\n",
    "# test = pd.Series(data,index)\n",
    "\n",
    "# ax = test.plot()\n",
    "# ax.set_xlabel('motion')\n",
    "# ax.set_ylabel('EMG_right')\n",
    "# print(\"Figure : EMG value in motion\")"
   ]
  },
  {
   "cell_type": "code",
   "execution_count": 18,
   "id": "c522ae0a-dce4-4422-b03e-5f7f86eac63d",
   "metadata": {},
   "outputs": [],
   "source": [
    "# fit1 = SimpleExpSmoothing(test, initialization_method=\"heuristic\").fit(smoothing_level=0.2,optimized=False)\n",
    "# fcast1 = fit1.forecast(3).rename(r'$\\alpha=0.2$')\n",
    "\n",
    "# fit2 = SimpleExpSmoothing(test, initialization_method=\"heuristic\").fit(smoothing_level=0.6,optimized=False)\n",
    "# fcast2 = fit2.forecast(3).rename(r'$\\alpha=0.6$')\n",
    "\n",
    "# fit3 = SimpleExpSmoothing(test, initialization_method=\"estimated\").fit()\n",
    "# fcast3 = fit3.forecast(3).rename(r'$\\alpha=%s$'%fit3.model.params['smoothing_level'])\n",
    "\n",
    "# plt.figure(figsize=(15, 10))\n",
    "# plt.plot(test, marker='o', color='black')\n",
    "# plt.plot(fit1.fittedvalues, marker='o', color='blue')\n",
    "\n",
    "# line1, = plt.plot(fcast1, marker='o', color='blue')\n",
    "# plt.plot(fit2.fittedvalues, marker='o', color='red')\n",
    "\n",
    "# line2, = plt.plot(fcast2, marker='o', color='red')\n",
    "# plt.plot(fit3.fittedvalues, marker='o', color='green')\n",
    "\n",
    "# line3, = plt.plot(fcast3, marker='o', color='green')\n",
    "# plt.legend([line1, line2, line3], [fcast1.name, fcast2.name, fcast3.name])"
   ]
  },
  {
   "cell_type": "code",
   "execution_count": 19,
   "id": "7e761d89-204d-41fa-b7a3-cc9ff7066f4a",
   "metadata": {},
   "outputs": [],
   "source": [
    "# data = [446.6565,  454.4733,  455.663 ,  423.6322,  456.2713,  440.5881, 425.3325,  485.1494,  506.0482,  526.792 ,  514.2689,  494.211 ]\n",
    "# index= pd.date_range(start='1996', end='2008', freq='A')\n",
    "# oildata = pd.Series(data, index)\n",
    "\n",
    "# data = [17.5534,  21.86  ,  23.8866,  26.9293,  26.8885,  28.8314, 30.0751,  30.9535,  30.1857,  31.5797,  32.5776,  33.4774, 39.0216,  41.3864,  41.5966]\n",
    "# index= pd.date_range(start='1990', end='2005', freq='A')\n",
    "# air = pd.Series(data, index)\n",
    "\n",
    "# data = [263.9177,  268.3072,  260.6626,  266.6394,  277.5158,  283.834 , 290.309 ,  292.4742,  300.8307,  309.2867,  318.3311,  329.3724, 338.884 ,  339.2441,  328.6006,  314.2554,  314.4597,  321.4138, 329.7893,  346.3852,  352.2979,  348.3705,  417.5629,  417.1236, 417.7495,  412.2339,  411.9468,  394.6971,  401.4993,  408.2705, 414.2428]\n",
    "# index= pd.date_range(start='1970', end='2001', freq='A')\n",
    "# livestock2 = pd.Series(data, index)\n",
    "\n",
    "# data = [407.9979 ,  403.4608,  413.8249,  428.105 ,  445.3387,  452.9942, 455.7402]\n",
    "# index= pd.date_range(start='2001', end='2008', freq='A')\n",
    "# livestock3 = pd.Series(data, index)\n",
    "\n",
    "# data = [41.7275,  24.0418,  32.3281,  37.3287,  46.2132,  29.3463, 36.4829,  42.9777,  48.9015,  31.1802,  37.7179,  40.4202, 51.2069,  31.8872,  40.9783,  43.7725,  55.5586,  33.8509, 42.0764,  45.6423,  59.7668,  35.1919,  44.3197,  47.9137]\n",
    "# index= pd.date_range(start='2005', end='2010-Q4', freq='QS-OCT')\n",
    "# aust = pd.Series(data, index)"
   ]
  },
  {
   "cell_type": "code",
   "execution_count": 20,
   "id": "a77aa908-495c-43d7-822f-c4c4905c17af",
   "metadata": {},
   "outputs": [],
   "source": [
    "# ax=oildata.plot()\n",
    "# ax.set_xlabel(\"Year\")\n",
    "# ax.set_ylabel(\"Oil (millions of tonnes)\")\n",
    "# print(\"Figure 7.1: Oil production in Saudi Arabia from 1996 to 2007.\")"
   ]
  },
  {
   "cell_type": "code",
   "execution_count": 21,
   "id": "98f75254-1f9a-4b1a-8775-c82582bf3e62",
   "metadata": {},
   "outputs": [],
   "source": [
    "# fit1 = SimpleExpSmoothing(oildata, initialization_method=\"heuristic\").fit(smoothing_level=0.2,optimized=False)\n",
    "# fcast1 = fit1.forecast(3).rename(r'$\\alpha=0.2$')\n",
    "# fit2 = SimpleExpSmoothing(oildata, initialization_method=\"heuristic\").fit(smoothing_level=0.6,optimized=False)\n",
    "# fcast2 = fit2.forecast(3).rename(r'$\\alpha=0.6$')\n",
    "# fit3 = SimpleExpSmoothing(oildata, initialization_method=\"estimated\").fit()\n",
    "# fcast3 = fit3.forecast(3).rename(r'$\\alpha=%s$'%fit3.model.params['smoothing_level'])\n",
    "\n",
    "# plt.figure(figsize=(12, 8))\n",
    "# plt.plot(oildata, marker='o', color='black')\n",
    "# plt.plot(fit1.fittedvalues, marker='o', color='blue')\n",
    "# line1, = plt.plot(fcast1, marker='o', color='blue')\n",
    "# plt.plot(fit2.fittedvalues, marker='o', color='red')\n",
    "# line2, = plt.plot(fcast2, marker='o', color='red')\n",
    "# plt.plot(fit3.fittedvalues, marker='o', color='green')\n",
    "# line3, = plt.plot(fcast3, marker='o', color='green')\n",
    "# plt.legend([line1, line2, line3], [fcast1.name, fcast2.name, fcast3.name])"
   ]
  },
  {
   "cell_type": "markdown",
   "id": "26f20e11-c172-4d54-9e00-b24a3db43e2a",
   "metadata": {},
   "source": [
    "### Data Shape"
   ]
  },
  {
   "cell_type": "code",
   "execution_count": 22,
   "id": "072eae7c-eb53-4dba-a1a2-9b923f3c8cc8",
   "metadata": {},
   "outputs": [
    {
     "name": "stdout",
     "output_type": "stream",
     "text": [
      "(1137279, 18)\n",
      "(1137279, 18)\n",
      "(1137279, 36)\n",
      "(1137279, 6)\n",
      "(1137279, 6)\n",
      "(1137279, 12)\n"
     ]
    }
   ],
   "source": [
    "print(Acc.shape)\n",
    "print(Gyro.shape)\n",
    "print(AccGyro.shape)\n",
    "print(Pca_Acc.shape)\n",
    "print(Pca_Gyro.shape)\n",
    "print(Pca_Acc_Gyro.shape)"
   ]
  },
  {
   "cell_type": "markdown",
   "id": "c3b50537-a2c3-4571-86ae-632bf38cb406",
   "metadata": {},
   "source": [
    "### Target"
   ]
  },
  {
   "cell_type": "code",
   "execution_count": 23,
   "id": "8954467b-7d80-4c39-a2a1-111c8ece855f",
   "metadata": {},
   "outputs": [
    {
     "data": {
      "text/plain": [
       "activity        \n",
       "walking             314966\n",
       "standing            222345\n",
       "going_up            135127\n",
       "going_down          119819\n",
       "up_by_elevator       89144\n",
       "sitting              82574\n",
       "down_by_elevator     68762\n",
       "running              65917\n",
       "standing_up          20506\n",
       "sitting_down         18119\n",
       "dtype: int64"
      ]
     },
     "execution_count": 23,
     "metadata": {},
     "output_type": "execute_result"
    }
   ],
   "source": [
    "motion = DataSet[['activity']]\n",
    "motion.value_counts()"
   ]
  },
  {
   "cell_type": "markdown",
   "id": "cc5d4893-37f2-412b-aa70-4beef7225af3",
   "metadata": {},
   "source": [
    "## One-Hot Encoding"
   ]
  },
  {
   "cell_type": "code",
   "execution_count": 24,
   "id": "70fd7043-271b-4673-8884-1359cdb23dd0",
   "metadata": {},
   "outputs": [],
   "source": [
    "from sklearn.preprocessing import OneHotEncoder\n",
    "\n",
    "enc = OneHotEncoder()\n",
    "enc.fit(motion)\n",
    "motion_onehot = enc.transform(motion).toarray()"
   ]
  },
  {
   "cell_type": "markdown",
   "id": "979604e2-df0c-4a6f-b966-e20d0d2a5f96",
   "metadata": {},
   "source": [
    "## Train,Test Split"
   ]
  },
  {
   "cell_type": "code",
   "execution_count": 25,
   "id": "70c80322-e243-4969-945b-71f0b966be98",
   "metadata": {},
   "outputs": [],
   "source": [
    "x_train_all, x_test, y_train_all,y_test = train_test_split(AccGyro, motion_onehot, stratify=motion, test_size=0.2, random_state=42)\n",
    "x_train, x_val, y_train, y_val = train_test_split(x_train_all, y_train_all, stratify=y_train_all, test_size=0.2, random_state=42)"
   ]
  },
  {
   "cell_type": "code",
   "execution_count": 26,
   "id": "e1e5c76a-535c-481e-a085-5b1fe8df60c2",
   "metadata": {},
   "outputs": [],
   "source": [
    "# pcax_train_all, pcax_test, pcay_train_all, pcay_test = train_test_split(Pca_Acc_Gyro, motion_onehot, stratify=motion, test_size=0.2, random_state=42)\n",
    "# pcax_train, pcax_val, pcay_train, pcay_val = train_test_split(pcax_train_all, pcay_train_all, stratify=pcay_train_all, test_size=0.2, random_state=42)"
   ]
  },
  {
   "cell_type": "code",
   "execution_count": 27,
   "id": "f7802526-dcf3-42d5-b851-52db0e880b48",
   "metadata": {},
   "outputs": [
    {
     "name": "stdout",
     "output_type": "stream",
     "text": [
      "(909823, 36)\n",
      "(909823, 10)\n",
      "(727858, 36)\n",
      "(727858, 10)\n",
      "(227456, 36)\n",
      "(227456, 10)\n",
      "(181965, 36)\n",
      "(181965, 10)\n",
      "\n"
     ]
    }
   ],
   "source": [
    "print(x_train_all.shape)\n",
    "print(y_train_all.shape)\n",
    "print(x_train.shape)\n",
    "print(y_train.shape)\n",
    "print(x_test.shape)\n",
    "print(y_test.shape)\n",
    "print(x_val.shape)\n",
    "print(y_val.shape)\n",
    "print()\n",
    "# print(pcax_train_all.shape)\n",
    "# print(pcay_train_all.shape)\n",
    "# print(pcax_train.shape)\n",
    "# print(pcay_train.shape)\n",
    "# print(pcax_test.shape)\n",
    "# print(pcay_test.shape)\n",
    "# print(pcax_val.shape)\n",
    "# print(pcay_val.shape)\n"
   ]
  },
  {
   "cell_type": "markdown",
   "id": "1c80ec05-c86e-45a0-ae92-98278973b278",
   "metadata": {},
   "source": [
    "# Model create (MLP)"
   ]
  },
  {
   "cell_type": "code",
   "execution_count": 28,
   "id": "5617b3a8-321d-4ac9-844b-faa83ae7f0ac",
   "metadata": {},
   "outputs": [
    {
     "name": "stdout",
     "output_type": "stream",
     "text": [
      "Model: \"sequential\"\n",
      "_________________________________________________________________\n",
      "Layer (type)                 Output Shape              Param #   \n",
      "=================================================================\n",
      "dense (Dense)                (None, 10000)             370000    \n",
      "_________________________________________________________________\n",
      "activation (Activation)      (None, 10000)             0         \n",
      "_________________________________________________________________\n",
      "dense_1 (Dense)              (None, 5000)              50005000  \n",
      "_________________________________________________________________\n",
      "activation_1 (Activation)    (None, 5000)              0         \n",
      "_________________________________________________________________\n",
      "dense_2 (Dense)              (None, 1000)              5001000   \n",
      "_________________________________________________________________\n",
      "activation_2 (Activation)    (None, 1000)              0         \n",
      "_________________________________________________________________\n",
      "dense_3 (Dense)              (None, 500)               500500    \n",
      "_________________________________________________________________\n",
      "activation_3 (Activation)    (None, 500)               0         \n",
      "_________________________________________________________________\n",
      "dense_4 (Dense)              (None, 180)               90180     \n",
      "_________________________________________________________________\n",
      "activation_4 (Activation)    (None, 180)               0         \n",
      "_________________________________________________________________\n",
      "dense_5 (Dense)              (None, 10)                1810      \n",
      "_________________________________________________________________\n",
      "activation_5 (Activation)    (None, 10)                0         \n",
      "=================================================================\n",
      "Total params: 55,968,490\n",
      "Trainable params: 55,968,490\n",
      "Non-trainable params: 0\n",
      "_________________________________________________________________\n"
     ]
    },
    {
     "data": {
      "image/png": "[encoded data removed]",
      "text/plain": [
       "<IPython.core.display.Image object>"
      ]
     },
     "execution_count": 28,
     "metadata": {},
     "output_type": "execute_result"
    }
   ],
   "source": [
    "from tensorflow.keras import Sequential\n",
    "from tensorflow.keras.layers import Dense, Activation\n",
    "import tensorflow as tf\n",
    "\n",
    "model = Sequential()\n",
    "model.add(Dense(10000, input_shape=(36, )))\n",
    "model.add(Activation('sigmoid'))\n",
    "model.add(Dense(5000))\n",
    "model.add(Activation('relu'))\n",
    "model.add(Dense(1000))\n",
    "model.add(Activation('relu'))\n",
    "model.add(Dense(500))\n",
    "model.add(Activation('relu'))\n",
    "model.add(Dense(180))\n",
    "model.add(Activation('relu'))\n",
    "model.add(Dense(10))\n",
    "model.add(Activation('softmax'))\n",
    "model.compile(optimizer='adam', loss='categorical_crossentropy', metrics=['accuracy'])\n",
    "\n",
    "model.summary()\n",
    "\n",
    "tf.keras.utils.plot_model(model,to_file=\"/home/master/Jibum/Motion_Show/HAR/MLP.png\",\n",
    "    show_shapes=True,\n",
    "    show_dtype=True,\n",
    "    show_layer_names=True,\n",
    "    rankdir=\"TB\",\n",
    "    expand_nested=False,\n",
    "    dpi=96,\n",
    ")\n"
   ]
  },
  {
   "cell_type": "code",
   "execution_count": 29,
   "id": "29346bc1-574c-4e6c-96e0-69e0f4105781",
   "metadata": {},
   "outputs": [
    {
     "name": "stdout",
     "output_type": "stream",
     "text": [
      "Epoch 1/10\n",
      "22746/22746 [==============================] - 165s 7ms/step - loss: 0.7741 - accuracy: 0.7149 - val_loss: 0.6646 - val_accuracy: 0.7557\n",
      "Epoch 2/10\n",
      "22746/22746 [==============================] - 165s 7ms/step - loss: 0.6287 - accuracy: 0.7642 - val_loss: 0.5880 - val_accuracy: 0.7767\n",
      "Epoch 3/10\n",
      "22746/22746 [==============================] - 166s 7ms/step - loss: 0.5879 - accuracy: 0.7781 - val_loss: 0.5804 - val_accuracy: 0.7823\n",
      "Epoch 4/10\n",
      "22746/22746 [==============================] - 166s 7ms/step - loss: 0.5653 - accuracy: 0.7852 - val_loss: 0.5447 - val_accuracy: 0.7928\n",
      "Epoch 5/10\n",
      "22746/22746 [==============================] - 167s 7ms/step - loss: 0.5540 - accuracy: 0.7893 - val_loss: 0.5313 - val_accuracy: 0.7933\n",
      "Epoch 6/10\n",
      "22746/22746 [==============================] - 166s 7ms/step - loss: 0.5438 - accuracy: 0.7921 - val_loss: 0.5372 - val_accuracy: 0.7945\n",
      "Epoch 7/10\n",
      "22746/22746 [==============================] - 167s 7ms/step - loss: 0.5367 - accuracy: 0.7948 - val_loss: 0.5388 - val_accuracy: 0.7908\n",
      "Epoch 8/10\n",
      "22746/22746 [==============================] - 167s 7ms/step - loss: 0.5303 - accuracy: 0.7962 - val_loss: 0.5425 - val_accuracy: 0.7897\n",
      "Epoch 9/10\n",
      "22746/22746 [==============================] - 169s 7ms/step - loss: 0.5245 - accuracy: 0.7981 - val_loss: 0.5357 - val_accuracy: 0.7980\n",
      "Epoch 10/10\n",
      "22746/22746 [==============================] - 165s 7ms/step - loss: 0.5217 - accuracy: 0.7992 - val_loss: 0.4856 - val_accuracy: 0.8055\n"
     ]
    }
   ],
   "source": [
    "history = model.fit(x_train,y_train, epochs=10, validation_data = (x_val,y_val))"
   ]
  },
  {
   "cell_type": "code",
   "execution_count": 30,
   "id": "99155af6-6490-4ec7-bae3-7fa15710a404",
   "metadata": {},
   "outputs": [
    {
     "data": {
      "text/plain": [
       "Text(0, 0.5, 'loss')"
      ]
     },
     "execution_count": 30,
     "metadata": {},
     "output_type": "execute_result"
    },
    {
     "data": {
      "image/png": "[encoded data removed]",
      "text/plain": [
       "<Figure size 432x288 with 1 Axes>"
      ]
     },
     "metadata": {
      "needs_background": "light"
     },
     "output_type": "display_data"
    }
   ],
   "source": [
    "plt.plot(history.history['loss'])\n",
    "plt.plot(history.history['val_loss'])\n",
    "\n",
    "plt.xlabel('epoch')\n",
    "plt.ylabel('loss')"
   ]
  },
  {
   "cell_type": "code",
   "execution_count": 31,
   "id": "70f83323-f496-403e-bd1d-3ae10fd4678a",
   "metadata": {},
   "outputs": [
    {
     "data": {
      "text/plain": [
       "Text(0, 0.5, 'accuracy')"
      ]
     },
     "execution_count": 31,
     "metadata": {},
     "output_type": "execute_result"
    },
    {
     "data": {
      "image/png": "[encoded data removed]",
      "text/plain": [
       "<Figure size 432x288 with 1 Axes>"
      ]
     },
     "metadata": {
      "needs_background": "light"
     },
     "output_type": "display_data"
    }
   ],
   "source": [
    "plt.plot(history.history['accuracy'])\n",
    "plt.plot(history.history['val_accuracy'])\n",
    "plt.xlabel('epoch')\n",
    "plt.ylabel('accuracy')"
   ]
  },
  {
   "cell_type": "code",
   "execution_count": 32,
   "id": "260497af-db5b-491e-8d3b-ece7e9b3cf42",
   "metadata": {},
   "outputs": [
    {
     "name": "stdout",
     "output_type": "stream",
     "text": [
      "7108/7108 [==============================] - 12s 2ms/step - loss: 0.4922 - accuracy: 0.8046\n",
      "['loss', 'accuracy']\n",
      "[0.49218323826789856, 0.804617166519165]\n",
      "loss : 0.49218323826789856\n",
      "Accuray : 0.804617166519165\n"
     ]
    }
   ],
   "source": [
    "result = model.evaluate(x_test,y_test)\n",
    "\n",
    "print(model.metrics_names)\n",
    "print(result)\n",
    "print(\"loss :\", result[0])\n",
    "print(\"Accuray :\", result[1])"
   ]
  },
  {
   "cell_type": "code",
   "execution_count": 33,
   "id": "dd44fc32-2578-40d6-850e-ec96d62a4f63",
   "metadata": {},
   "outputs": [],
   "source": [
    "# from tensorflow.keras import Sequential\n",
    "# from tensorflow.keras.layers import Dense, Activation\n",
    "# import tensorflow as tf\n",
    "\n",
    "# model = Sequential()\n",
    "# model.add(Dense(1000, input_shape=(12, )))\n",
    "# model.add(Activation('sigmoid'))\n",
    "# model.add(Dense(600))\n",
    "# model.add(Activation('relu'))\n",
    "# model.add(Dense(180))\n",
    "# model.add(Activation('relu'))\n",
    "# model.add(Dense(10))\n",
    "# model.add(Activation('softmax'))\n",
    "# model.compile(optimizer='adam', loss='categorical_crossentropy', metrics=['accuracy'])\n",
    "\n",
    "# model.summary()\n",
    "\n",
    "# tf.keras.utils.plot_model(model,to_file=\"/home/master/Jibum/Motion_Show/HAR/MLP.png\",\n",
    "#     show_shapes=True,\n",
    "#     show_dtype=True,\n",
    "#     show_layer_names=True,\n",
    "#     rankdir=\"TB\",\n",
    "#     expand_nested=False,\n",
    "#     dpi=96,\n",
    "# )\n",
    "\n",
    "# pcahistory = model.fit(pcax_train, pcay_train, epochs=30, validation_data = (pcax_val, pcay_val))"
   ]
  },
  {
   "cell_type": "code",
   "execution_count": 34,
   "id": "6fdcb673-41a8-4d56-8fe0-b7ebf302499d",
   "metadata": {},
   "outputs": [],
   "source": [
    "# plt.plot(pcahistory.history['loss'])\n",
    "# plt.plot(pcahistory.history['val_loss'])\n",
    "# plt.xlabel('epoch')\n",
    "# plt.ylabel('loss')"
   ]
  },
  {
   "cell_type": "code",
   "execution_count": 35,
   "id": "00e82d90-fdc9-4018-97be-2b1bd1e27a91",
   "metadata": {},
   "outputs": [],
   "source": [
    "# plt.plot(pcahistory.history['accuracy'])\n",
    "# plt.plot(pcahistory.history['val_accuracy'])\n",
    "# plt.xlabel('epoch')\n",
    "# plt.ylabel('accuracy')"
   ]
  },
  {
   "cell_type": "code",
   "execution_count": 36,
   "id": "40410d8b-9633-4a1a-882a-6f229d5a921f",
   "metadata": {},
   "outputs": [],
   "source": [
    "# result = model.evaluate(pcax_test,pcay_test)\n",
    "\n",
    "# print(model.metrics_names)\n",
    "# print(result)\n",
    "# print(\"loss :\", result[0])\n",
    "# print(\"Accuray :\", result[1])"
   ]
  },
  {
   "cell_type": "code",
   "execution_count": null,
   "id": "eff71eb7-c455-4f88-a35c-b3a8ef5ff863",
   "metadata": {},
   "outputs": [],
   "source": []
  }
 ],
 "metadata": {
  "kernelspec": {
   "display_name": "Python 3",
   "language": "python",
   "name": "python3"
  },
  "language_info": {
   "codemirror_mode": {
    "name": "ipython",
    "version": 3
   },
   "file_extension": ".py",
   "mimetype": "text/x-python",
   "name": "python",
   "nbconvert_exporter": "python",
   "pygments_lexer": "ipython3",
   "version": "3.8.8"
  }
 },
 "nbformat": 4,
 "nbformat_minor": 5
}
