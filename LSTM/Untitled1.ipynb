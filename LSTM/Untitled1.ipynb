{
 "cells": [
  {
   "cell_type": "code",
   "execution_count": 5,
   "id": "2ba50535-2e12-409d-9317-d7f7688ad17e",
   "metadata": {},
   "outputs": [
    {
     "name": "stdout",
     "output_type": "stream",
     "text": [
      "True\n",
      "0\n",
      "2\n",
      "GeForce RTX 2080 Ti\n",
      "<torch.cuda.device object at 0x7fd30ce9c820>\n"
     ]
    }
   ],
   "source": [
    "import torch\n",
    " \n",
    "#  Returns a bool indicating if CUDA is currently available.\n",
    "print(torch.cuda.is_available())\n",
    "#  True\n",
    " \n",
    "#  Returns the index of a currently selected device.\n",
    "print(torch.cuda.current_device())\n",
    "#  0\n",
    " \n",
    "#  Returns the number of GPUs available.\n",
    "print(torch.cuda.device_count())\n",
    "#  1\n",
    " \n",
    "#  Gets the name of a device.\n",
    "print(torch.cuda.get_device_name(0))\n",
    "#  'GeForce GTX 1060'\n",
    " \n",
    "#  Context-manager that changes the selected device.\n",
    "#  device (torch.device or int) – device index to select. \n",
    "print(torch.cuda.device(0))"
   ]
  },
  {
   "cell_type": "code",
   "execution_count": null,
   "id": "67c7ce67-d416-4f76-8c64-5387fa7a399c",
   "metadata": {},
   "outputs": [],
   "source": []
  }
 ],
 "metadata": {
  "kernelspec": {
   "display_name": "Python 3",
   "language": "python",
   "name": "python3"
  },
  "language_info": {
   "codemirror_mode": {
    "name": "ipython",
    "version": 3
   },
   "file_extension": ".py",
   "mimetype": "text/x-python",
   "name": "python",
   "nbconvert_exporter": "python",
   "pygments_lexer": "ipython3",
   "version": "3.8.8"
  }
 },
 "nbformat": 4,
 "nbformat_minor": 5
}
