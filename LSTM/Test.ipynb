{
 "cells": [
  {
   "cell_type": "code",
   "execution_count": 1,
   "id": "993f359a-3f5e-411f-9d81-63a4bf432b43",
   "metadata": {},
   "outputs": [],
   "source": [
    "%matplotlib inline\n",
    "import pandas as pd\n",
    "import numpy as np\n",
    "import matplotlib.pyplot as plt\n",
    "from mpl_toolkits.mplot3d import Axes3D\n",
    "from matplotlib import cm\n",
    "from matplotlib.ticker import LinearLocator, FormatStrFormatter\n",
    "\n",
    "walk = pd.read_csv('walk1.csv')\n",
    "walk2 = pd.read_csv('walk_2.csv')"
   ]
  },
  {
   "cell_type": "code",
   "execution_count": 2,
   "id": "58be0acf-e326-445c-bcc7-a7fbfb94e503",
   "metadata": {},
   "outputs": [],
   "source": [
    "walk = walk.iloc[:, 4:30]"
   ]
  },
  {
   "cell_type": "code",
   "execution_count": 3,
   "id": "eb02c3d7-fb3f-49cc-b3c9-135be0aef116",
   "metadata": {},
   "outputs": [],
   "source": [
    "walk2 = walk2.iloc[:, 4:30]"
   ]
  },
  {
   "cell_type": "code",
   "execution_count": 16,
   "id": "46dfd60b-bbc7-4258-8fa0-d7c0a8268c66",
   "metadata": {},
   "outputs": [],
   "source": [
    "joint = list(walk.columns)\n",
    "joint2 = list(walk2.columns)"
   ]
  },
  {
   "cell_type": "code",
   "execution_count": 17,
   "id": "8ef31ebe-1e3e-4185-a4fc-57c1233b71ab",
   "metadata": {},
   "outputs": [
    {
     "name": "stdout",
     "output_type": "stream",
     "text": [
      "Robot_Hips.X\n",
      "Robot_Hips.Y\n",
      "Robot_Hips.Z\n",
      "Robot_LeftUpLeg.X\n",
      "Robot_LeftUpLeg.Y\n",
      "Robot_LeftUpLeg.Z\n",
      "Robot_LeftLeg.X\n",
      "Robot_LeftLeg.Y\n",
      "Robot_LeftLeg.Z\n",
      "Robot_LeftFoot.X\n",
      "Robot_LeftFoot.Y\n",
      "Robot_LeftFoot.Z\n",
      "Robot_LeftToeBase.X\n",
      "Robot_LeftToeBase.Y\n",
      "Robot_LeftToeBase.Z\n",
      "Robot_RightUpLeg.X\n",
      "Robot_RightUpLeg.Y\n",
      "Robot_RightUpLeg.Z\n",
      "Robot_RightLeg.X\n",
      "Robot_RightLeg.Y\n",
      "Robot_RightLeg.Z\n",
      "Robot_RightFoot.X\n",
      "Robot_RightFoot.Y\n",
      "Robot_RightFoot.Z\n",
      "Robot_RightToeBase.X\n",
      "Robot_RightToeBase.Y\n"
     ]
    }
   ],
   "source": [
    "for i in joint:\n",
    "    print(i)"
   ]
  },
  {
   "cell_type": "code",
   "execution_count": 18,
   "id": "a16b800e-0d0e-4bcd-89b2-0c5444bc9aa8",
   "metadata": {},
   "outputs": [
    {
     "name": "stdout",
     "output_type": "stream",
     "text": [
      "Robot_Hips.X\n",
      "Robot_Hips.Y\n",
      "Robot_Hips.Z\n",
      "Robot_LeftUpLeg.X\n",
      "Robot_LeftUpLeg.Y\n",
      "Robot_LeftUpLeg.Z\n",
      "Robot_LeftLeg.X\n",
      "Robot_LeftLeg.Y\n",
      "Robot_LeftLeg.Z\n",
      "Robot_LeftFoot.X\n",
      "Robot_LeftFoot.Y\n",
      "Robot_LeftFoot.Z\n",
      "Robot_LeftToeBase.X\n",
      "Robot_LeftToeBase.Y\n",
      "Robot_LeftToeBase.Z\n",
      "Robot_RightUpLeg.X\n",
      "Robot_RightUpLeg.Y\n",
      "Robot_RightUpLeg.Z\n",
      "Robot_RightLeg.X\n",
      "Robot_RightLeg.Y\n",
      "Robot_RightLeg.Z\n",
      "Robot_RightFoot.X\n",
      "Robot_RightFoot.Y\n",
      "Robot_RightFoot.Z\n",
      "Robot_RightToeBase.X\n",
      "Robot_RightToeBase.Y\n"
     ]
    }
   ],
   "source": [
    "for i in joint2:\n",
    "    print(i)"
   ]
  },
  {
   "cell_type": "code",
   "execution_count": 20,
   "id": "724f5262-647f-4780-8854-a6344c1c6ef8",
   "metadata": {},
   "outputs": [
    {
     "data": {
      "text/plain": [
       "[<matplotlib.lines.Line2D at 0x7f20fc15c1c0>]"
      ]
     },
     "execution_count": 20,
     "metadata": {},
     "output_type": "execute_result"
    },
    {
     "data": {
      "image/png": "[encoded data removed]",
      "text/plain": [
       "<Figure size 432x288 with 1 Axes>"
      ]
     },
     "metadata": {
      "needs_background": "light"
     },
     "output_type": "display_data"
    }
   ],
   "source": [
    "plt.plot(joint)"
   ]
  },
  {
   "cell_type": "code",
   "execution_count": null,
   "id": "94cd3e96-84a3-46fc-92b0-d9396b66ec7c",
   "metadata": {},
   "outputs": [],
   "source": []
  }
 ],
 "metadata": {
  "kernelspec": {
   "display_name": "Python 3",
   "language": "python",
   "name": "python3"
  },
  "language_info": {
   "codemirror_mode": {
    "name": "ipython",
    "version": 3
   },
   "file_extension": ".py",
   "mimetype": "text/x-python",
   "name": "python",
   "nbconvert_exporter": "python",
   "pygments_lexer": "ipython3",
   "version": "3.8.8"
  }
 },
 "nbformat": 4,
 "nbformat_minor": 5
}
