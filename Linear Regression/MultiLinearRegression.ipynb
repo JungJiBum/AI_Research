{
 "cells": [
  {
   "cell_type": "code",
   "execution_count": 1,
   "id": "atomic-sympathy",
   "metadata": {},
   "outputs": [
    {
     "data": {
      "text/plain": [
       "Index(['CRIM', 'ZN', 'INDUS', 'CHAS', 'NOX', 'RM', 'AGE', 'DIS', 'RAD', 'TAX',\n",
       "       'PTRATIO', 'B', 'LSTAT', 'MEDV'],\n",
       "      dtype='object')"
      ]
     },
     "execution_count": 1,
     "metadata": {},
     "output_type": "execute_result"
    }
   ],
   "source": [
    "import tensorflow as tf\n",
    "import pandas as pd\n",
    "import matplotlib.pyplot as plt\n",
    "\n",
    "df =pd.read_csv('train_dataset.csv')\n",
    "test = pd.read_csv('test_dataset.csv')\n",
    "\n",
    "df.columns"
   ]
  },
  {
   "cell_type": "code",
   "execution_count": 2,
   "id": "honest-sphere",
   "metadata": {},
   "outputs": [],
   "source": [
    "variable = df.drop(['MEDV'], axis=1) # MEDV 를 제외한 칼럼들을 독립변수로 사용\n",
    "target = df['MEDV'] # MEDV 값을 종속변수로 사용"
   ]
  },
  {
   "cell_type": "code",
   "execution_count": 3,
   "id": "abandoned-highway",
   "metadata": {},
   "outputs": [
    {
     "name": "stdout",
     "output_type": "stream",
     "text": [
      "(465, 13) (465,)\n"
     ]
    }
   ],
   "source": [
    "print(variable.shape, target.shape)"
   ]
  },
  {
   "cell_type": "code",
   "execution_count": 4,
   "id": "ignored-warrant",
   "metadata": {},
   "outputs": [
    {
     "name": "stdout",
     "output_type": "stream",
     "text": [
      "Model: \"model\"\n",
      "_________________________________________________________________\n",
      "Layer (type)                 Output Shape              Param #   \n",
      "=================================================================\n",
      "input_1 (InputLayer)         [(None, 13)]              0         \n",
      "_________________________________________________________________\n",
      "dense (Dense)                (None, 1)                 14        \n",
      "=================================================================\n",
      "Total params: 14\n",
      "Trainable params: 14\n",
      "Non-trainable params: 0\n",
      "_________________________________________________________________\n"
     ]
    }
   ],
   "source": [
    "# 모델 구조 설계\n",
    "X = tf.keras.layers.Input(shape=[13])\n",
    "Y = tf.keras.layers.Dense(1)(X)\n",
    "model = tf.keras.models.Model(X,Y)\n",
    "model.compile(loss='mse', metrics=['accuracy'])\n",
    "model.summary()"
   ]
  },
  {
   "cell_type": "code",
   "execution_count": 5,
   "id": "serious-mobility",
   "metadata": {},
   "outputs": [
    {
     "name": "stdout",
     "output_type": "stream",
     "text": [
      "Epoch 1/10\n",
      "15/15 [==============================] - 0s 383us/step - loss: 27.3867 - accuracy: 0.0000e+00\n",
      "Epoch 2/10\n",
      "15/15 [==============================] - 0s 466us/step - loss: 27.6556 - accuracy: 0.0000e+00\n",
      "Epoch 3/10\n",
      "15/15 [==============================] - 0s 465us/step - loss: 27.0240 - accuracy: 0.0000e+00\n",
      "Epoch 4/10\n",
      "15/15 [==============================] - 0s 459us/step - loss: 27.4353 - accuracy: 0.0000e+00\n",
      "Epoch 5/10\n",
      "15/15 [==============================] - 0s 457us/step - loss: 27.2187 - accuracy: 0.0000e+00\n",
      "Epoch 6/10\n",
      "15/15 [==============================] - 0s 470us/step - loss: 26.6898 - accuracy: 0.0000e+00\n",
      "Epoch 7/10\n",
      "15/15 [==============================] - 0s 444us/step - loss: 27.9269 - accuracy: 0.0000e+00\n",
      "Epoch 8/10\n",
      "15/15 [==============================] - 0s 431us/step - loss: 27.3253 - accuracy: 0.0000e+00\n",
      "Epoch 9/10\n",
      "15/15 [==============================] - 0s 436us/step - loss: 27.5026 - accuracy: 0.0000e+00\n",
      "Epoch 10/10\n",
      "15/15 [==============================] - 0s 434us/step - loss: 27.2781 - accuracy: 0.0000e+00\n"
     ]
    },
    {
     "data": {
      "text/plain": [
       "<tensorflow.python.keras.callbacks.History at 0x7f5fd45e3c10>"
      ]
     },
     "execution_count": 5,
     "metadata": {},
     "output_type": "execute_result"
    }
   ],
   "source": [
    "#모델 학습\n",
    "model.fit(variable,target,epochs=1000,verbose=0)\n",
    "model.fit(variable,target,epochs=10)"
   ]
  },
  {
   "cell_type": "code",
   "execution_count": 6,
   "id": "progressive-timber",
   "metadata": {},
   "outputs": [
    {
     "name": "stdout",
     "output_type": "stream",
     "text": [
      "[[16.571589]\n",
      " [11.748656]\n",
      " [14.5292  ]\n",
      " [14.98448 ]\n",
      " [16.527554]]\n"
     ]
    }
   ],
   "source": [
    "#모델을 이용한 예측치 산출\n",
    "history = model.predict(test)\n",
    "prediction = pd.DataFrame(history, columns=['predictions']).to_csv('prediction.csv')\n",
    "\n",
    "print(history[:5])"
   ]
  },
  {
   "cell_type": "code",
   "execution_count": 7,
   "id": "apart-albert",
   "metadata": {},
   "outputs": [
    {
     "name": "stdout",
     "output_type": "stream",
     "text": [
      "[[16.571589]\n",
      " [11.748656]\n",
      " [14.5292  ]\n",
      " [14.98448 ]\n",
      " [16.527554]]\n",
      "0    24.0\n",
      "1    21.6\n",
      "2    34.7\n",
      "3    33.4\n",
      "4    36.2\n",
      "Name: MEDV, dtype: float64\n"
     ]
    }
   ],
   "source": [
    "print(model.predict(test[:5]))\n",
    "print(target[:5])"
   ]
  }
 ],
 "metadata": {
  "kernelspec": {
   "display_name": "Python 3",
   "language": "python",
   "name": "python3"
  },
  "language_info": {
   "codemirror_mode": {
    "name": "ipython",
    "version": 3
   },
   "file_extension": ".py",
   "mimetype": "text/x-python",
   "name": "python",
   "nbconvert_exporter": "python",
   "pygments_lexer": "ipython3",
   "version": "3.8.8"
  }
 },
 "nbformat": 4,
 "nbformat_minor": 5
}
