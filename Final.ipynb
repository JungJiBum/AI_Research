{
 "cells": [
  {
   "cell_type": "code",
   "execution_count": 1,
   "id": "0ee31c29-67c7-42b1-9810-72293c7ed9f0",
   "metadata": {},
   "outputs": [],
   "source": [
    "import pandas as pd\n",
    "import numpy as np\n",
    "import matplotlib.pyplot as plt\n",
    "import os\n",
    "import sys\n",
    "import tensorflow as tf\n",
    "import json\n",
    "import csv\n",
    "import seaborn as sns\n",
    "\n",
    "from keras.callbacks import ModelCheckpoint, EarlyStopping\n",
    "from tensorflow import keras\n",
    "from sklearn.model_selection import train_test_split\n",
    "from sklearn.preprocessing import OneHotEncoder\n",
    "from sklearn.preprocessing import MinMaxScaler\n",
    "from sklearn.preprocessing import LabelEncoder\n",
    "\n",
    "from keras.utils import np_utils\n",
    "from tensorflow.keras import Sequential\n",
    "from tensorflow.keras.layers import Dense, Activation"
   ]
  },
  {
   "cell_type": "code",
   "execution_count": 2,
   "id": "fcd9aa66-88e0-4711-946f-ee0d7e8ebe3f",
   "metadata": {},
   "outputs": [],
   "source": [
    "os.environ[\"CUAD_VISIBLE_DEVICES\"]='0'\n",
    "os.environ[\"CUAD_VISIBLE_DEVICES\"]='1'"
   ]
  },
  {
   "cell_type": "code",
   "execution_count": 3,
   "id": "7a109629-7d12-4f7a-af76-9fb727404800",
   "metadata": {},
   "outputs": [],
   "source": [
    "MMS = MinMaxScaler() # MinMaxScaler\n",
    "le = LabelEncoder() # LabelEncoder\n",
    "enc = OneHotEncoder() # OneHotEncoder"
   ]
  },
  {
   "cell_type": "markdown",
   "id": "4e57ea2a-bf2b-4c19-94fd-8d554b0311b4",
   "metadata": {},
   "source": [
    "# 데이터 호출"
   ]
  },
  {
   "cell_type": "code",
   "execution_count": 4,
   "id": "1370b49a-d4c3-42a7-a8c8-6eb344bb5555",
   "metadata": {},
   "outputs": [],
   "source": [
    "axis = pd.read_csv('/home/master/Jibum/Motion_Show/HAR/Final/training_data.csv')"
   ]
  },
  {
   "cell_type": "markdown",
   "id": "819fcd71-4740-49ff-ba10-8131fa3a46c2",
   "metadata": {},
   "source": [
    "# 독립변수, 종속변수 선언"
   ]
  },
  {
   "cell_type": "code",
   "execution_count": 5,
   "id": "29427554-854f-4096-a8ad-1c535226353e",
   "metadata": {},
   "outputs": [],
   "source": [
    "feature = axis.iloc[:,:-1]\n",
    "label = axis['activity']"
   ]
  },
  {
   "cell_type": "markdown",
   "id": "2f3eadce-677f-48f9-a0fe-d87ec194a256",
   "metadata": {},
   "source": [
    "# 라벨인코딩"
   ]
  },
  {
   "cell_type": "code",
   "execution_count": 6,
   "id": "38f3ae0a-9670-4a0a-93bd-b97f2fbf08cf",
   "metadata": {},
   "outputs": [
    {
     "name": "stdout",
     "output_type": "stream",
     "text": [
      "[0 0 0 ... 1 1 1] <class 'numpy.ndarray'> (44946,) ['sit' 'stand' 'walking']\n"
     ]
    }
   ],
   "source": [
    "le.fit(label)\n",
    "label = le.transform(label)\n",
    "print(label, type(label), label.shape, le.classes_)"
   ]
  },
  {
   "cell_type": "markdown",
   "id": "42a67cbe-9d47-496d-98d4-59c83dbfb6c6",
   "metadata": {},
   "source": [
    "# SMOTE 알고리즘"
   ]
  },
  {
   "cell_type": "code",
   "execution_count": 7,
   "id": "efd7b44a-1a9e-4c30-8191-5290169f4d82",
   "metadata": {},
   "outputs": [
    {
     "name": "stdout",
     "output_type": "stream",
     "text": [
      "0.8.1\n"
     ]
    }
   ],
   "source": [
    "import imblearn\n",
    "from collections import Counter\n",
    "print(imblearn.__version__)\n",
    "\n",
    "def count_and_plot(label):\n",
    "    counter = Counter(label)\n",
    "    \n",
    "    for i,j in counter.items():\n",
    "        print(\"Class = %d, n = %d (%.3f%%)\" % (i, j, j/len(label)*100))\n",
    "    \n",
    "    plt.bar(counter.keys(), counter.values())\n",
    "    plt.show()"
   ]
  },
  {
   "cell_type": "code",
   "execution_count": 8,
   "id": "a0e367d4-64a8-4707-8375-290814913cbd",
   "metadata": {},
   "outputs": [
    {
     "name": "stdout",
     "output_type": "stream",
     "text": [
      "Class = 0, n = 15328 (34.103%)\n",
      "Class = 2, n = 12429 (27.653%)\n",
      "Class = 1, n = 17189 (38.244%)\n"
     ]
    },
    {
     "data": {
      "image/png": "[encoded data removed]",
      "text/plain": [
       "<Figure size 432x288 with 1 Axes>"
      ]
     },
     "metadata": {
      "needs_background": "light"
     },
     "output_type": "display_data"
    }
   ],
   "source": [
    "count_and_plot(label)"
   ]
  },
  {
   "cell_type": "code",
   "execution_count": 9,
   "id": "bff33c83-a37b-4589-ae6d-edd5eedc8cf6",
   "metadata": {},
   "outputs": [
    {
     "name": "stdout",
     "output_type": "stream",
     "text": [
      "Class = 0, n = 17189 (33.333%)\n",
      "Class = 2, n = 17189 (33.333%)\n",
      "Class = 1, n = 17189 (33.333%)\n"
     ]
    },
    {
     "data": {
      "image/png": "[encoded data removed]",
      "text/plain": [
       "<Figure size 432x288 with 1 Axes>"
      ]
     },
     "metadata": {
      "needs_background": "light"
     },
     "output_type": "display_data"
    }
   ],
   "source": [
    "from imblearn.over_sampling import SMOTE\n",
    "feature_resampled, label_resampled = SMOTE(random_state=0).fit_resample(feature,label)\n",
    "count_and_plot(label_resampled)"
   ]
  },
  {
   "cell_type": "code",
   "execution_count": 10,
   "id": "59c4c965-4cdc-4635-b977-2071fdd29ef7",
   "metadata": {},
   "outputs": [],
   "source": [
    "label_resampled = np_utils.to_categorical(label_resampled)"
   ]
  },
  {
   "cell_type": "markdown",
   "id": "6119d95f-7330-473a-8270-d58cbcd66fc2",
   "metadata": {},
   "source": [
    "# 스케일링 적용"
   ]
  },
  {
   "cell_type": "code",
   "execution_count": 11,
   "id": "c8dad1a4-93ec-432a-9140-697187a2ba9f",
   "metadata": {},
   "outputs": [],
   "source": [
    "from sklearn.preprocessing import StandardScaler\n",
    "from sklearn.preprocessing import RobustScaler\n",
    "from sklearn.preprocessing import Normalizer\n",
    "\n",
    "nor = Normalizer() \n",
    "rob = RobustScaler() \n",
    "sc = StandardScaler() \n",
    "\n",
    "\n",
    "# feature_resampled = nor.fit_transform(feature_resampled)\n",
    "feature_resampled = rob.fit_transform(feature_resampled)\n",
    "# feature_resampled = sc.fit_transform(feature_resampled)\n"
   ]
  },
  {
   "cell_type": "code",
   "execution_count": 12,
   "id": "afb4df9a-1521-4e9b-b488-65cafb2c954d",
   "metadata": {},
   "outputs": [
    {
     "name": "stdout",
     "output_type": "stream",
     "text": [
      "독립변수 : (51567, 27)\n",
      "종속변수 : (51567, 3)\n"
     ]
    }
   ],
   "source": [
    "print(\"독립변수 : {}\".format(feature_resampled.shape))\n",
    "print(\"종속변수 : {}\".format(label_resampled.shape))"
   ]
  },
  {
   "cell_type": "markdown",
   "id": "48c25823-b3c8-4dd4-a3b6-0e40a8606434",
   "metadata": {},
   "source": [
    "# 데이터 분리"
   ]
  },
  {
   "cell_type": "code",
   "execution_count": 13,
   "id": "de03b49e-2b5e-42b9-85cf-dcb9fe3eed0e",
   "metadata": {},
   "outputs": [],
   "source": [
    "def split(data,target):\n",
    "    x_train_all, x_test, y_train_all, y_test = train_test_split(data, target, stratify=target, test_size=0.2, random_state=42)\n",
    "    x_train, x_val, y_train, y_val = train_test_split(x_train_all, y_train_all, stratify=y_train_all, test_size=0.2, random_state=42)\n",
    "    return x_train_all, x_train, x_val, x_test, y_train_all, y_train, y_val, y_test\n",
    "    "
   ]
  },
  {
   "cell_type": "code",
   "execution_count": 14,
   "id": "7326ccb0-0cb4-4cfa-b80f-f9e5b360e4c4",
   "metadata": {},
   "outputs": [
    {
     "name": "stdout",
     "output_type": "stream",
     "text": [
      "(41253, 27)\n",
      "(33002, 27)\n",
      "(8251, 27)\n",
      "(10314, 27)\n",
      "(41253, 3)\n",
      "(33002, 3)\n",
      "(8251, 3)\n",
      "(10314, 3)\n"
     ]
    }
   ],
   "source": [
    "x_train_all, x_train, x_val, x_test, y_train_all, y_train, y_val, y_test = split(feature_resampled,label_resampled)\n",
    "print(x_train_all.shape)\n",
    "print(x_train.shape)\n",
    "print(x_val.shape)\n",
    "print(x_test.shape)\n",
    "print(y_train_all.shape)\n",
    "print(y_train.shape)\n",
    "print(y_val.shape)\n",
    "print(y_test.shape)"
   ]
  },
  {
   "cell_type": "markdown",
   "id": "e90007b3-c6b2-44bc-806d-02878e9517ea",
   "metadata": {},
   "source": [
    "# 모델 설계"
   ]
  },
  {
   "cell_type": "code",
   "execution_count": 15,
   "id": "af3e127d-ccfc-4b42-9bd3-3da16500d553",
   "metadata": {},
   "outputs": [],
   "source": [
    "from tensorflow import keras\n",
    "\n",
    "def create_model():\n",
    "    model = Sequential([\n",
    "        keras.layers.Dense(units=100, activation='sigmoid', input_shape=(27,)),\n",
    "        keras.layers.Dense(units=50, activation='relu'),\n",
    "        keras.layers.Dense(units=25, activation='relu'),\n",
    "        keras.layers.Dense(units=3, activation='softmax') \n",
    "    ])\n",
    "    opt = keras.optimizers.Adam(learning_rate=0.01)\n",
    "    model.compile(optimizer=opt, loss='categorical_crossentropy', metrics=['accuracy'])\n",
    "    \n",
    "    return model\n",
    "\n",
    "early_stop = EarlyStopping(monitor='loss', patience=1, verbose=1)\n"
   ]
  },
  {
   "cell_type": "code",
   "execution_count": 16,
   "id": "c54698e5-8d39-458f-a71c-7a6e120a9ff9",
   "metadata": {},
   "outputs": [
    {
     "name": "stdout",
     "output_type": "stream",
     "text": [
      "Epoch 1/100\n",
      "1032/1032 [==============================] - 3s 2ms/step - loss: 0.1208 - accuracy: 0.9610 - val_loss: 0.0769 - val_accuracy: 0.9742\n",
      "Epoch 2/100\n",
      "1032/1032 [==============================] - 2s 2ms/step - loss: 0.0659 - accuracy: 0.9808 - val_loss: 0.0559 - val_accuracy: 0.9832\n",
      "Epoch 3/100\n",
      "1032/1032 [==============================] - 2s 2ms/step - loss: 0.0576 - accuracy: 0.9828 - val_loss: 0.0440 - val_accuracy: 0.9867\n",
      "Epoch 4/100\n",
      "1032/1032 [==============================] - 2s 2ms/step - loss: 0.0428 - accuracy: 0.9861 - val_loss: 0.0389 - val_accuracy: 0.9852\n",
      "Epoch 5/100\n",
      "1032/1032 [==============================] - 2s 2ms/step - loss: 0.0329 - accuracy: 0.9892 - val_loss: 0.0313 - val_accuracy: 0.9885\n",
      "Epoch 6/100\n",
      "1032/1032 [==============================] - 2s 2ms/step - loss: 0.0242 - accuracy: 0.9918 - val_loss: 0.0299 - val_accuracy: 0.9882\n",
      "Epoch 7/100\n",
      "1032/1032 [==============================] - 2s 2ms/step - loss: 0.0212 - accuracy: 0.9930 - val_loss: 0.0116 - val_accuracy: 0.9944\n",
      "Epoch 8/100\n",
      "1032/1032 [==============================] - 2s 2ms/step - loss: 0.0172 - accuracy: 0.9945 - val_loss: 0.0135 - val_accuracy: 0.9952\n",
      "Epoch 9/100\n",
      "1032/1032 [==============================] - 2s 2ms/step - loss: 0.0175 - accuracy: 0.9943 - val_loss: 0.0108 - val_accuracy: 0.9964\n",
      "Epoch 00009: early stopping\n"
     ]
    }
   ],
   "source": [
    "model = create_model()\n",
    "\n",
    "history = model.fit(x_train,y_train, epochs=100, validation_data = (x_val,y_val), callbacks=[early_stop])"
   ]
  },
  {
   "cell_type": "code",
   "execution_count": 17,
   "id": "7319bef5-8c40-4dfd-8952-6480c02f8a5b",
   "metadata": {},
   "outputs": [
    {
     "data": {
      "text/plain": [
       "Text(0, 0.5, 'Loss')"
      ]
     },
     "execution_count": 17,
     "metadata": {},
     "output_type": "execute_result"
    },
    {
     "data": {
      "image/png": "[encoded data removed]",
      "text/plain": [
       "<Figure size 432x288 with 1 Axes>"
      ]
     },
     "metadata": {
      "needs_background": "light"
     },
     "output_type": "display_data"
    }
   ],
   "source": [
    "plt.plot(history.history['loss'])\n",
    "plt.plot(history.history['val_loss'])\n",
    "plt.xlabel(\"epoch\",fontsize=20)\n",
    "plt.ylabel(\"Loss\",fontsize=20)\n",
    "# plt.savefig('loss.png')"
   ]
  },
  {
   "cell_type": "code",
   "execution_count": 18,
   "id": "8173d5bd-250e-45c9-b6c8-70c83a30ce23",
   "metadata": {},
   "outputs": [
    {
     "data": {
      "text/plain": [
       "Text(0, 0.5, 'Accuracy')"
      ]
     },
     "execution_count": 18,
     "metadata": {},
     "output_type": "execute_result"
    },
    {
     "data": {
      "image/png": "[encoded data removed]",
      "text/plain": [
       "<Figure size 432x288 with 1 Axes>"
      ]
     },
     "metadata": {
      "needs_background": "light"
     },
     "output_type": "display_data"
    }
   ],
   "source": [
    "plt.plot(history.history['accuracy'])\n",
    "plt.plot(history.history['val_accuracy'])\n",
    "plt.xlabel(\"epoch\",fontsize=20)\n",
    "plt.ylabel(\"Accuracy\",fontsize=20)\n",
    "# plt.savefig('acc.png')"
   ]
  },
  {
   "cell_type": "code",
   "execution_count": 19,
   "id": "06d80afc-3ac1-4ae5-8f94-62be90079aae",
   "metadata": {},
   "outputs": [
    {
     "name": "stdout",
     "output_type": "stream",
     "text": [
      "1032/1032 - 1s - loss: 0.0099 - accuracy: 0.9970\n",
      "train_model acc : 99.69698786735535\n",
      "train_model loss : 0.9866602718830109\n",
      "323/323 - 0s - loss: 0.0109 - accuracy: 0.9967\n",
      "test_model acc : 99.67035055160522%\n",
      "test_model loss : 1.0928941890597343\n"
     ]
    }
   ],
   "source": [
    "loss,acc = model.evaluate(x_train,y_train, verbose=2)\n",
    "print(\"train_model acc : {}\".format(100*acc))\n",
    "print(\"train_model loss : {}\".format(100*loss))\n",
    "\n",
    "loss, acc = model.evaluate(x_test,y_test, verbose=2)\n",
    "print(\"test_model acc : {}%\".format(100*acc))\n",
    "print(\"test_model loss : {}\".format(100*loss))\n"
   ]
  },
  {
   "cell_type": "code",
   "execution_count": null,
   "id": "376df7dc-d088-426f-90dc-f521b6a488d3",
   "metadata": {},
   "outputs": [],
   "source": [
    "def create_model1():\n",
    "    model1 = Sequential([\n",
    "        keras.layers.Dense(units=50, activation='sigmoid', input_shape=(27,)),\n",
    "        keras.layers.Dense(units=25, activation='relu'),\n",
    "        keras.layers.Dense(units=15, activation='relu'),\n",
    "        keras.layers.Dense(units=3, activation='softmax') \n",
    "    ])\n",
    "    opt = keras.optimizers.Adam(learning_rate=0.0001)\n",
    "    model1.compile(optimizer=opt, loss='categorical_crossentropy', metrics=['accuracy'])\n",
    "    \n",
    "    return model1"
   ]
  },
  {
   "cell_type": "code",
   "execution_count": null,
   "id": "1dbdf724-bc69-4405-908d-83351ae3e944",
   "metadata": {},
   "outputs": [],
   "source": [
    "model1 = create_model1()\n",
    "\n",
    "history = model1.fit(x_train,y_train, epochs=100, validation_data = (x_val,y_val), callbacks=[early_stop])"
   ]
  },
  {
   "cell_type": "code",
   "execution_count": null,
   "id": "198b9a61-2db0-40f4-b99d-0d6201d91a1d",
   "metadata": {},
   "outputs": [],
   "source": [
    "plt.plot(history.history['loss'])\n",
    "plt.plot(history.history['val_loss'])\n",
    "plt.xlabel(\"epoch\",fontsize=20)\n",
    "plt.ylabel(\"Loss\",fontsize=20)\n",
    "\n",
    "# plt.savefig('loss.png')"
   ]
  },
  {
   "cell_type": "code",
   "execution_count": null,
   "id": "290d5e79-bf76-41fe-a0f4-c15ebe3b841c",
   "metadata": {},
   "outputs": [],
   "source": [
    "plt.plot(history.history['accuracy'])\n",
    "plt.plot(history.history['val_accuracy'])\n",
    "plt.xlabel(\"epoch\",fontsize=20)\n",
    "plt.ylabel(\"Accuracy\",fontsize=20)\n",
    "\n",
    "# plt.savefig('acc.png')"
   ]
  },
  {
   "cell_type": "code",
   "execution_count": null,
   "id": "ff92f2aa-872e-4674-ab31-d9909d8ecca3",
   "metadata": {},
   "outputs": [],
   "source": [
    "loss,acc = model1.evaluate(x_train,y_train, verbose=2)\n",
    "print(\"train_model acc : {}\".format(100*acc))\n",
    "print(\"train_model loss : {}\".format(100*loss))\n",
    "\n",
    "loss, acc = model1.evaluate(x_test,y_test, verbose=2)\n",
    "print(\"test_model acc : {}%\".format(100*acc))\n",
    "print(\"test_model loss : {}\".format(100*loss))"
   ]
  },
  {
   "cell_type": "code",
   "execution_count": null,
   "id": "084655f7-fe93-4f95-bd65-a89499ea3523",
   "metadata": {},
   "outputs": [],
   "source": [
    "from tensorflow.keras.wrappers.scikit_learn import KerasClassifier\n",
    "from tensorflow.keras.optimizers import Adam\n",
    "from sklearn.model_selection import GridSearchCV\n",
    "\n",
    "def create_model2(learning_rate):\n",
    "    model2 = Sequential([\n",
    "        keras.layers.Dense(units=50, activation='sigmoid', input_shape=(27,)),\n",
    "        keras.layers.Dense(units=25, activation='relu'),\n",
    "        keras.layers.Dense(units=15, activation='relu'),\n",
    "        keras.layers.Dense(units=3, activation='softmax')\n",
    "    ])\n",
    "    model2.compile(optimizer=Adam(learning_rate=learning_rate), loss='categorical_crossentropy', metrics=['accuracy'])\n",
    "    return model2\n",
    "\n",
    "model2 = KerasClassifier(build_fn=create_model2, epochs=100, verbose=0)\n",
    "param_grid = {'learning_rate':[0.1,0.01,0.001,0.0001]}\n",
    "# optimizer = ['SGD', 'RMSprop', 'Adagrad', 'Adadelta', 'Adam', 'Adamax', 'Nadam']\n",
    "# param_grid = dict(optimizer=optimizer)\n",
    "\n",
    "grid = GridSearchCV(estimator=model2, param_grid = param_grid,cv=3)\n",
    "grid_result = grid.fit(x_train,y_train)"
   ]
  },
  {
   "cell_type": "code",
   "execution_count": null,
   "id": "074f6059-aa89-4f66-96a0-2a0b0dcde19f",
   "metadata": {},
   "outputs": [],
   "source": [
    "print(grid.best_params_)\n",
    "print(\"Best: %f using %s\" % (grid_result.best_score_, grid_result.best_params_))\n"
   ]
  },
  {
   "cell_type": "code",
   "execution_count": null,
   "id": "136c75ed-1b22-466c-893a-4d774402d843",
   "metadata": {},
   "outputs": [],
   "source": [
    "from tensorflow.keras.wrappers.scikit_learn import KerasClassifier\n",
    "from tensorflow.keras.optimizers import Adam\n",
    "from sklearn.model_selection import GridSearchCV\n",
    "\n",
    "def create_model2(nu1,nu2,nu3,learning_rate=0.01):\n",
    "    model2 = Sequential([\n",
    "        keras.layers.Dense(nu1, activation='sigmoid', input_shape=(27,)),\n",
    "        keras.layers.Dense(nu2, activation='relu'),\n",
    "        keras.layers.Dense(nu3, activation='relu'),\n",
    "        keras.layers.Dense(units=3, activation='softmax')\n",
    "    ])\n",
    "    opt = keras.optimizers.Adam(learning_rate=0.01)\n",
    "    model2.compile(optimizer=opt, loss='categorical_crossentropy', metrics=['accuracy'])\n",
    "    return model2\n",
    "\n",
    "model2 = KerasClassifier(build_fn=create_model2, epochs=100, verbose=0)\n",
    "param_grid = {'nu1':[100,50],\n",
    "              'nu2':[50,25],\n",
    "              'nu3':[25,15]}\n",
    "# param_grid = {'learning_rate':[0.1,0.01,0.001,0.0001]}\n",
    "# optimizer = ['SGD', 'RMSprop', 'Adagrad', 'Adadelta', 'Adam', 'Adamax', 'Nadam']\n",
    "# param_grid = dict(optimizer=optimizer)\n",
    "\n",
    "grid = GridSearchCV(estimator=model2, param_grid = param_grid,cv=3)\n",
    "grid_result = grid.fit(x_train,y_train)"
   ]
  },
  {
   "cell_type": "code",
   "execution_count": null,
   "id": "06f0de70-45b3-41c0-8b00-a561b9ce87d5",
   "metadata": {},
   "outputs": [],
   "source": [
    "print(grid.best_params_)\n",
    "print(\"Best: %f using %s\" % (grid_result.best_score_, grid_result.best_params_))\n"
   ]
  },
  {
   "cell_type": "code",
   "execution_count": null,
   "id": "da4f70d0-335c-4eca-920e-a06892a5a7f1",
   "metadata": {},
   "outputs": [],
   "source": [
    "from tensorflow.keras.wrappers.scikit_learn import KerasClassifier\n",
    "from tensorflow.keras.optimizers import Adam\n",
    "from sklearn.model_selection import GridSearchCV\n",
    "\n",
    "def create_model2(optimizer,learning_rate=0.01):\n",
    "    model2 = Sequential([\n",
    "        keras.layers.Dense(units=50, activation='sigmoid', input_shape=(27,)),\n",
    "        keras.layers.Dense(units=25, activation='relu'),\n",
    "        keras.layers.Dense(units=15, activation='relu'),\n",
    "        keras.layers.Dense(units=3, activation='softmax')\n",
    "    ])\n",
    "    model2.compile(optimizer=optimizer, loss='categorical_crossentropy', metrics=['accuracy'])\n",
    "    return model2\n",
    "\n",
    "model2 = KerasClassifier(build_fn=create_model2, epochs=100, verbose=0)\n",
    "# param_grid = {'learning_rate':[0.1,0.01,0.001,0.0001]}\n",
    "optimizer = ['SGD', 'RMSprop', 'Adagrad', 'Adadelta', 'Adam', 'Adamax', 'Nadam']\n",
    "param_grid = dict(optimizer=optimizer)\n",
    "\n",
    "grid = GridSearchCV(estimator=model2, param_grid = param_grid,cv=3)\n",
    "grid_result = grid.fit(x_train,y_train)"
   ]
  },
  {
   "cell_type": "code",
   "execution_count": null,
   "id": "1084e22c-6acf-408e-afa5-916a166682ae",
   "metadata": {},
   "outputs": [],
   "source": [
    "print(grid.best_params_)\n",
    "print(\"Best: %f using %s\" % (grid_result.best_score_, grid_result.best_params_))\n"
   ]
  },
  {
   "cell_type": "code",
   "execution_count": null,
   "id": "c37dbf24-e4e3-4e03-98c6-25366e8ea01d",
   "metadata": {},
   "outputs": [],
   "source": [
    "from tensorflow.keras.wrappers.scikit_learn import KerasClassifier\n",
    "from tensorflow.keras.optimizers import Adam\n",
    "from sklearn.model_selection import GridSearchCV\n",
    "\n",
    "def create_model2(nu3,learning_rate=0.01):\n",
    "    model2 = Sequential([\n",
    "        keras.layers.Dense(100, activation='sigmoid', input_shape=(27,)),\n",
    "        keras.layers.Dense(50, activation='relu'),\n",
    "        keras.layers.Dense(nu3, activation='relu'),\n",
    "        keras.layers.Dense(units=3, activation='softmax')\n",
    "    ])\n",
    "#     opt = keras.optimizers.Adam(learning_rate=0.01)\n",
    "    model2.compile(optimizer='adam', loss='categorical_crossentropy', metrics=['accuracy'])\n",
    "    return model2\n",
    "\n",
    "model2 = KerasClassifier(build_fn=create_model2, epochs=100, verbose=0)\n",
    "# param_grid = {'nu1':[100,50],\n",
    "#               'nu2':[50,25],\n",
    "#               'nu3':[25,15],\n",
    "#               'optimizer':['SGD', 'RMSprop', 'Adagrad', 'Adadelta', 'Adam', 'Adamax', 'Nadam']}\n",
    "\n",
    "# param_grid = {'learning_rate':[0.1,0.01,0.001,0.0001]}\n",
    "param_grid = {'nu3':[25,15]}\n",
    "\n",
    "# optimizer = ['SGD', 'RMSprop', 'Adagrad', 'Adadelta', 'Adam', 'Adamax', 'Nadam']\n",
    "# param_grid = dict(optimizer=optimizer)\n",
    "\n",
    "grid = GridSearchCV(estimator=model2, param_grid = param_grid,cv=3)\n",
    "grid_result = grid.fit(x_train,y_train)"
   ]
  },
  {
   "cell_type": "code",
   "execution_count": null,
   "id": "c211f940-6bb1-4486-9577-6ec429e778b1",
   "metadata": {},
   "outputs": [],
   "source": [
    "print(grid.best_params_)\n",
    "print(\"Best: %f using %s\" % (grid_result.best_score_, grid_result.best_params_))"
   ]
  },
  {
   "cell_type": "code",
   "execution_count": null,
   "id": "90d57770-59c3-4c13-beae-5ffa2628e2d2",
   "metadata": {},
   "outputs": [],
   "source": [
    "print(grid_result)"
   ]
  },
  {
   "cell_type": "code",
   "execution_count": 20,
   "id": "653805e5-43ba-4d5d-9514-60342d878771",
   "metadata": {},
   "outputs": [],
   "source": [
    "from tensorflow.keras.wrappers.scikit_learn import KerasClassifier\n",
    "from tensorflow.keras.optimizers import Adam\n",
    "from sklearn.model_selection import GridSearchCV\n",
    "\n",
    "def create_model2(nu1,nu2,nu3,optimizer,learning_rate=0.01):\n",
    "    model2 = Sequential([\n",
    "        keras.layers.Dense(nu1, activation='sigmoid', input_shape=(27,)),\n",
    "        keras.layers.Dense(nu2, activation='relu'),\n",
    "        keras.layers.Dense(nu3, activation='relu'),\n",
    "        keras.layers.Dense(units=3, activation='softmax')\n",
    "    ])\n",
    "#     opt = keras.optimizers.Adam(learning_rate=0.01)\n",
    "    model2.compile(optimizer=optimizer, loss='categorical_crossentropy', metrics=['accuracy'])\n",
    "    return model2\n",
    "\n",
    "model2 = KerasClassifier(build_fn=create_model2, epochs=100, verbose=0)\n",
    "param_grid = {'nu1':[100,50],\n",
    "              'nu2':[50,25],\n",
    "              'nu3':[25,15],\n",
    "              'optimizer':['SGD', 'RMSprop', 'Adagrad', 'Adadelta', 'Adam', 'Adamax', 'Nadam']}\n",
    "\n",
    "# param_grid = {'learning_rate':[0.1,0.01,0.001,0.0001]}\n",
    "# param_grid = {'nu3':[25,15]}\n",
    "\n",
    "# optimizer = ['SGD', 'RMSprop', 'Adagrad', 'Adadelta', 'Adam', 'Adamax', 'Nadam']\n",
    "# param_grid = dict(optimizer=optimizer)\n",
    "\n",
    "grid = GridSearchCV(estimator=model2, param_grid = param_grid,cv=3)\n",
    "grid_result = grid.fit(x_train,y_train)"
   ]
  },
  {
   "cell_type": "code",
   "execution_count": 21,
   "id": "67449a21-61a2-4b77-becd-e14af300c3f0",
   "metadata": {},
   "outputs": [
    {
     "name": "stdout",
     "output_type": "stream",
     "text": [
      "GridSearchCV(cv=3,\n",
      "             estimator=<keras.wrappers.scikit_learn.KerasClassifier object at 0x7f6ab0ece310>,\n",
      "             param_grid={'nu1': [100, 50], 'nu2': [50, 25], 'nu3': [25, 15],\n",
      "                         'optimizer': ['SGD', 'RMSprop', 'Adagrad', 'Adadelta',\n",
      "                                       'Adam', 'Adamax', 'Nadam']})\n"
     ]
    }
   ],
   "source": [
    "print(grid_result)"
   ]
  },
  {
   "cell_type": "code",
   "execution_count": 22,
   "id": "1ebd87dc-1a9b-488a-8c7c-8efdc74befa6",
   "metadata": {},
   "outputs": [
    {
     "name": "stdout",
     "output_type": "stream",
     "text": [
      "{'nu1': 100, 'nu2': 50, 'nu3': 15, 'optimizer': 'Nadam'}\n",
      "Best: 0.998970 using {'nu1': 100, 'nu2': 50, 'nu3': 15, 'optimizer': 'Nadam'}\n"
     ]
    }
   ],
   "source": [
    "print(grid.best_params_)\n",
    "print(\"Best: %f using %s\" % (grid_result.best_score_, grid_result.best_params_))"
   ]
  },
  {
   "cell_type": "code",
   "execution_count": null,
   "id": "1953bb32-c5e9-40fb-96d9-607d14715918",
   "metadata": {},
   "outputs": [],
   "source": []
  }
 ],
 "metadata": {
  "kernelspec": {
   "display_name": "Python 3",
   "language": "python",
   "name": "python3"
  },
  "language_info": {
   "codemirror_mode": {
    "name": "ipython",
    "version": 3
   },
   "file_extension": ".py",
   "mimetype": "text/x-python",
   "name": "python",
   "nbconvert_exporter": "python",
   "pygments_lexer": "ipython3",
   "version": "3.8.8"
  }
 },
 "nbformat": 4,
 "nbformat_minor": 5
}
