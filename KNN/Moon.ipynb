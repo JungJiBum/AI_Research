{
 "cells": [
  {
   "cell_type": "code",
   "execution_count": 8,
   "id": "compressed-resolution",
   "metadata": {},
   "outputs": [
    {
     "data": {
      "image/png": "[encoded data removed]",
      "text/plain": [
       "<Figure size 432x288 with 1 Axes>"
      ]
     },
     "metadata": {
      "needs_background": "light"
     },
     "output_type": "display_data"
    }
   ],
   "source": [
    "import matplotlib.pyplot as plt\n",
    "import numpy as np\n",
    "from sklearn.cluster import KMeans\n",
    "\n",
    "X = np.array([[6,3],[11,15],[17,12],[24,10],[20,25],[22,30],\n",
    "              [85,70],[71,81],[60,79],[56,52],[81,91],[80,81]])\n",
    "\n",
    "plt.scatter(X[:,0],X[:,1])\n",
    "plt.grid(True)"
   ]
  },
  {
   "cell_type": "code",
   "execution_count": 5,
   "id": "occupied-album",
   "metadata": {},
   "outputs": [
    {
     "name": "stdout",
     "output_type": "stream",
     "text": [
      "[[16.66666667 15.83333333]\n",
      " [72.16666667 75.66666667]]\n"
     ]
    }
   ],
   "source": [
    "kmeans = KMeans(n_clusters=2)\n",
    "kmeans.fit(X)\n",
    "\n",
    "print(kmeans.cluster_centers_)"
   ]
  },
  {
   "cell_type": "code",
   "execution_count": 9,
   "id": "composed-melissa",
   "metadata": {},
   "outputs": [
    {
     "name": "stdout",
     "output_type": "stream",
     "text": [
      "[0 0 0 0 0 0 1 1 1 1 1 1]\n"
     ]
    },
    {
     "data": {
      "image/png": "[encoded data removed]",
      "text/plain": [
       "<Figure size 432x288 with 1 Axes>"
      ]
     },
     "metadata": {
      "needs_background": "light"
     },
     "output_type": "display_data"
    }
   ],
   "source": [
    "print(kmeans.labels_)\n",
    "plt.scatter(X[:,0],X[:,1], c = kmeans.labels_, cmap='rainbow')\n",
    "plt.grid(True)"
   ]
  },
  {
   "cell_type": "code",
   "execution_count": 12,
   "id": "hydraulic-female",
   "metadata": {
    "scrolled": true
   },
   "outputs": [
    {
     "name": "stdout",
     "output_type": "stream",
     "text": [
      "[[-0.3592501   0.41129439]\n",
      " [-0.11702646  0.42432471]\n",
      " [ 1.19274149 -0.04305868]\n",
      " ...\n",
      " [ 1.60927776 -0.51967865]\n",
      " [ 0.08400609 -0.19512619]\n",
      " [ 1.75588686  0.42941078]]\n",
      "[0 0 1 0 0 0 1 1 1 1 0 0 0 1 0 0 0 0 1 1 0 0 1 1 0 0 1 0 1 1 1 1 1 1 1 0 0\n",
      " 0 0 0 0 1 0 0 1 0 1 0 1 0 0 0 0 1 1 0 1 0 0 1 1 1 0 1 1 0 1 0 0 1 1 1 1 0\n",
      " 0 1 1 1 1 0 1 0 0 1 1 0 1 0 1 1 1 0 0 1 0 1 1 1 1 0 0 0 1 0 1 0 0 1 0 0 1\n",
      " 1 0 0 0 0 1 1 1 1 0 0 0 1 0 0 1 0 0 0 0 1 0 1 1 1 0 0 1 0 1 0 0 1 1 0 0 1\n",
      " 0 0 0 0 1 0 1 1 0 0 0 0 1 1 1 1 0 0 1 0 0 0 0 1 0 1 1 0 1 0 1 1 1 0 0 0 0\n",
      " 1 0 0 1 1 1 1 0 1 1 1 1 1 0 1 1 1 0 0 0 0 1 0 1 0 1 1 0 1 0 0 0 1 1 1 1 1\n",
      " 0 0 0 1 1 1 0 1 0 0 0 0 0 1 0 0 1 0 0 0 0 1 1 1 1 1 1 0 1 0 1 0 1 1 0 0 0\n",
      " 0 0 1 0 0 1 0 0 1 0 0 0 0 0 0 1 1 0 0 1 0 1 1 1 1 1 0 0 1 0 1 1 1 1 0 1 1\n",
      " 0 0 1 1 1 1 0 1 1 1 1 1 0 1 0 1 1 1 1 1 1 1 0 0 0 0 0 0 1 0 1 0 0 1 0 0 0\n",
      " 0 0 1 0 1 1 0 1 1 1 1 0 0 1 0 1 0 1 1 1 0 1 1 1 0 1 1 1 0 0 1 0 0 0 1 1 1\n",
      " 0 1 0 0 0 0 0 0 0 1 1 0 0 0 1 1 1 0 1 0 1 0 0 0 1 1 1 1 0 1 1 1 1 0 0 1 0\n",
      " 0 0 0 1 0 0 1 0 1 0 1 0 1 0 0 0 0 0 1 1 1 0 0 0 0 0 1 1 1 1 1 1 0 1 0 0 1\n",
      " 1 0 0 1 1 0 0 1 1 1 0 0 1 1 0 0 1 0 0 1 0 0 0 1 1 1 0 0 1 1 0 1 0 1 1 1 1\n",
      " 1 1 0 1 0 0 1 1 1 1 1 0 0 0 0 0 1 0 1 0 0 1 0 0 0 1 1 0 1 0 0 0 0 0 1 1 1\n",
      " 0 1 1 1 1 1 0 0 1 0 1 0 1 1 0 1 0 0 1 0 1 0 0 0 1 1 0 1 1 1 0 1 1 0 1 1 0\n",
      " 1 1 1 0 1 0 1 1 0 0 0 0 1 1 1 1 1 0 0 0 1 0 1 0 1 1 1 1 0 1 1 0 1 1 1 1 0\n",
      " 1 0 0 1 0 0 1 0 0 1 0 1 0 1 1 0 1 1 1 0 0 1 1 1 0 1 1 0 0 0 0 0 1 0 1 0 1\n",
      " 0 0 0 1 0 1 0 0 1 1 1 1 0 1 0 1 1 1 0 0 1 0 0 1 0 0 1 1 0 0 0 1 1 0 0 0 0\n",
      " 0 1 0 0 1 1 0 0 0 1 1 1 0 0 0 0 0 1 1 1 1 1 0 0 0 1 1 1 0 1 1 1 0 0 0 1 0\n",
      " 1 0 0 1 0 1 0 1 1 0 1 0 0 1 0 1 0 0 1 1 1 1 0 1 0 0 0 1 1 0 0 1 1 1 0 1 1\n",
      " 1 0 1 0 0 0 0 0 1 0 1 0 1 1 0 0 0 0 0 0 1 1 0 0 1 0 1 0 1 1 1 0 1 0 1 1 0\n",
      " 0 1 0 1 1 0 1 1 1 1 1 1 1 1 0 0 0 0 1 0 0 1 0 1 1 0 0 0 0 0 0 1 0 1 0 1 0\n",
      " 0 1 1 0 0 0 1 0 1 1 1 0 0 0 1 0 1 0 0 0 0 1 0 1 0 0 0 0 0 1 0 1 1 1 1 1 1\n",
      " 0 1 0 1 0 1 1 0 0 1 0 1 1 1 1 0 0 1 1 0 1 1 1 1 0 0 0 0 0 0 0 0 1 0 1 1 1\n",
      " 1 0 0 0 1 1 0 1 1 1 1 0 1 1 1 0 1 1 1 1 1 1 0 1 1 1 1 1 1 0 1 1 1 0 0 0 1\n",
      " 1 1 1 0 0 1 0 1 0 0 0 0 1 0 0 0 1 1 0 1 0 1 1 1 1 1 1 1 1 0 0 0 0 0 0 0 0\n",
      " 0 1 1 1 1 0 0 1 1 0 1 0 0 0 1 0 0 0 1 0 0 0 1 1 0 0 1 0 1 1 0 0 1 0 0 0 1\n",
      " 0]\n"
     ]
    }
   ],
   "source": [
    "from sklearn.datasets import make_moons\n",
    "X,y = make_moons(n_samples=1000, noise=0.5, random_state=1004)\n",
    "\n",
    "print(X)\n",
    "print(y)"
   ]
  },
  {
   "cell_type": "code",
   "execution_count": 19,
   "id": "cubic-cookie",
   "metadata": {},
   "outputs": [
    {
     "name": "stdout",
     "output_type": "stream",
     "text": [
      "(1000, 2)\n",
      "(1000,)\n",
      "<class 'numpy.ndarray'>\n",
      "<class 'numpy.ndarray'>\n"
     ]
    }
   ],
   "source": [
    "print(X.shape)\n",
    "print(y.shape)\n",
    "print(type(X))\n",
    "print(type(y))"
   ]
  },
  {
   "cell_type": "code",
   "execution_count": null,
   "id": "forced-geology",
   "metadata": {},
   "outputs": [],
   "source": [
    "def sse(data):\n",
    "    sse = []\n",
    "    for i in range(1, 20):\n",
    "        "
   ]
  }
 ],
 "metadata": {
  "kernelspec": {
   "display_name": "Python 3",
   "language": "python",
   "name": "python3"
  },
  "language_info": {
   "codemirror_mode": {
    "name": "ipython",
    "version": 3
   },
   "file_extension": ".py",
   "mimetype": "text/x-python",
   "name": "python",
   "nbconvert_exporter": "python",
   "pygments_lexer": "ipython3",
   "version": "3.8.5"
  }
 },
 "nbformat": 4,
 "nbformat_minor": 5
}
