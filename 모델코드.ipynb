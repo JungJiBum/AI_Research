{
 "cells": [
  {
   "cell_type": "code",
   "execution_count": 1,
   "id": "d00b4f03-eed7-4e9b-ad0e-475918e7fa52",
   "metadata": {},
   "outputs": [],
   "source": [
    "import pandas as pd\n",
    "import numpy as np\n",
    "import matplotlib.pyplot as plt\n",
    "import os\n",
    "import sys\n",
    "import tensorflow as tf\n",
    "import json\n",
    "import csv\n",
    "\n",
    "from keras.callbacks import ModelCheckpoint, EarlyStopping\n",
    "from tensorflow import keras\n",
    "from sklearn.model_selection import train_test_split\n",
    "from sklearn.preprocessing import OneHotEncoder\n",
    "from sklearn.preprocessing import MinMaxScaler\n",
    "from sklearn.preprocessing import LabelEncoder\n",
    "\n",
    "from keras.utils import np_utils\n",
    "from tensorflow.keras import Sequential\n",
    "from tensorflow.keras.layers import Dense, Activation\n",
    "\n"
   ]
  },
  {
   "cell_type": "code",
   "execution_count": 2,
   "id": "00c46e44-1988-494f-8a19-b78f52492cde",
   "metadata": {},
   "outputs": [],
   "source": [
    "os.environ[\"CUDA_VISIBLE_DEVICES\"]='0'\n",
    "os.environ[\"CUDA_VISIBLE_DEVICES\"]='1'"
   ]
  },
  {
   "cell_type": "code",
   "execution_count": 3,
   "id": "5a134997-228e-452c-9eb4-ed81bc859aea",
   "metadata": {},
   "outputs": [
    {
     "data": {
      "text/html": [
       "<div>\n",
       "<style scoped>\n",
       "    .dataframe tbody tr th:only-of-type {\n",
       "        vertical-align: middle;\n",
       "    }\n",
       "\n",
       "    .dataframe tbody tr th {\n",
       "        vertical-align: top;\n",
       "    }\n",
       "\n",
       "    .dataframe thead th {\n",
       "        text-align: right;\n",
       "    }\n",
       "</style>\n",
       "<table border=\"1\" class=\"dataframe\">\n",
       "  <thead>\n",
       "    <tr style=\"text-align: right;\">\n",
       "      <th></th>\n",
       "      <th>label</th>\n",
       "      <th>Robot_Hips.X</th>\n",
       "      <th>Robot_Hips.Y</th>\n",
       "      <th>Robot_Hips.Z</th>\n",
       "      <th>Robot_LeftUpLeg.X</th>\n",
       "      <th>Robot_LeftUpLeg.Y</th>\n",
       "      <th>Robot_LeftUpLeg.Z</th>\n",
       "      <th>Robot_LeftLeg.X</th>\n",
       "      <th>Robot_LeftLeg.Y</th>\n",
       "      <th>Robot_LeftLeg.Z</th>\n",
       "      <th>...</th>\n",
       "      <th>Robot_RightHandRing1.Z</th>\n",
       "      <th>Robot_RightHandRing2.X</th>\n",
       "      <th>Robot_RightHandRing2.Y</th>\n",
       "      <th>Robot_RightHandRing2.Z</th>\n",
       "      <th>Robot_RightHandRing3.X</th>\n",
       "      <th>Robot_RightHandRing3.Y</th>\n",
       "      <th>Robot_RightHandRing3.Z</th>\n",
       "      <th>Robot_RightHandRing4.X</th>\n",
       "      <th>Robot_RightHandRing4.Y</th>\n",
       "      <th>Robot_RightHandRing4.Z</th>\n",
       "    </tr>\n",
       "  </thead>\n",
       "  <tbody>\n",
       "    <tr>\n",
       "      <th>0</th>\n",
       "      <td>sit</td>\n",
       "      <td>0.014469</td>\n",
       "      <td>0.657318</td>\n",
       "      <td>-0.174980</td>\n",
       "      <td>-0.087715</td>\n",
       "      <td>0.570961</td>\n",
       "      <td>-0.207636</td>\n",
       "      <td>-0.258852</td>\n",
       "      <td>0.485350</td>\n",
       "      <td>0.207280</td>\n",
       "      <td>...</td>\n",
       "      <td>0.371302</td>\n",
       "      <td>0.179001</td>\n",
       "      <td>0.694311</td>\n",
       "      <td>0.406255</td>\n",
       "      <td>0.168793</td>\n",
       "      <td>0.675330</td>\n",
       "      <td>0.430465</td>\n",
       "      <td>0.160667</td>\n",
       "      <td>0.659863</td>\n",
       "      <td>0.448582</td>\n",
       "    </tr>\n",
       "    <tr>\n",
       "      <th>1</th>\n",
       "      <td>sit</td>\n",
       "      <td>0.015042</td>\n",
       "      <td>0.655393</td>\n",
       "      <td>-0.171119</td>\n",
       "      <td>-0.087102</td>\n",
       "      <td>0.568806</td>\n",
       "      <td>-0.203293</td>\n",
       "      <td>-0.257881</td>\n",
       "      <td>0.486372</td>\n",
       "      <td>0.212413</td>\n",
       "      <td>...</td>\n",
       "      <td>0.367667</td>\n",
       "      <td>0.178288</td>\n",
       "      <td>0.691410</td>\n",
       "      <td>0.402538</td>\n",
       "      <td>0.168233</td>\n",
       "      <td>0.672269</td>\n",
       "      <td>0.426685</td>\n",
       "      <td>0.160227</td>\n",
       "      <td>0.656680</td>\n",
       "      <td>0.444751</td>\n",
       "    </tr>\n",
       "    <tr>\n",
       "      <th>2</th>\n",
       "      <td>sit</td>\n",
       "      <td>0.015036</td>\n",
       "      <td>0.655131</td>\n",
       "      <td>-0.170547</td>\n",
       "      <td>-0.087129</td>\n",
       "      <td>0.568532</td>\n",
       "      <td>-0.202617</td>\n",
       "      <td>-0.257926</td>\n",
       "      <td>0.486574</td>\n",
       "      <td>0.213176</td>\n",
       "      <td>...</td>\n",
       "      <td>0.367148</td>\n",
       "      <td>0.178188</td>\n",
       "      <td>0.690728</td>\n",
       "      <td>0.402009</td>\n",
       "      <td>0.168149</td>\n",
       "      <td>0.671567</td>\n",
       "      <td>0.426147</td>\n",
       "      <td>0.160155</td>\n",
       "      <td>0.655963</td>\n",
       "      <td>0.444205</td>\n",
       "    </tr>\n",
       "    <tr>\n",
       "      <th>3</th>\n",
       "      <td>sit</td>\n",
       "      <td>0.015036</td>\n",
       "      <td>0.655131</td>\n",
       "      <td>-0.170547</td>\n",
       "      <td>-0.087129</td>\n",
       "      <td>0.568532</td>\n",
       "      <td>-0.202617</td>\n",
       "      <td>-0.257926</td>\n",
       "      <td>0.486574</td>\n",
       "      <td>0.213176</td>\n",
       "      <td>...</td>\n",
       "      <td>0.367148</td>\n",
       "      <td>0.178188</td>\n",
       "      <td>0.690728</td>\n",
       "      <td>0.402009</td>\n",
       "      <td>0.168149</td>\n",
       "      <td>0.671567</td>\n",
       "      <td>0.426147</td>\n",
       "      <td>0.160155</td>\n",
       "      <td>0.655963</td>\n",
       "      <td>0.444205</td>\n",
       "    </tr>\n",
       "    <tr>\n",
       "      <th>4</th>\n",
       "      <td>sit</td>\n",
       "      <td>0.015032</td>\n",
       "      <td>0.655023</td>\n",
       "      <td>-0.170247</td>\n",
       "      <td>-0.087141</td>\n",
       "      <td>0.568422</td>\n",
       "      <td>-0.202286</td>\n",
       "      <td>-0.257976</td>\n",
       "      <td>0.486619</td>\n",
       "      <td>0.213522</td>\n",
       "      <td>...</td>\n",
       "      <td>0.366851</td>\n",
       "      <td>0.178178</td>\n",
       "      <td>0.690355</td>\n",
       "      <td>0.401700</td>\n",
       "      <td>0.168150</td>\n",
       "      <td>0.671176</td>\n",
       "      <td>0.425828</td>\n",
       "      <td>0.160164</td>\n",
       "      <td>0.655559</td>\n",
       "      <td>0.443879</td>\n",
       "    </tr>\n",
       "    <tr>\n",
       "      <th>...</th>\n",
       "      <td>...</td>\n",
       "      <td>...</td>\n",
       "      <td>...</td>\n",
       "      <td>...</td>\n",
       "      <td>...</td>\n",
       "      <td>...</td>\n",
       "      <td>...</td>\n",
       "      <td>...</td>\n",
       "      <td>...</td>\n",
       "      <td>...</td>\n",
       "      <td>...</td>\n",
       "      <td>...</td>\n",
       "      <td>...</td>\n",
       "      <td>...</td>\n",
       "      <td>...</td>\n",
       "      <td>...</td>\n",
       "      <td>...</td>\n",
       "      <td>...</td>\n",
       "      <td>...</td>\n",
       "      <td>...</td>\n",
       "      <td>...</td>\n",
       "    </tr>\n",
       "    <tr>\n",
       "      <th>42292</th>\n",
       "      <td>stand</td>\n",
       "      <td>0.001410</td>\n",
       "      <td>1.111354</td>\n",
       "      <td>0.002986</td>\n",
       "      <td>-0.102953</td>\n",
       "      <td>1.022457</td>\n",
       "      <td>-0.010106</td>\n",
       "      <td>-0.115838</td>\n",
       "      <td>0.566955</td>\n",
       "      <td>-0.043646</td>\n",
       "      <td>...</td>\n",
       "      <td>0.041847</td>\n",
       "      <td>0.323842</td>\n",
       "      <td>0.910878</td>\n",
       "      <td>0.040385</td>\n",
       "      <td>0.328610</td>\n",
       "      <td>0.878884</td>\n",
       "      <td>0.038325</td>\n",
       "      <td>0.330991</td>\n",
       "      <td>0.853931</td>\n",
       "      <td>0.036055</td>\n",
       "    </tr>\n",
       "    <tr>\n",
       "      <th>42293</th>\n",
       "      <td>stand</td>\n",
       "      <td>0.001410</td>\n",
       "      <td>1.111354</td>\n",
       "      <td>0.002986</td>\n",
       "      <td>-0.102953</td>\n",
       "      <td>1.022457</td>\n",
       "      <td>-0.010106</td>\n",
       "      <td>-0.115838</td>\n",
       "      <td>0.566955</td>\n",
       "      <td>-0.043646</td>\n",
       "      <td>...</td>\n",
       "      <td>0.041847</td>\n",
       "      <td>0.323842</td>\n",
       "      <td>0.910878</td>\n",
       "      <td>0.040385</td>\n",
       "      <td>0.328610</td>\n",
       "      <td>0.878884</td>\n",
       "      <td>0.038325</td>\n",
       "      <td>0.330991</td>\n",
       "      <td>0.853931</td>\n",
       "      <td>0.036055</td>\n",
       "    </tr>\n",
       "    <tr>\n",
       "      <th>42294</th>\n",
       "      <td>stand</td>\n",
       "      <td>0.001403</td>\n",
       "      <td>1.111349</td>\n",
       "      <td>0.003021</td>\n",
       "      <td>-0.102963</td>\n",
       "      <td>1.022458</td>\n",
       "      <td>-0.010089</td>\n",
       "      <td>-0.115863</td>\n",
       "      <td>0.566964</td>\n",
       "      <td>-0.043723</td>\n",
       "      <td>...</td>\n",
       "      <td>0.041813</td>\n",
       "      <td>0.323949</td>\n",
       "      <td>0.910905</td>\n",
       "      <td>0.040348</td>\n",
       "      <td>0.328716</td>\n",
       "      <td>0.878912</td>\n",
       "      <td>0.038285</td>\n",
       "      <td>0.331097</td>\n",
       "      <td>0.853958</td>\n",
       "      <td>0.036016</td>\n",
       "    </tr>\n",
       "    <tr>\n",
       "      <th>42295</th>\n",
       "      <td>stand</td>\n",
       "      <td>0.001390</td>\n",
       "      <td>1.111345</td>\n",
       "      <td>0.003053</td>\n",
       "      <td>-0.102978</td>\n",
       "      <td>1.022459</td>\n",
       "      <td>-0.010077</td>\n",
       "      <td>-0.115856</td>\n",
       "      <td>0.566971</td>\n",
       "      <td>-0.043804</td>\n",
       "      <td>...</td>\n",
       "      <td>0.041855</td>\n",
       "      <td>0.324004</td>\n",
       "      <td>0.910924</td>\n",
       "      <td>0.040391</td>\n",
       "      <td>0.328772</td>\n",
       "      <td>0.878931</td>\n",
       "      <td>0.038331</td>\n",
       "      <td>0.331152</td>\n",
       "      <td>0.853977</td>\n",
       "      <td>0.036063</td>\n",
       "    </tr>\n",
       "    <tr>\n",
       "      <th>42296</th>\n",
       "      <td>stand</td>\n",
       "      <td>0.001376</td>\n",
       "      <td>1.111344</td>\n",
       "      <td>0.003062</td>\n",
       "      <td>-0.102992</td>\n",
       "      <td>1.022461</td>\n",
       "      <td>-0.010082</td>\n",
       "      <td>-0.115816</td>\n",
       "      <td>0.566975</td>\n",
       "      <td>-0.043858</td>\n",
       "      <td>...</td>\n",
       "      <td>0.041918</td>\n",
       "      <td>0.323969</td>\n",
       "      <td>0.910918</td>\n",
       "      <td>0.040458</td>\n",
       "      <td>0.328735</td>\n",
       "      <td>0.878924</td>\n",
       "      <td>0.038400</td>\n",
       "      <td>0.331114</td>\n",
       "      <td>0.853970</td>\n",
       "      <td>0.036134</td>\n",
       "    </tr>\n",
       "  </tbody>\n",
       "</table>\n",
       "<p>42297 rows × 217 columns</p>\n",
       "</div>"
      ],
      "text/plain": [
       "       label  Robot_Hips.X  Robot_Hips.Y  Robot_Hips.Z  Robot_LeftUpLeg.X  \\\n",
       "0        sit      0.014469      0.657318     -0.174980          -0.087715   \n",
       "1        sit      0.015042      0.655393     -0.171119          -0.087102   \n",
       "2        sit      0.015036      0.655131     -0.170547          -0.087129   \n",
       "3        sit      0.015036      0.655131     -0.170547          -0.087129   \n",
       "4        sit      0.015032      0.655023     -0.170247          -0.087141   \n",
       "...      ...           ...           ...           ...                ...   \n",
       "42292  stand      0.001410      1.111354      0.002986          -0.102953   \n",
       "42293  stand      0.001410      1.111354      0.002986          -0.102953   \n",
       "42294  stand      0.001403      1.111349      0.003021          -0.102963   \n",
       "42295  stand      0.001390      1.111345      0.003053          -0.102978   \n",
       "42296  stand      0.001376      1.111344      0.003062          -0.102992   \n",
       "\n",
       "       Robot_LeftUpLeg.Y  Robot_LeftUpLeg.Z  Robot_LeftLeg.X  Robot_LeftLeg.Y  \\\n",
       "0               0.570961          -0.207636        -0.258852         0.485350   \n",
       "1               0.568806          -0.203293        -0.257881         0.486372   \n",
       "2               0.568532          -0.202617        -0.257926         0.486574   \n",
       "3               0.568532          -0.202617        -0.257926         0.486574   \n",
       "4               0.568422          -0.202286        -0.257976         0.486619   \n",
       "...                  ...                ...              ...              ...   \n",
       "42292           1.022457          -0.010106        -0.115838         0.566955   \n",
       "42293           1.022457          -0.010106        -0.115838         0.566955   \n",
       "42294           1.022458          -0.010089        -0.115863         0.566964   \n",
       "42295           1.022459          -0.010077        -0.115856         0.566971   \n",
       "42296           1.022461          -0.010082        -0.115816         0.566975   \n",
       "\n",
       "       Robot_LeftLeg.Z  ...  Robot_RightHandRing1.Z  Robot_RightHandRing2.X  \\\n",
       "0             0.207280  ...                0.371302                0.179001   \n",
       "1             0.212413  ...                0.367667                0.178288   \n",
       "2             0.213176  ...                0.367148                0.178188   \n",
       "3             0.213176  ...                0.367148                0.178188   \n",
       "4             0.213522  ...                0.366851                0.178178   \n",
       "...                ...  ...                     ...                     ...   \n",
       "42292        -0.043646  ...                0.041847                0.323842   \n",
       "42293        -0.043646  ...                0.041847                0.323842   \n",
       "42294        -0.043723  ...                0.041813                0.323949   \n",
       "42295        -0.043804  ...                0.041855                0.324004   \n",
       "42296        -0.043858  ...                0.041918                0.323969   \n",
       "\n",
       "       Robot_RightHandRing2.Y  Robot_RightHandRing2.Z  Robot_RightHandRing3.X  \\\n",
       "0                    0.694311                0.406255                0.168793   \n",
       "1                    0.691410                0.402538                0.168233   \n",
       "2                    0.690728                0.402009                0.168149   \n",
       "3                    0.690728                0.402009                0.168149   \n",
       "4                    0.690355                0.401700                0.168150   \n",
       "...                       ...                     ...                     ...   \n",
       "42292                0.910878                0.040385                0.328610   \n",
       "42293                0.910878                0.040385                0.328610   \n",
       "42294                0.910905                0.040348                0.328716   \n",
       "42295                0.910924                0.040391                0.328772   \n",
       "42296                0.910918                0.040458                0.328735   \n",
       "\n",
       "       Robot_RightHandRing3.Y  Robot_RightHandRing3.Z  Robot_RightHandRing4.X  \\\n",
       "0                    0.675330                0.430465                0.160667   \n",
       "1                    0.672269                0.426685                0.160227   \n",
       "2                    0.671567                0.426147                0.160155   \n",
       "3                    0.671567                0.426147                0.160155   \n",
       "4                    0.671176                0.425828                0.160164   \n",
       "...                       ...                     ...                     ...   \n",
       "42292                0.878884                0.038325                0.330991   \n",
       "42293                0.878884                0.038325                0.330991   \n",
       "42294                0.878912                0.038285                0.331097   \n",
       "42295                0.878931                0.038331                0.331152   \n",
       "42296                0.878924                0.038400                0.331114   \n",
       "\n",
       "       Robot_RightHandRing4.Y  Robot_RightHandRing4.Z  \n",
       "0                    0.659863                0.448582  \n",
       "1                    0.656680                0.444751  \n",
       "2                    0.655963                0.444205  \n",
       "3                    0.655963                0.444205  \n",
       "4                    0.655559                0.443879  \n",
       "...                       ...                     ...  \n",
       "42292                0.853931                0.036055  \n",
       "42293                0.853931                0.036055  \n",
       "42294                0.853958                0.036016  \n",
       "42295                0.853977                0.036063  \n",
       "42296                0.853970                0.036134  \n",
       "\n",
       "[42297 rows x 217 columns]"
      ]
     },
     "execution_count": 3,
     "metadata": {},
     "output_type": "execute_result"
    }
   ],
   "source": [
    "axis = pd.read_csv('/home/master/Jibum/Motion_Show/IMU Data/train.csv')\n",
    "axis = axis.drop(columns=['Robot_Reference.X','Robot_Reference.Y','Robot_Reference.Z','TimeStamp'])\n",
    "axis"
   ]
  },
  {
   "cell_type": "code",
   "execution_count": 4,
   "id": "6af03ce2-8d9c-4de2-adb6-1d0d78d32ea7",
   "metadata": {},
   "outputs": [
    {
     "data": {
      "text/plain": [
       "stand    16026\n",
       "sit      14948\n",
       "walk     11323\n",
       "Name: label, dtype: int64"
      ]
     },
     "execution_count": 4,
     "metadata": {},
     "output_type": "execute_result"
    }
   ],
   "source": [
    "axis['label'].value_counts()"
   ]
  },
  {
   "cell_type": "code",
   "execution_count": 5,
   "id": "2413ef8a-c26e-4f23-a293-89b633ebdade",
   "metadata": {},
   "outputs": [
    {
     "data": {
      "text/plain": [
       "42297"
      ]
     },
     "execution_count": 5,
     "metadata": {},
     "output_type": "execute_result"
    }
   ],
   "source": [
    "len(axis['label'])"
   ]
  },
  {
   "cell_type": "code",
   "execution_count": 6,
   "id": "345ce26e-1837-4d6b-ae36-be550b0e7e45",
   "metadata": {},
   "outputs": [
    {
     "data": {
      "text/plain": [
       "Index(['label', 'Robot_Hips.X', 'Robot_Hips.Y', 'Robot_Hips.Z',\n",
       "       'Robot_LeftUpLeg.X', 'Robot_LeftUpLeg.Y', 'Robot_LeftUpLeg.Z',\n",
       "       'Robot_LeftLeg.X', 'Robot_LeftLeg.Y', 'Robot_LeftLeg.Z',\n",
       "       'Robot_LeftFoot.X', 'Robot_LeftFoot.Y', 'Robot_LeftFoot.Z',\n",
       "       'Robot_LeftToeBase.X', 'Robot_LeftToeBase.Y', 'Robot_LeftToeBase.Z',\n",
       "       'Robot_RightUpLeg.X', 'Robot_RightUpLeg.Y', 'Robot_RightUpLeg.Z',\n",
       "       'Robot_RightLeg.X', 'Robot_RightLeg.Y', 'Robot_RightLeg.Z',\n",
       "       'Robot_RightFoot.X', 'Robot_RightFoot.Y', 'Robot_RightFoot.Z',\n",
       "       'Robot_RightToeBase.X', 'Robot_RightToeBase.Y', 'Robot_RightToeBase.Z'],\n",
       "      dtype='object')"
      ]
     },
     "execution_count": 6,
     "metadata": {},
     "output_type": "execute_result"
    }
   ],
   "source": [
    "axis.columns[:28]"
   ]
  },
  {
   "cell_type": "code",
   "execution_count": 7,
   "id": "667da06c-73b5-4654-a82f-c68f928cd087",
   "metadata": {},
   "outputs": [],
   "source": [
    "axisX = axis.iloc[:,1:28]\n",
    "axisY = axis['label']"
   ]
  },
  {
   "cell_type": "code",
   "execution_count": 8,
   "id": "bfa39b5d-347d-45e2-92f9-d44c4bcf87f8",
   "metadata": {},
   "outputs": [
    {
     "name": "stdout",
     "output_type": "stream",
     "text": [
      "<class 'pandas.core.series.Series'>\n",
      "(42297,)\n"
     ]
    }
   ],
   "source": [
    "print(type(axisY))\n",
    "print(axisY.shape)"
   ]
  },
  {
   "cell_type": "code",
   "execution_count": 9,
   "id": "a502baf3-b859-485b-a8f7-c7184a0cb18d",
   "metadata": {},
   "outputs": [
    {
     "name": "stdout",
     "output_type": "stream",
     "text": [
      "<class 'pandas.core.frame.DataFrame'>\n",
      "<class 'pandas.core.series.Series'>\n"
     ]
    }
   ],
   "source": [
    "print(type(axisX))\n",
    "print(type(axisY))"
   ]
  },
  {
   "cell_type": "code",
   "execution_count": 10,
   "id": "04806058-22a0-4203-b7a6-8c6471f39faf",
   "metadata": {},
   "outputs": [],
   "source": [
    "MMS = MinMaxScaler() # MinMaxScaler\n",
    "le = LabelEncoder() # LabelEncoder\n",
    "enc = OneHotEncoder() # OneHotEncoder"
   ]
  },
  {
   "cell_type": "code",
   "execution_count": 43,
   "id": "b1efda2f-34a2-4c14-b181-949a91b6ca81",
   "metadata": {},
   "outputs": [
    {
     "name": "stdout",
     "output_type": "stream",
     "text": [
      "[0 0 0 ... 1 1 1] <class 'numpy.ndarray'>\n",
      "['sit' 'stand' 'walk']\n",
      "[0 0 0 ... 1 1 1] ['sit' 'stand' 'walk']\n"
     ]
    }
   ],
   "source": [
    "le.fit(axisY)\n",
    "label = le.transform(axisY)\n",
    "print(label, type(label))\n",
    "print(le.classes_)\n",
    "print(label, le.classes_)\n",
    "#label = np_utils.to_categorical(label)"
   ]
  },
  {
   "cell_type": "code",
   "execution_count": 44,
   "id": "82c9d138-98b8-4f9a-8f63-1ae5b44cc031",
   "metadata": {},
   "outputs": [
    {
     "name": "stdout",
     "output_type": "stream",
     "text": [
      "(42297,)\n"
     ]
    }
   ],
   "source": [
    "print(label.shape)"
   ]
  },
  {
   "cell_type": "code",
   "execution_count": 45,
   "id": "03bcd8c6-677b-4f3f-a2ed-20c5f9cd5055",
   "metadata": {},
   "outputs": [
    {
     "name": "stdout",
     "output_type": "stream",
     "text": [
      "0.8.1\n"
     ]
    }
   ],
   "source": [
    "import imblearn\n",
    "from collections import Counter\n",
    "print(imblearn.__version__)\n",
    "\n",
    "def count_and_plot(label):\n",
    "    counter = Counter(label)\n",
    "    \n",
    "    for i,j in counter.items():\n",
    "        print(\"Class = %d, n = %d (%.3f%%)\" % (i, j, j/len(axisY)*100))\n",
    "        \n",
    "    plt.bar(counter.keys(), counter.values())\n",
    "    plt.show()"
   ]
  },
  {
   "cell_type": "code",
   "execution_count": 46,
   "id": "dff46d3f-fbf8-4b65-96ff-8abe9ae8dc92",
   "metadata": {},
   "outputs": [
    {
     "name": "stdout",
     "output_type": "stream",
     "text": [
      "Class = 0, n = 14948 (35.341%)\n",
      "Class = 2, n = 11323 (26.770%)\n",
      "Class = 1, n = 16026 (37.889%)\n"
     ]
    },
    {
     "data": {
      "image/png": "[encoded data removed]",
      "text/plain": [
       "<Figure size 432x288 with 1 Axes>"
      ]
     },
     "metadata": {
      "needs_background": "light"
     },
     "output_type": "display_data"
    }
   ],
   "source": [
    "count_and_plot(label)"
   ]
  },
  {
   "cell_type": "code",
   "execution_count": 15,
   "id": "f66bfa55-950d-4027-bb3c-5650ba8de469",
   "metadata": {},
   "outputs": [
    {
     "name": "stdout",
     "output_type": "stream",
     "text": [
      "Class = 0, n = 16026 (37.889%)\n",
      "Class = 2, n = 16026 (37.889%)\n",
      "Class = 1, n = 16026 (37.889%)\n"
     ]
    },
    {
     "data": {
      "image/png": "[encoded data removed]",
      "text/plain": [
       "<Figure size 432x288 with 1 Axes>"
      ]
     },
     "metadata": {
      "needs_background": "light"
     },
     "output_type": "display_data"
    }
   ],
   "source": [
    "from imblearn.over_sampling import SMOTE\n",
    "X_resampled, y_resampled = SMOTE(random_state=0).fit_resample(axisX,label)\n",
    "count_and_plot(y_resampled)"
   ]
  },
  {
   "cell_type": "code",
   "execution_count": 16,
   "id": "7ea1e728-3a09-4f3d-96d8-e294208de904",
   "metadata": {},
   "outputs": [
    {
     "name": "stdout",
     "output_type": "stream",
     "text": [
      "(42297, 27)\n",
      "(42297,)\n",
      "(42297,)\n",
      "(48078, 27)\n",
      "(48078,)\n"
     ]
    }
   ],
   "source": [
    "print(axisX.shape)\n",
    "print(axisY.shape)\n",
    "print(label.shape)\n",
    "print(X_resampled.shape)\n",
    "print(y_resampled.shape)"
   ]
  },
  {
   "cell_type": "code",
   "execution_count": 17,
   "id": "86d80dcd-70a6-4f50-8522-1aa0a8afd427",
   "metadata": {},
   "outputs": [
    {
     "data": {
      "text/html": [
       "<div>\n",
       "<style scoped>\n",
       "    .dataframe tbody tr th:only-of-type {\n",
       "        vertical-align: middle;\n",
       "    }\n",
       "\n",
       "    .dataframe tbody tr th {\n",
       "        vertical-align: top;\n",
       "    }\n",
       "\n",
       "    .dataframe thead th {\n",
       "        text-align: right;\n",
       "    }\n",
       "</style>\n",
       "<table border=\"1\" class=\"dataframe\">\n",
       "  <thead>\n",
       "    <tr style=\"text-align: right;\">\n",
       "      <th></th>\n",
       "      <th>Robot_Hips.X</th>\n",
       "      <th>Robot_Hips.Y</th>\n",
       "      <th>Robot_Hips.Z</th>\n",
       "      <th>Robot_LeftUpLeg.X</th>\n",
       "      <th>Robot_LeftUpLeg.Y</th>\n",
       "      <th>Robot_LeftUpLeg.Z</th>\n",
       "      <th>Robot_LeftLeg.X</th>\n",
       "      <th>Robot_LeftLeg.Y</th>\n",
       "      <th>Robot_LeftLeg.Z</th>\n",
       "      <th>Robot_LeftFoot.X</th>\n",
       "      <th>...</th>\n",
       "      <th>Robot_RightUpLeg.Z</th>\n",
       "      <th>Robot_RightLeg.X</th>\n",
       "      <th>Robot_RightLeg.Y</th>\n",
       "      <th>Robot_RightLeg.Z</th>\n",
       "      <th>Robot_RightFoot.X</th>\n",
       "      <th>Robot_RightFoot.Y</th>\n",
       "      <th>Robot_RightFoot.Z</th>\n",
       "      <th>Robot_RightToeBase.X</th>\n",
       "      <th>Robot_RightToeBase.Y</th>\n",
       "      <th>Robot_RightToeBase.Z</th>\n",
       "    </tr>\n",
       "  </thead>\n",
       "  <tbody>\n",
       "    <tr>\n",
       "      <th>0</th>\n",
       "      <td>0.014469</td>\n",
       "      <td>0.657318</td>\n",
       "      <td>-0.174980</td>\n",
       "      <td>-0.087715</td>\n",
       "      <td>0.570961</td>\n",
       "      <td>-0.207636</td>\n",
       "      <td>-0.258852</td>\n",
       "      <td>0.485350</td>\n",
       "      <td>0.207280</td>\n",
       "      <td>-0.270620</td>\n",
       "      <td>...</td>\n",
       "      <td>-0.206519</td>\n",
       "      <td>0.239237</td>\n",
       "      <td>0.563264</td>\n",
       "      <td>0.235140</td>\n",
       "      <td>0.234115</td>\n",
       "      <td>0.101813</td>\n",
       "      <td>0.307666</td>\n",
       "      <td>0.246179</td>\n",
       "      <td>-0.010447</td>\n",
       "      <td>0.399674</td>\n",
       "    </tr>\n",
       "    <tr>\n",
       "      <th>1</th>\n",
       "      <td>0.015042</td>\n",
       "      <td>0.655393</td>\n",
       "      <td>-0.171119</td>\n",
       "      <td>-0.087102</td>\n",
       "      <td>0.568806</td>\n",
       "      <td>-0.203293</td>\n",
       "      <td>-0.257881</td>\n",
       "      <td>0.486372</td>\n",
       "      <td>0.212413</td>\n",
       "      <td>-0.269969</td>\n",
       "      <td>...</td>\n",
       "      <td>-0.202244</td>\n",
       "      <td>0.239013</td>\n",
       "      <td>0.565066</td>\n",
       "      <td>0.239753</td>\n",
       "      <td>0.234339</td>\n",
       "      <td>0.104257</td>\n",
       "      <td>0.316286</td>\n",
       "      <td>0.246404</td>\n",
       "      <td>-0.007073</td>\n",
       "      <td>0.409416</td>\n",
       "    </tr>\n",
       "    <tr>\n",
       "      <th>2</th>\n",
       "      <td>0.015036</td>\n",
       "      <td>0.655131</td>\n",
       "      <td>-0.170547</td>\n",
       "      <td>-0.087129</td>\n",
       "      <td>0.568532</td>\n",
       "      <td>-0.202617</td>\n",
       "      <td>-0.257926</td>\n",
       "      <td>0.486574</td>\n",
       "      <td>0.213176</td>\n",
       "      <td>-0.270099</td>\n",
       "      <td>...</td>\n",
       "      <td>-0.201541</td>\n",
       "      <td>0.238677</td>\n",
       "      <td>0.565114</td>\n",
       "      <td>0.240546</td>\n",
       "      <td>0.233805</td>\n",
       "      <td>0.104378</td>\n",
       "      <td>0.317505</td>\n",
       "      <td>0.245791</td>\n",
       "      <td>-0.006864</td>\n",
       "      <td>0.410750</td>\n",
       "    </tr>\n",
       "    <tr>\n",
       "      <th>3</th>\n",
       "      <td>0.015036</td>\n",
       "      <td>0.655131</td>\n",
       "      <td>-0.170547</td>\n",
       "      <td>-0.087129</td>\n",
       "      <td>0.568532</td>\n",
       "      <td>-0.202617</td>\n",
       "      <td>-0.257926</td>\n",
       "      <td>0.486574</td>\n",
       "      <td>0.213176</td>\n",
       "      <td>-0.270099</td>\n",
       "      <td>...</td>\n",
       "      <td>-0.201541</td>\n",
       "      <td>0.238677</td>\n",
       "      <td>0.565114</td>\n",
       "      <td>0.240546</td>\n",
       "      <td>0.233805</td>\n",
       "      <td>0.104378</td>\n",
       "      <td>0.317505</td>\n",
       "      <td>0.245791</td>\n",
       "      <td>-0.006864</td>\n",
       "      <td>0.410750</td>\n",
       "    </tr>\n",
       "    <tr>\n",
       "      <th>4</th>\n",
       "      <td>0.015032</td>\n",
       "      <td>0.655023</td>\n",
       "      <td>-0.170247</td>\n",
       "      <td>-0.087141</td>\n",
       "      <td>0.568422</td>\n",
       "      <td>-0.202286</td>\n",
       "      <td>-0.257976</td>\n",
       "      <td>0.486619</td>\n",
       "      <td>0.213522</td>\n",
       "      <td>-0.270155</td>\n",
       "      <td>...</td>\n",
       "      <td>-0.201181</td>\n",
       "      <td>0.238487</td>\n",
       "      <td>0.565081</td>\n",
       "      <td>0.240956</td>\n",
       "      <td>0.233523</td>\n",
       "      <td>0.104367</td>\n",
       "      <td>0.318038</td>\n",
       "      <td>0.245463</td>\n",
       "      <td>-0.006849</td>\n",
       "      <td>0.411320</td>\n",
       "    </tr>\n",
       "    <tr>\n",
       "      <th>...</th>\n",
       "      <td>...</td>\n",
       "      <td>...</td>\n",
       "      <td>...</td>\n",
       "      <td>...</td>\n",
       "      <td>...</td>\n",
       "      <td>...</td>\n",
       "      <td>...</td>\n",
       "      <td>...</td>\n",
       "      <td>...</td>\n",
       "      <td>...</td>\n",
       "      <td>...</td>\n",
       "      <td>...</td>\n",
       "      <td>...</td>\n",
       "      <td>...</td>\n",
       "      <td>...</td>\n",
       "      <td>...</td>\n",
       "      <td>...</td>\n",
       "      <td>...</td>\n",
       "      <td>...</td>\n",
       "      <td>...</td>\n",
       "      <td>...</td>\n",
       "    </tr>\n",
       "    <tr>\n",
       "      <th>48073</th>\n",
       "      <td>0.000423</td>\n",
       "      <td>1.102712</td>\n",
       "      <td>-0.016954</td>\n",
       "      <td>-0.104597</td>\n",
       "      <td>1.014280</td>\n",
       "      <td>-0.027642</td>\n",
       "      <td>-0.016873</td>\n",
       "      <td>0.594671</td>\n",
       "      <td>0.130441</td>\n",
       "      <td>0.048492</td>\n",
       "      <td>...</td>\n",
       "      <td>-0.042631</td>\n",
       "      <td>0.132040</td>\n",
       "      <td>0.562490</td>\n",
       "      <td>-0.062917</td>\n",
       "      <td>0.020478</td>\n",
       "      <td>0.245496</td>\n",
       "      <td>-0.387327</td>\n",
       "      <td>-0.040915</td>\n",
       "      <td>0.114840</td>\n",
       "      <td>-0.402082</td>\n",
       "    </tr>\n",
       "    <tr>\n",
       "      <th>48074</th>\n",
       "      <td>0.018186</td>\n",
       "      <td>1.106193</td>\n",
       "      <td>-0.001506</td>\n",
       "      <td>-0.084583</td>\n",
       "      <td>1.014921</td>\n",
       "      <td>-0.009921</td>\n",
       "      <td>-0.145633</td>\n",
       "      <td>0.566092</td>\n",
       "      <td>-0.068626</td>\n",
       "      <td>-0.086386</td>\n",
       "      <td>...</td>\n",
       "      <td>-0.008396</td>\n",
       "      <td>0.057543</td>\n",
       "      <td>0.581865</td>\n",
       "      <td>0.096289</td>\n",
       "      <td>-0.005397</td>\n",
       "      <td>0.123504</td>\n",
       "      <td>0.160753</td>\n",
       "      <td>-0.002728</td>\n",
       "      <td>0.037506</td>\n",
       "      <td>0.278260</td>\n",
       "    </tr>\n",
       "    <tr>\n",
       "      <th>48075</th>\n",
       "      <td>-0.006496</td>\n",
       "      <td>1.106146</td>\n",
       "      <td>0.001789</td>\n",
       "      <td>-0.121335</td>\n",
       "      <td>1.030137</td>\n",
       "      <td>0.001471</td>\n",
       "      <td>-0.113435</td>\n",
       "      <td>0.584533</td>\n",
       "      <td>0.102173</td>\n",
       "      <td>-0.086860</td>\n",
       "      <td>...</td>\n",
       "      <td>-0.027863</td>\n",
       "      <td>0.066927</td>\n",
       "      <td>0.553442</td>\n",
       "      <td>-0.054853</td>\n",
       "      <td>0.062376</td>\n",
       "      <td>0.186109</td>\n",
       "      <td>-0.343375</td>\n",
       "      <td>0.060033</td>\n",
       "      <td>0.047757</td>\n",
       "      <td>-0.298015</td>\n",
       "    </tr>\n",
       "    <tr>\n",
       "      <th>48076</th>\n",
       "      <td>-0.002408</td>\n",
       "      <td>1.106574</td>\n",
       "      <td>-0.013469</td>\n",
       "      <td>-0.107362</td>\n",
       "      <td>1.018873</td>\n",
       "      <td>-0.029431</td>\n",
       "      <td>-0.069889</td>\n",
       "      <td>0.563663</td>\n",
       "      <td>-0.034337</td>\n",
       "      <td>-0.023130</td>\n",
       "      <td>...</td>\n",
       "      <td>-0.023976</td>\n",
       "      <td>0.139576</td>\n",
       "      <td>0.585271</td>\n",
       "      <td>0.113926</td>\n",
       "      <td>0.080612</td>\n",
       "      <td>0.213647</td>\n",
       "      <td>-0.162839</td>\n",
       "      <td>0.082652</td>\n",
       "      <td>0.073977</td>\n",
       "      <td>-0.121852</td>\n",
       "    </tr>\n",
       "    <tr>\n",
       "      <th>48077</th>\n",
       "      <td>-0.023687</td>\n",
       "      <td>1.112759</td>\n",
       "      <td>-0.039545</td>\n",
       "      <td>-0.145349</td>\n",
       "      <td>1.050188</td>\n",
       "      <td>-0.055318</td>\n",
       "      <td>-0.208884</td>\n",
       "      <td>0.609444</td>\n",
       "      <td>0.047031</td>\n",
       "      <td>-0.249541</td>\n",
       "      <td>...</td>\n",
       "      <td>-0.059757</td>\n",
       "      <td>0.024310</td>\n",
       "      <td>0.552391</td>\n",
       "      <td>-0.019655</td>\n",
       "      <td>-0.029757</td>\n",
       "      <td>0.090701</td>\n",
       "      <td>0.026626</td>\n",
       "      <td>-0.009979</td>\n",
       "      <td>0.011557</td>\n",
       "      <td>0.147282</td>\n",
       "    </tr>\n",
       "  </tbody>\n",
       "</table>\n",
       "<p>48078 rows × 27 columns</p>\n",
       "</div>"
      ],
      "text/plain": [
       "       Robot_Hips.X  Robot_Hips.Y  Robot_Hips.Z  Robot_LeftUpLeg.X  \\\n",
       "0          0.014469      0.657318     -0.174980          -0.087715   \n",
       "1          0.015042      0.655393     -0.171119          -0.087102   \n",
       "2          0.015036      0.655131     -0.170547          -0.087129   \n",
       "3          0.015036      0.655131     -0.170547          -0.087129   \n",
       "4          0.015032      0.655023     -0.170247          -0.087141   \n",
       "...             ...           ...           ...                ...   \n",
       "48073      0.000423      1.102712     -0.016954          -0.104597   \n",
       "48074      0.018186      1.106193     -0.001506          -0.084583   \n",
       "48075     -0.006496      1.106146      0.001789          -0.121335   \n",
       "48076     -0.002408      1.106574     -0.013469          -0.107362   \n",
       "48077     -0.023687      1.112759     -0.039545          -0.145349   \n",
       "\n",
       "       Robot_LeftUpLeg.Y  Robot_LeftUpLeg.Z  Robot_LeftLeg.X  Robot_LeftLeg.Y  \\\n",
       "0               0.570961          -0.207636        -0.258852         0.485350   \n",
       "1               0.568806          -0.203293        -0.257881         0.486372   \n",
       "2               0.568532          -0.202617        -0.257926         0.486574   \n",
       "3               0.568532          -0.202617        -0.257926         0.486574   \n",
       "4               0.568422          -0.202286        -0.257976         0.486619   \n",
       "...                  ...                ...              ...              ...   \n",
       "48073           1.014280          -0.027642        -0.016873         0.594671   \n",
       "48074           1.014921          -0.009921        -0.145633         0.566092   \n",
       "48075           1.030137           0.001471        -0.113435         0.584533   \n",
       "48076           1.018873          -0.029431        -0.069889         0.563663   \n",
       "48077           1.050188          -0.055318        -0.208884         0.609444   \n",
       "\n",
       "       Robot_LeftLeg.Z  Robot_LeftFoot.X  ...  Robot_RightUpLeg.Z  \\\n",
       "0             0.207280         -0.270620  ...           -0.206519   \n",
       "1             0.212413         -0.269969  ...           -0.202244   \n",
       "2             0.213176         -0.270099  ...           -0.201541   \n",
       "3             0.213176         -0.270099  ...           -0.201541   \n",
       "4             0.213522         -0.270155  ...           -0.201181   \n",
       "...                ...               ...  ...                 ...   \n",
       "48073         0.130441          0.048492  ...           -0.042631   \n",
       "48074        -0.068626         -0.086386  ...           -0.008396   \n",
       "48075         0.102173         -0.086860  ...           -0.027863   \n",
       "48076        -0.034337         -0.023130  ...           -0.023976   \n",
       "48077         0.047031         -0.249541  ...           -0.059757   \n",
       "\n",
       "       Robot_RightLeg.X  Robot_RightLeg.Y  Robot_RightLeg.Z  \\\n",
       "0              0.239237          0.563264          0.235140   \n",
       "1              0.239013          0.565066          0.239753   \n",
       "2              0.238677          0.565114          0.240546   \n",
       "3              0.238677          0.565114          0.240546   \n",
       "4              0.238487          0.565081          0.240956   \n",
       "...                 ...               ...               ...   \n",
       "48073          0.132040          0.562490         -0.062917   \n",
       "48074          0.057543          0.581865          0.096289   \n",
       "48075          0.066927          0.553442         -0.054853   \n",
       "48076          0.139576          0.585271          0.113926   \n",
       "48077          0.024310          0.552391         -0.019655   \n",
       "\n",
       "       Robot_RightFoot.X  Robot_RightFoot.Y  Robot_RightFoot.Z  \\\n",
       "0               0.234115           0.101813           0.307666   \n",
       "1               0.234339           0.104257           0.316286   \n",
       "2               0.233805           0.104378           0.317505   \n",
       "3               0.233805           0.104378           0.317505   \n",
       "4               0.233523           0.104367           0.318038   \n",
       "...                  ...                ...                ...   \n",
       "48073           0.020478           0.245496          -0.387327   \n",
       "48074          -0.005397           0.123504           0.160753   \n",
       "48075           0.062376           0.186109          -0.343375   \n",
       "48076           0.080612           0.213647          -0.162839   \n",
       "48077          -0.029757           0.090701           0.026626   \n",
       "\n",
       "       Robot_RightToeBase.X  Robot_RightToeBase.Y  Robot_RightToeBase.Z  \n",
       "0                  0.246179             -0.010447              0.399674  \n",
       "1                  0.246404             -0.007073              0.409416  \n",
       "2                  0.245791             -0.006864              0.410750  \n",
       "3                  0.245791             -0.006864              0.410750  \n",
       "4                  0.245463             -0.006849              0.411320  \n",
       "...                     ...                   ...                   ...  \n",
       "48073             -0.040915              0.114840             -0.402082  \n",
       "48074             -0.002728              0.037506              0.278260  \n",
       "48075              0.060033              0.047757             -0.298015  \n",
       "48076              0.082652              0.073977             -0.121852  \n",
       "48077             -0.009979              0.011557              0.147282  \n",
       "\n",
       "[48078 rows x 27 columns]"
      ]
     },
     "execution_count": 17,
     "metadata": {},
     "output_type": "execute_result"
    }
   ],
   "source": [
    "X_resampled"
   ]
  },
  {
   "cell_type": "code",
   "execution_count": 18,
   "id": "b7e1b74d-7e5b-43ff-ad23-c3a3c49017a9",
   "metadata": {},
   "outputs": [],
   "source": [
    "y_resampled = np_utils.to_categorical(y_resampled)"
   ]
  },
  {
   "cell_type": "code",
   "execution_count": 19,
   "id": "ef6d9571-6e2b-4c29-af8f-4c6893e790ef",
   "metadata": {},
   "outputs": [],
   "source": [
    "# X_resampled = MMS.fit_transform(X_resampled)\n",
    "from sklearn.preprocessing import StandardScaler\n",
    "from sklearn.preprocessing import RobustScaler\n",
    "from sklearn.preprocessing import Normalizer\n",
    "scaler = StandardScaler() #99.17\n",
    "sc = RobustScaler() #99.10\n",
    "nor = Normalizer() #96.87\n",
    "X_resampled = scaler.fit_transform(X_resampled)"
   ]
  },
  {
   "cell_type": "code",
   "execution_count": 20,
   "id": "c0c50091-4e77-481d-a596-2833dd8ce331",
   "metadata": {},
   "outputs": [
    {
     "name": "stdout",
     "output_type": "stream",
     "text": [
      "[[1. 0. 0.]\n",
      " [1. 0. 0.]\n",
      " [1. 0. 0.]\n",
      " ...\n",
      " [0. 0. 1.]\n",
      " [0. 0. 1.]\n",
      " [0. 0. 1.]]\n",
      "[[ 0.61077266 -1.88690526 -1.72449221 ...  1.30980482 -0.82085199\n",
      "   0.66458706]\n",
      " [ 0.6337562  -1.89789109 -1.66959817 ...  1.3120027  -0.73853323\n",
      "   0.70054143]\n",
      " [ 0.63352218 -1.89938273 -1.6614729  ...  1.30602837 -0.73343776\n",
      "   0.70546631]\n",
      " ...\n",
      " [-0.2303885   0.67342476  0.7887448  ... -0.50247742  0.59917071\n",
      "  -1.9104397 ]\n",
      " [-0.06636459  0.67586553  0.57181227 ... -0.28225742  1.23886675\n",
      "  -1.260256  ]\n",
      " [-0.92012199  0.71114944  0.20107878 ... -1.18409914 -0.28401264\n",
      "  -0.26693809]]\n"
     ]
    }
   ],
   "source": [
    "print(y_resampled)\n",
    "print(X_resampled)"
   ]
  },
  {
   "cell_type": "code",
   "execution_count": 21,
   "id": "426cb6ca-6f0c-4119-93cb-879983c0081a",
   "metadata": {},
   "outputs": [
    {
     "name": "stdout",
     "output_type": "stream",
     "text": [
      "독립변수 : (48078, 27)\n",
      "종속변수 : (48078, 3)\n"
     ]
    }
   ],
   "source": [
    "print(\"독립변수 : {}\".format(X_resampled.shape))\n",
    "print(\"종속변수 : {}\".format(y_resampled.shape))"
   ]
  },
  {
   "cell_type": "code",
   "execution_count": 22,
   "id": "31c05fac-21c4-4b35-967e-1c50e3983345",
   "metadata": {},
   "outputs": [],
   "source": [
    "def split(data,target):\n",
    "    x_train_all, x_test, y_train_all, y_test = train_test_split(data, target, stratify=target, test_size=0.2, random_state=42)\n",
    "    x_train, x_val, y_train, y_val = train_test_split(x_train_all, y_train_all, stratify=y_train_all, test_size=0.2, random_state=42)\n",
    "    return x_train_all, x_train, x_val, x_test, y_train_all, y_train, y_val, y_test\n",
    "    "
   ]
  },
  {
   "cell_type": "code",
   "execution_count": 23,
   "id": "f9b11377-5245-48d8-b6c6-8f6b16e86b12",
   "metadata": {},
   "outputs": [],
   "source": [
    "from tensorflow import keras\n",
    "\n",
    "def create_model():\n",
    "    model = Sequential([\n",
    "        keras.layers.Dense(units=500, activation='sigmoid', input_shape=(27,)),\n",
    "        keras.layers.Dense(units=250, activation='relu'),\n",
    "        keras.layers.Dense(units=125, activation='relu'),\n",
    "        keras.layers.Dense(units=3, activation='softmax') \n",
    "    ])\n",
    "    opt = keras.optimizers.Adam(learning_rate=0.0001)\n",
    "    model.compile(optimizer=opt, loss='categorical_crossentropy', metrics=['accuracy'])\n",
    "    \n",
    "    return model\n"
   ]
  },
  {
   "cell_type": "code",
   "execution_count": 40,
   "id": "4b2c028c-8053-4876-baab-6bf1b35fa2dc",
   "metadata": {},
   "outputs": [
    {
     "name": "stdout",
     "output_type": "stream",
     "text": [
      "(38462, 27)\n",
      "(30769, 27)\n",
      "(7693, 27)\n",
      "(9616, 27)\n",
      "(38462, 3)\n",
      "(30769, 3)\n",
      "(7693, 3)\n",
      "(9616, 3)\n"
     ]
    }
   ],
   "source": [
    "x_train_all, x_train, x_val, x_test, y_train_all, y_train, y_val, y_test = split(X_resampled,y_resampled)\n",
    "print(x_train_all.shape)\n",
    "print(x_train.shape)\n",
    "print(x_val.shape)\n",
    "print(x_test.shape)\n",
    "print(y_train_all.shape)\n",
    "print(y_train.shape)\n",
    "print(y_val.shape)\n",
    "print(y_test.shape)"
   ]
  },
  {
   "cell_type": "code",
   "execution_count": 27,
   "id": "95f75a6a-1b4f-4847-a280-0f02c3e1024e",
   "metadata": {},
   "outputs": [
    {
     "name": "stdout",
     "output_type": "stream",
     "text": [
      "Epoch 1/100\n",
      "962/962 [==============================] - 3s 2ms/step - loss: 0.2579 - accuracy: 0.9193 - val_loss: 0.1185 - val_accuracy: 0.9558\n",
      "Epoch 2/100\n",
      "962/962 [==============================] - 2s 2ms/step - loss: 0.1077 - accuracy: 0.9630 - val_loss: 0.0867 - val_accuracy: 0.9726\n",
      "Epoch 3/100\n",
      "962/962 [==============================] - 2s 2ms/step - loss: 0.0886 - accuracy: 0.9718 - val_loss: 0.0721 - val_accuracy: 0.9796\n",
      "Epoch 4/100\n",
      "962/962 [==============================] - 2s 2ms/step - loss: 0.0792 - accuracy: 0.9764 - val_loss: 0.0646 - val_accuracy: 0.9810\n",
      "Epoch 5/100\n",
      "962/962 [==============================] - 2s 2ms/step - loss: 0.0708 - accuracy: 0.9792 - val_loss: 0.0618 - val_accuracy: 0.9817\n",
      "Epoch 6/100\n",
      "962/962 [==============================] - 2s 2ms/step - loss: 0.0683 - accuracy: 0.9796 - val_loss: 0.0555 - val_accuracy: 0.9821\n",
      "Epoch 7/100\n",
      "962/962 [==============================] - 2s 2ms/step - loss: 0.0636 - accuracy: 0.9808 - val_loss: 0.0551 - val_accuracy: 0.9828\n",
      "Epoch 8/100\n",
      "962/962 [==============================] - 2s 2ms/step - loss: 0.0597 - accuracy: 0.9824 - val_loss: 0.0500 - val_accuracy: 0.9861\n",
      "Epoch 9/100\n",
      "962/962 [==============================] - 2s 2ms/step - loss: 0.0567 - accuracy: 0.9836 - val_loss: 0.0636 - val_accuracy: 0.9828\n",
      "Epoch 10/100\n",
      "962/962 [==============================] - 2s 2ms/step - loss: 0.0545 - accuracy: 0.9843 - val_loss: 0.0493 - val_accuracy: 0.9840\n",
      "Epoch 11/100\n",
      "962/962 [==============================] - 2s 2ms/step - loss: 0.0507 - accuracy: 0.9856 - val_loss: 0.0503 - val_accuracy: 0.9841\n",
      "Epoch 12/100\n",
      "962/962 [==============================] - 2s 2ms/step - loss: 0.0502 - accuracy: 0.9858 - val_loss: 0.0404 - val_accuracy: 0.9882\n",
      "Epoch 13/100\n",
      "962/962 [==============================] - 2s 2ms/step - loss: 0.0459 - accuracy: 0.9872 - val_loss: 0.0423 - val_accuracy: 0.9884\n",
      "Epoch 14/100\n",
      "962/962 [==============================] - 2s 2ms/step - loss: 0.0460 - accuracy: 0.9872 - val_loss: 0.0366 - val_accuracy: 0.9899\n",
      "Epoch 00014: early stopping\n"
     ]
    }
   ],
   "source": [
    "model = create_model()\n",
    "early_stop = EarlyStopping(monitor='loss', patience=1, verbose=1)\n",
    "\n",
    "history = model.fit(x_train,y_train, epochs=100, validation_data=(x_val,y_val),callbacks=[early_stop])\n"
   ]
  },
  {
   "cell_type": "code",
   "execution_count": 28,
   "id": "0c55f886-f425-4e9b-9a73-aec5334fcfda",
   "metadata": {},
   "outputs": [
    {
     "data": {
      "image/png": "[encoded data removed]",
      "text/plain": [
       "<IPython.core.display.Image object>"
      ]
     },
     "execution_count": 28,
     "metadata": {},
     "output_type": "execute_result"
    }
   ],
   "source": [
    "tf.keras.utils.plot_model(model,to_file=\"/home/master/Jibum/Motion_Show/HAR/my_model.png\",\n",
    "    show_shapes=True,\n",
    "    show_dtype=True,\n",
    "    show_layer_names=True,\n",
    "    rankdir=\"TB\",\n",
    "    expand_nested=False,\n",
    "    dpi=96,\n",
    ")"
   ]
  },
  {
   "cell_type": "code",
   "execution_count": 29,
   "id": "053255e5-a7fa-42c5-945c-c390b8e3a3cb",
   "metadata": {},
   "outputs": [
    {
     "name": "stdout",
     "output_type": "stream",
     "text": [
      "save!\n"
     ]
    }
   ],
   "source": [
    "model.save(\"Axis_model.h5\")\n",
    "print(\"save!\")"
   ]
  },
  {
   "cell_type": "code",
   "execution_count": 30,
   "id": "5fdbeb11-3d66-4f62-b107-dbedac434b85",
   "metadata": {},
   "outputs": [
    {
     "data": {
      "text/plain": [
       "Text(0, 0.5, 'Loss')"
      ]
     },
     "execution_count": 30,
     "metadata": {},
     "output_type": "execute_result"
    },
    {
     "data": {
      "image/png": "[encoded data removed]",
      "text/plain": [
       "<Figure size 432x288 with 1 Axes>"
      ]
     },
     "metadata": {
      "needs_background": "light"
     },
     "output_type": "display_data"
    }
   ],
   "source": [
    "plt.plot(history.history['loss'])\n",
    "plt.plot(history.history['val_loss'])\n",
    "plt.xlabel(\"epoch\")\n",
    "plt.ylabel(\"Loss\")"
   ]
  },
  {
   "cell_type": "code",
   "execution_count": 31,
   "id": "4198705f-bead-4612-b8d5-23d9cbfed615",
   "metadata": {},
   "outputs": [
    {
     "data": {
      "text/plain": [
       "Text(0, 0.5, 'Accuracy')"
      ]
     },
     "execution_count": 31,
     "metadata": {},
     "output_type": "execute_result"
    },
    {
     "data": {
      "image/png": "[encoded data removed]",
      "text/plain": [
       "<Figure size 432x288 with 1 Axes>"
      ]
     },
     "metadata": {
      "needs_background": "light"
     },
     "output_type": "display_data"
    }
   ],
   "source": [
    "plt.plot(history.history['accuracy'])\n",
    "plt.plot(history.history['val_accuracy'])\n",
    "plt.xlabel(\"epoch\")\n",
    "plt.ylabel(\"Accuracy\")"
   ]
  },
  {
   "cell_type": "code",
   "execution_count": 32,
   "id": "86ee58dc-1e8c-4a29-95d5-e98c14933749",
   "metadata": {},
   "outputs": [
    {
     "name": "stdout",
     "output_type": "stream",
     "text": [
      "301/301 - 0s - loss: 0.0385 - accuracy: 0.9898\n",
      "기존 모델의 테스트 데이터정확도 : 98.98%\n"
     ]
    }
   ],
   "source": [
    "loss, acc = model.evaluate(x_test,y_test, verbose=2)\n",
    "print(\"기존 모델의 테스트 데이터정확도 : {:5.2f}%\".format(100*acc))"
   ]
  },
  {
   "cell_type": "code",
   "execution_count": 33,
   "id": "27ea6aa1-a668-4569-b1e7-df53862a9915",
   "metadata": {},
   "outputs": [
    {
     "name": "stdout",
     "output_type": "stream",
     "text": [
      "241/241 - 0s - loss: 0.0366 - accuracy: 0.9899\n",
      "[[ 0.33414096  0.68361602  0.47952572 ... -0.37193198  0.0680448\n",
      "  -0.90120947]\n",
      " [-0.24030727  0.70516201  0.76533905 ... -0.15459072 -0.25310301\n",
      "  -0.54179573]\n",
      " [ 1.35104969 -1.52411831 -1.742173   ...  0.62314456 -0.2960016\n",
      "   1.32938021]\n",
      " ...\n",
      " [ 1.35544848 -1.37462184 -1.42788855 ... -1.06825174 -1.21921844\n",
      "   1.06982396]\n",
      " [ 1.34500868  0.68673134  0.22566066 ... -0.15802449  0.10024139\n",
      "  -0.40140787]\n",
      " [ 0.25996526  0.70615212  0.76650092 ... -0.30357665 -0.06319751\n",
      "  -0.47535567]], [[0. 0. 1.]\n",
      " [0. 0. 1.]\n",
      " [1. 0. 0.]\n",
      " ...\n",
      " [1. 0. 0.]\n",
      " [0. 0. 1.]\n",
      " [0. 1. 0.]]%\n",
      "<class 'numpy.ndarray'>, <class 'numpy.ndarray'>%\n",
      "기존 모델의 검증 데이터 정확도 : 98.99%\n"
     ]
    }
   ],
   "source": [
    "loss, acc = model.evaluate(x_val,y_val, verbose=2)\n",
    "print(\"{}, {}%\".format(x_val, y_val))\n",
    "print(\"{}, {}%\".format(type(x_val), type(y_val)))\n",
    "print(\"기존 모델의 검증 데이터 정확도 : {:5.2f}%\".format(100*acc))"
   ]
  },
  {
   "cell_type": "code",
   "execution_count": 34,
   "id": "26d42e53-d20d-44c0-9fb2-e7826448220b",
   "metadata": {},
   "outputs": [
    {
     "name": "stdout",
     "output_type": "stream",
     "text": [
      "[0 2 0 ... 2 2 0]\n",
      "[[1. 0. 0.]\n",
      " [0. 0. 1.]\n",
      " [1. 0. 0.]\n",
      " ...\n",
      " [0. 0. 1.]\n",
      " [0. 0. 1.]\n",
      " [1. 0. 0.]]\n"
     ]
    }
   ],
   "source": [
    "pred = model.predict(x_test)\n",
    "pred = np.argmax(pred, axis=1)\n",
    "print(pred)\n",
    "print(y_test)"
   ]
  },
  {
   "cell_type": "code",
   "execution_count": 35,
   "id": "5fe50eff-6b55-49a2-b9e5-25036a83b1ec",
   "metadata": {},
   "outputs": [
    {
     "name": "stdout",
     "output_type": "stream",
     "text": [
      "['sit' 'walk' 'sit' ... 'walk' 'walk' 'sit']\n"
     ]
    }
   ],
   "source": [
    "pred = le.inverse_transform(pred)\n",
    "print(pred)"
   ]
  },
  {
   "cell_type": "code",
   "execution_count": 36,
   "id": "82fed384-59fe-46ff-b025-3d4907c6e2e1",
   "metadata": {},
   "outputs": [
    {
     "name": "stdout",
     "output_type": "stream",
     "text": [
      "301/301 - 0s - loss: 1.2255 - accuracy: 0.3333\n",
      "훈련되지 않은 모델 정확도 : 33.33%\n"
     ]
    }
   ],
   "source": [
    "new_model = create_model()\n",
    "\n",
    "loss, acc = new_model.evaluate(x_test, y_test, verbose=2)\n",
    "print(\"훈련되지 않은 모델 정확도 : {:5.2f}%\".format(100*acc))"
   ]
  },
  {
   "cell_type": "code",
   "execution_count": 37,
   "id": "9838a392-bdbf-4f39-a828-f5fbd46284de",
   "metadata": {},
   "outputs": [
    {
     "name": "stdout",
     "output_type": "stream",
     "text": [
      "301/301 - 0s - loss: 0.0385 - accuracy: 0.9898\n",
      "저장된 모델의 정확도 : 98.98%\n"
     ]
    }
   ],
   "source": [
    "load_model = tf.keras.models.load_model('Axis_model.h5')\n",
    "\n",
    "\n",
    "loss,acc = load_model.evaluate(x_test, y_test, verbose=2)\n",
    "print(\"저장된 모델의 정확도 : {:5.2f}%\".format(100*acc))"
   ]
  },
  {
   "cell_type": "code",
   "execution_count": null,
   "id": "1944dfb6-2217-4ccb-917d-61013cb96595",
   "metadata": {},
   "outputs": [],
   "source": []
  }
 ],
 "metadata": {
  "kernelspec": {
   "display_name": "Python 3",
   "language": "python",
   "name": "python3"
  },
  "language_info": {
   "codemirror_mode": {
    "name": "ipython",
    "version": 3
   },
   "file_extension": ".py",
   "mimetype": "text/x-python",
   "name": "python",
   "nbconvert_exporter": "python",
   "pygments_lexer": "ipython3",
   "version": "3.8.8"
  }
 },
 "nbformat": 4,
 "nbformat_minor": 5
}
