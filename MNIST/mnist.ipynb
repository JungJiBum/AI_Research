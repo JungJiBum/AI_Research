{
 "cells": [
  {
   "cell_type": "code",
   "execution_count": 9,
   "metadata": {},
   "outputs": [],
   "source": [
    "import tensorflow as tf\n",
    "import numpy as np\n",
    "from tensorflow import keras\n",
    "import matplotlib.pyplot as plt\n"
   ]
  },
  {
   "cell_type": "markdown",
   "metadata": {},
   "source": [
    "## 데이터셋 준비"
   ]
  },
  {
   "cell_type": "code",
   "execution_count": 16,
   "metadata": {},
   "outputs": [
    {
     "name": "stdout",
     "output_type": "stream",
     "text": [
      "(60000, 28, 28)\n"
     ]
    },
    {
     "data": {
      "text/plain": [
       "numpy.ndarray"
      ]
     },
     "execution_count": 16,
     "metadata": {},
     "output_type": "execute_result"
    }
   ],
   "source": [
    "mnist = keras.datasets.mnist\n",
    "(X_train, Y_train), (X_test, Y_test) = mnist.load_data()\n",
    "\n",
    "print(X_train.shape)\n",
    "# print(X_test.shape)\n",
    "# print(Y_train.shape)\n",
    "# print(Y_test.shape)\n",
    "sn = X_train.shape[0]\n",
    "wd = X_train.shape[1]\n",
    "he = X_train.shape[2]\n",
    "type(X_train)"
   ]
  },
  {
   "cell_type": "code",
   "execution_count": 3,
   "metadata": {},
   "outputs": [
    {
     "data": {
      "image/png": "[encoded data removed]",
      "text/plain": [
       "<Figure size 432x288 with 1 Axes>"
      ]
     },
     "metadata": {
      "needs_background": "light"
     },
     "output_type": "display_data"
    }
   ],
   "source": [
    "plt.imshow(X_train[0], cmap='gray')\n",
    "plt.show()"
   ]
  },
  {
   "cell_type": "markdown",
   "metadata": {},
   "source": [
    "### 데이터 변환"
   ]
  },
  {
   "cell_type": "code",
   "execution_count": 4,
   "metadata": {},
   "outputs": [],
   "source": [
    "X_train = X_train.astype('float32')\n",
    "X_test = X_test.astype('float32')\n",
    "\n",
    "X_train /= 255.0\n",
    "X_test /= 255.0"
   ]
  },
  {
   "cell_type": "markdown",
   "metadata": {},
   "source": [
    "### 원 핫 인코딩"
   ]
  },
  {
   "cell_type": "code",
   "execution_count": 5,
   "metadata": {},
   "outputs": [],
   "source": [
    "Y_train = tf.keras.utils.to_categorical(Y_train, 10)\n",
    "Y_test = tf.keras.utils.to_categorical(Y_test, 10)\n"
   ]
  },
  {
   "cell_type": "code",
   "execution_count": 6,
   "metadata": {},
   "outputs": [
    {
     "name": "stdout",
     "output_type": "stream",
     "text": [
      "Model: \"sequential\"\n",
      "_________________________________________________________________\n",
      "Layer (type)                 Output Shape              Param #   \n",
      "=================================================================\n",
      "flatten (Flatten)            (None, 784)               0         \n",
      "_________________________________________________________________\n",
      "dense (Dense)                (None, 128)               100480    \n",
      "_________________________________________________________________\n",
      "dense_1 (Dense)              (None, 10)                1290      \n",
      "=================================================================\n",
      "Total params: 101,770\n",
      "Trainable params: 101,770\n",
      "Non-trainable params: 0\n",
      "_________________________________________________________________\n"
     ]
    }
   ],
   "source": [
    "model = tf.keras.models.Sequential([\n",
    "    tf.keras.layers.Flatten(input_shape=(28,28)),\n",
    "    tf.keras.layers.Dense(128, activation='elu'),\n",
    "    tf.keras.layers.Dense(10, activation='softmax')\n",
    "])\n",
    "\n",
    "model.compile(optimizer='SGD',\n",
    "             loss='categorical_crossentropy',\n",
    "             metrics=['accuracy'])\n",
    "model.summary()"
   ]
  },
  {
   "cell_type": "code",
   "execution_count": 7,
   "metadata": {},
   "outputs": [
    {
     "name": "stdout",
     "output_type": "stream",
     "text": [
      "Epoch 1/10\n",
      "375/375 - 6s - loss: 1.1300 - accuracy: 0.7146 - val_loss: 0.6404 - val_accuracy: 0.8547\n",
      "Epoch 2/10\n",
      "375/375 - 1s - loss: 0.5744 - accuracy: 0.8580 - val_loss: 0.4700 - val_accuracy: 0.8842\n",
      "Epoch 3/10\n",
      "375/375 - 1s - loss: 0.4682 - accuracy: 0.8760 - val_loss: 0.4083 - val_accuracy: 0.8925\n",
      "Epoch 4/10\n",
      "375/375 - 1s - loss: 0.4204 - accuracy: 0.8856 - val_loss: 0.3762 - val_accuracy: 0.8991\n",
      "Epoch 5/10\n",
      "375/375 - 1s - loss: 0.3922 - accuracy: 0.8917 - val_loss: 0.3556 - val_accuracy: 0.9029\n",
      "Epoch 6/10\n",
      "375/375 - 1s - loss: 0.3729 - accuracy: 0.8965 - val_loss: 0.3413 - val_accuracy: 0.9052\n",
      "Epoch 7/10\n",
      "375/375 - 2s - loss: 0.3590 - accuracy: 0.8993 - val_loss: 0.3305 - val_accuracy: 0.9086\n",
      "Epoch 8/10\n",
      "375/375 - 2s - loss: 0.3480 - accuracy: 0.9021 - val_loss: 0.3222 - val_accuracy: 0.9103\n",
      "Epoch 9/10\n",
      "375/375 - 1s - loss: 0.3391 - accuracy: 0.9044 - val_loss: 0.3152 - val_accuracy: 0.9123\n",
      "Epoch 10/10\n",
      "375/375 - 1s - loss: 0.3317 - accuracy: 0.9067 - val_loss: 0.3091 - val_accuracy: 0.9141\n"
     ]
    },
    {
     "data": {
      "text/plain": [
       "<tensorflow.python.keras.callbacks.History at 0x7fef5dd91a00>"
      ]
     },
     "execution_count": 7,
     "metadata": {},
     "output_type": "execute_result"
    }
   ],
   "source": [
    "model.fit(X_train, Y_train,\n",
    "          batch_size=128, epochs=10,\n",
    "          verbose=2, validation_split =0.2 )\n"
   ]
  },
  {
   "cell_type": "code",
   "execution_count": 8,
   "metadata": {},
   "outputs": [
    {
     "name": "stdout",
     "output_type": "stream",
     "text": [
      "313/313 [==============================] - 0s 1ms/step - loss: 0.3097 - accuracy: 0.9129\n",
      "Test Acc :  0.9128999710083008\n",
      "Test loss :  0.30973270535469055\n"
     ]
    }
   ],
   "source": [
    "test_loss, test_acc = model.evaluate(X_test,Y_test)\n",
    "print(\"Test Acc : \", test_acc)\n",
    "print(\"Test loss : \", test_loss)"
   ]
  }
 ],
 "metadata": {
  "kernelspec": {
   "display_name": "Python 3",
   "language": "python",
   "name": "python3"
  },
  "language_info": {
   "codemirror_mode": {
    "name": "ipython",
    "version": 3
   },
   "file_extension": ".py",
   "mimetype": "text/x-python",
   "name": "python",
   "nbconvert_exporter": "python",
   "pygments_lexer": "ipython3",
   "version": "3.8.8"
  }
 },
 "nbformat": 4,
 "nbformat_minor": 4
}
