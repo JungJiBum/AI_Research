{
 "cells": [
  {
   "cell_type": "code",
   "execution_count": 1,
   "id": "e6510f20",
   "metadata": {},
   "outputs": [],
   "source": [
    "#케라스, 라이브러리, 데이터셋 호출\n",
    "from keras.utils import np_utils\n",
    "from keras.models import Sequential\n",
    "from keras.layers import Dense\n",
    "\n",
    "import numpy\n",
    "import tensorflow as tf\n",
    "\n",
    "from keras.datasets import mnist"
   ]
  },
  {
   "cell_type": "code",
   "execution_count": 2,
   "id": "572c0048",
   "metadata": {},
   "outputs": [],
   "source": [
    "#같은 결과값 도출을 위한 시드 설정\n",
    "numpy.random.seed(0)\n",
    "tf.random.set_seed(0)"
   ]
  },
  {
   "cell_type": "code",
   "execution_count": 3,
   "id": "7cd93689",
   "metadata": {},
   "outputs": [],
   "source": [
    "#데이터를 불러와 각 변수에 저장\n",
    "(X_train, Y_train), (X_test, Y_test) = mnist.load_data()"
   ]
  },
  {
   "cell_type": "code",
   "execution_count": 4,
   "id": "67d39445",
   "metadata": {},
   "outputs": [],
   "source": [
    "#데이터 가공\n",
    "X_train = X_train.reshape(X_train.shape[0], 784).astype('float32') / 255\n",
    "X_test = X_test.reshape(X_test.shape[0], 784).astype('float32') / 255"
   ]
  },
  {
   "cell_type": "code",
   "execution_count": 5,
   "id": "4a918e94",
   "metadata": {},
   "outputs": [],
   "source": [
    "#학습에 이용하기 위한 데이터 가공\n",
    "Y_train = np_utils.to_categorical(Y_train, 10)\n",
    "Y_test = np_utils.to_categorical(Y_test, 10)"
   ]
  },
  {
   "cell_type": "code",
   "execution_count": 6,
   "id": "9b4d1cbf",
   "metadata": {},
   "outputs": [],
   "source": [
    "#모델 구조 설정\n",
    "model = Sequential()\n",
    "model.add(Dense(512, input_dim=784, activation='elu'))\n",
    "model.add(Dense(10, activation='softmax'))"
   ]
  },
  {
   "cell_type": "code",
   "execution_count": 7,
   "id": "338a0df6",
   "metadata": {},
   "outputs": [],
   "source": [
    "#구조 설정\n",
    "model.compile(loss='categorical_crossentropy', optimizer='adam',\n",
    "              metrics=['accuracy'])"
   ]
  },
  {
   "cell_type": "code",
   "execution_count": 10,
   "id": "eca62844",
   "metadata": {},
   "outputs": [
    {
     "name": "stdout",
     "output_type": "stream",
     "text": [
      "Epoch 1/30\n",
      "400/400 [==============================] - 3s 6ms/step - loss: 0.0012 - accuracy: 0.9997 - val_loss: 0.0897 - val_accuracy: 0.9844\n",
      "Epoch 2/30\n",
      "400/400 [==============================] - 2s 6ms/step - loss: 1.6383e-04 - accuracy: 1.0000 - val_loss: 0.0881 - val_accuracy: 0.9844\n",
      "Epoch 3/30\n",
      "400/400 [==============================] - 2s 6ms/step - loss: 1.0573e-04 - accuracy: 1.0000 - val_loss: 0.0880 - val_accuracy: 0.9842\n",
      "Epoch 4/30\n",
      "400/400 [==============================] - 2s 6ms/step - loss: 8.6822e-05 - accuracy: 1.0000 - val_loss: 0.0882 - val_accuracy: 0.9843\n",
      "Epoch 5/30\n",
      "400/400 [==============================] - 3s 6ms/step - loss: 7.5593e-05 - accuracy: 1.0000 - val_loss: 0.0880 - val_accuracy: 0.9844\n",
      "Epoch 6/30\n",
      "400/400 [==============================] - 3s 7ms/step - loss: 6.7327e-05 - accuracy: 1.0000 - val_loss: 0.0887 - val_accuracy: 0.9843\n",
      "Epoch 7/30\n",
      "400/400 [==============================] - 3s 7ms/step - loss: 5.7168e-05 - accuracy: 1.0000 - val_loss: 0.0887 - val_accuracy: 0.9842\n",
      "Epoch 8/30\n",
      "400/400 [==============================] - 3s 6ms/step - loss: 5.2880e-05 - accuracy: 1.0000 - val_loss: 0.0896 - val_accuracy: 0.9844\n",
      "Epoch 9/30\n",
      "400/400 [==============================] - 3s 6ms/step - loss: 4.7055e-05 - accuracy: 1.0000 - val_loss: 0.0901 - val_accuracy: 0.9841\n",
      "Epoch 10/30\n",
      "400/400 [==============================] - 2s 6ms/step - loss: 4.2396e-05 - accuracy: 1.0000 - val_loss: 0.0906 - val_accuracy: 0.9844\n",
      "Epoch 11/30\n",
      "400/400 [==============================] - 2s 6ms/step - loss: 3.7881e-05 - accuracy: 1.0000 - val_loss: 0.0917 - val_accuracy: 0.9844\n",
      "Epoch 12/30\n",
      "400/400 [==============================] - 2s 6ms/step - loss: 3.4263e-05 - accuracy: 1.0000 - val_loss: 0.0920 - val_accuracy: 0.9846\n",
      "Epoch 13/30\n",
      "400/400 [==============================] - 2s 6ms/step - loss: 3.5994e-05 - accuracy: 1.0000 - val_loss: 0.0934 - val_accuracy: 0.9841\n",
      "Epoch 14/30\n",
      "400/400 [==============================] - 2s 6ms/step - loss: 3.3199e-05 - accuracy: 1.0000 - val_loss: 0.0941 - val_accuracy: 0.9844\n",
      "Epoch 15/30\n",
      "400/400 [==============================] - 2s 6ms/step - loss: 0.0132 - accuracy: 0.9963 - val_loss: 0.1153 - val_accuracy: 0.9796\n",
      "Epoch 16/30\n",
      "400/400 [==============================] - 2s 6ms/step - loss: 0.0030 - accuracy: 0.9990 - val_loss: 0.0970 - val_accuracy: 0.9829\n",
      "Epoch 17/30\n",
      "400/400 [==============================] - 2s 6ms/step - loss: 3.4049e-04 - accuracy: 0.9999 - val_loss: 0.0918 - val_accuracy: 0.9836\n",
      "Epoch 18/30\n",
      "400/400 [==============================] - 2s 6ms/step - loss: 9.2500e-05 - accuracy: 1.0000 - val_loss: 0.0918 - val_accuracy: 0.9835\n",
      "Epoch 19/30\n",
      "400/400 [==============================] - 2s 6ms/step - loss: 5.9722e-05 - accuracy: 1.0000 - val_loss: 0.0919 - val_accuracy: 0.9838\n",
      "Epoch 20/30\n",
      "400/400 [==============================] - 2s 6ms/step - loss: 4.9313e-05 - accuracy: 1.0000 - val_loss: 0.0922 - val_accuracy: 0.9837\n",
      "Epoch 21/30\n",
      "400/400 [==============================] - 2s 6ms/step - loss: 4.2568e-05 - accuracy: 1.0000 - val_loss: 0.0923 - val_accuracy: 0.9838\n",
      "Epoch 22/30\n",
      "400/400 [==============================] - 2s 6ms/step - loss: 3.6876e-05 - accuracy: 1.0000 - val_loss: 0.0929 - val_accuracy: 0.9845\n",
      "Epoch 23/30\n",
      "400/400 [==============================] - 2s 6ms/step - loss: 3.2782e-05 - accuracy: 1.0000 - val_loss: 0.0931 - val_accuracy: 0.9850\n",
      "Epoch 24/30\n",
      "400/400 [==============================] - 3s 6ms/step - loss: 2.9038e-05 - accuracy: 1.0000 - val_loss: 0.0933 - val_accuracy: 0.9846\n",
      "Epoch 25/30\n",
      "400/400 [==============================] - 2s 6ms/step - loss: 2.5994e-05 - accuracy: 1.0000 - val_loss: 0.0939 - val_accuracy: 0.9848\n",
      "Epoch 26/30\n",
      "400/400 [==============================] - 2s 6ms/step - loss: 2.2986e-05 - accuracy: 1.0000 - val_loss: 0.0943 - val_accuracy: 0.9848\n",
      "Epoch 27/30\n",
      "400/400 [==============================] - 2s 6ms/step - loss: 2.0503e-05 - accuracy: 1.0000 - val_loss: 0.0952 - val_accuracy: 0.9848\n",
      "Epoch 28/30\n",
      "400/400 [==============================] - 2s 6ms/step - loss: 1.8099e-05 - accuracy: 1.0000 - val_loss: 0.0956 - val_accuracy: 0.9848\n",
      "Epoch 29/30\n",
      "400/400 [==============================] - 2s 6ms/step - loss: 1.6590e-05 - accuracy: 1.0000 - val_loss: 0.0959 - val_accuracy: 0.9849\n",
      "Epoch 30/30\n",
      "400/400 [==============================] - 2s 6ms/step - loss: 1.4687e-05 - accuracy: 1.0000 - val_loss: 0.0966 - val_accuracy: 0.9853\n"
     ]
    },
    {
     "data": {
      "text/plain": [
       "<keras.callbacks.History at 0x20a96d1dfd0>"
      ]
     },
     "execution_count": 10,
     "metadata": {},
     "output_type": "execute_result"
    }
   ],
   "source": [
    "#150개씩 30번 학습\n",
    "model.fit(X_train, Y_train, validation_data=(X_test, Y_test), epochs=30, batch_size=150, verbose=1)"
   ]
  },
  {
   "cell_type": "code",
   "execution_count": 11,
   "id": "5d71318e",
   "metadata": {},
   "outputs": [
    {
     "name": "stdout",
     "output_type": "stream",
     "text": [
      "1875/1875 [==============================] - 3s 2ms/step - loss: 1.2550e-05 - accuracy: 1.0000\n",
      "\n",
      "Accuracy: 1.0000\n",
      "313/313 [==============================] - 1s 2ms/step - loss: 0.0966 - accuracy: 0.9853\n",
      "\n",
      "Val_Accuracy: 0.9853\n"
     ]
    }
   ],
   "source": [
    "#학습 정확도 및 검증 정확도\n",
    "print('\\nAccuracy: {:.4f}'.format(model.evaluate(X_train, Y_train)[1]))\n",
    "print('\\nVal_Accuracy: {:.4f}'.format(model.evaluate(X_test, Y_test)[1]))"
   ]
  },
  {
   "cell_type": "code",
   "execution_count": null,
   "id": "fe9b0aea",
   "metadata": {},
   "outputs": [],
   "source": []
  }
 ],
 "metadata": {
  "kernelspec": {
   "display_name": "Python 3",
   "language": "python",
   "name": "python3"
  },
  "language_info": {
   "codemirror_mode": {
    "name": "ipython",
    "version": 3
   },
   "file_extension": ".py",
   "mimetype": "text/x-python",
   "name": "python",
   "nbconvert_exporter": "python",
   "pygments_lexer": "ipython3",
   "version": "3.8.8"
  }
 },
 "nbformat": 4,
 "nbformat_minor": 5
}
