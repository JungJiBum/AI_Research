{
 "cells": [
  {
   "cell_type": "code",
   "execution_count": 1,
   "id": "98389a0a-0bf2-49c2-9e96-3f6f48d15b6e",
   "metadata": {},
   "outputs": [],
   "source": [
    "import numpy as np\n",
    "import pandas as pd\n",
    "import matplotlib.pyplot as plt\n",
    "\n",
    "data = pd.read_csv('train_data_clinical_patient.csv')\n",
    "rna = pd.read_csv('train_data_rna-seq.csv')"
   ]
  },
  {
   "cell_type": "code",
   "execution_count": 2,
   "id": "d18cee12-df0c-4321-9c22-06963e99f34a",
   "metadata": {},
   "outputs": [],
   "source": [
    "test = pd.read_csv('test_data_rna-seq_v1.csv')\n",
    "test = test.iloc[:,2:] # 전체 행 / 0,1 열 제외하고 출력\n",
    "test = test.dropna(axis=0) # NaN값 제거\n",
    "test = test.T # 행/열 변환\n",
    "test = test.rename(lambda label:label[8:]) #patient_제외하고 레이블링 설정\n",
    "test['sort'] = test.index #맨 마지막 열에 sort열 생성\n",
    "test = test.astype(np.float64)\n",
    "test = test.sort_values(by='sort',ascending=True) #인덱스 정렬\n",
    "test = test.drop(columns='sort') # sort 열 제거"
   ]
  },
  {
   "cell_type": "code",
   "execution_count": 3,
   "id": "cbe6062e-9410-47f2-934b-d6fdfceedd4a",
   "metadata": {},
   "outputs": [
    {
     "data": {
      "text/html": [
       "<div>\n",
       "<style scoped>\n",
       "    .dataframe tbody tr th:only-of-type {\n",
       "        vertical-align: middle;\n",
       "    }\n",
       "\n",
       "    .dataframe tbody tr th {\n",
       "        vertical-align: top;\n",
       "    }\n",
       "\n",
       "    .dataframe thead th {\n",
       "        text-align: right;\n",
       "    }\n",
       "</style>\n",
       "<table border=\"1\" class=\"dataframe\">\n",
       "  <thead>\n",
       "    <tr style=\"text-align: right;\">\n",
       "      <th></th>\n",
       "      <th>1</th>\n",
       "      <th>2</th>\n",
       "      <th>3</th>\n",
       "      <th>4</th>\n",
       "      <th>6</th>\n",
       "      <th>11</th>\n",
       "      <th>12</th>\n",
       "      <th>19</th>\n",
       "      <th>20</th>\n",
       "      <th>22</th>\n",
       "      <th>...</th>\n",
       "      <th>20521</th>\n",
       "      <th>20522</th>\n",
       "      <th>20523</th>\n",
       "      <th>20524</th>\n",
       "      <th>20525</th>\n",
       "      <th>20526</th>\n",
       "      <th>20527</th>\n",
       "      <th>20528</th>\n",
       "      <th>20529</th>\n",
       "      <th>20530</th>\n",
       "    </tr>\n",
       "  </thead>\n",
       "  <tbody>\n",
       "    <tr>\n",
       "      <th>1</th>\n",
       "      <td>-3.6531</td>\n",
       "      <td>-1.2866</td>\n",
       "      <td>-0.8844</td>\n",
       "      <td>1.0053</td>\n",
       "      <td>-2.1361</td>\n",
       "      <td>-1.3499</td>\n",
       "      <td>-2.6803</td>\n",
       "      <td>-0.8835</td>\n",
       "      <td>-2.0407</td>\n",
       "      <td>-2.2589</td>\n",
       "      <td>...</td>\n",
       "      <td>-0.7690</td>\n",
       "      <td>-0.1299</td>\n",
       "      <td>0.1915</td>\n",
       "      <td>-0.1904</td>\n",
       "      <td>-1.1761</td>\n",
       "      <td>1.8149</td>\n",
       "      <td>0.7038</td>\n",
       "      <td>1.1159</td>\n",
       "      <td>-0.3484</td>\n",
       "      <td>-0.4009</td>\n",
       "    </tr>\n",
       "    <tr>\n",
       "      <th>2</th>\n",
       "      <td>0.2661</td>\n",
       "      <td>0.6528</td>\n",
       "      <td>-0.7820</td>\n",
       "      <td>0.6400</td>\n",
       "      <td>-0.3290</td>\n",
       "      <td>-1.1215</td>\n",
       "      <td>2.0988</td>\n",
       "      <td>0.9483</td>\n",
       "      <td>-0.1546</td>\n",
       "      <td>-0.4375</td>\n",
       "      <td>...</td>\n",
       "      <td>-0.0649</td>\n",
       "      <td>-0.0885</td>\n",
       "      <td>-0.8805</td>\n",
       "      <td>-0.5958</td>\n",
       "      <td>0.5515</td>\n",
       "      <td>0.3507</td>\n",
       "      <td>0.3513</td>\n",
       "      <td>-0.1165</td>\n",
       "      <td>-0.2731</td>\n",
       "      <td>0.0095</td>\n",
       "    </tr>\n",
       "    <tr>\n",
       "      <th>3</th>\n",
       "      <td>0.6270</td>\n",
       "      <td>0.0497</td>\n",
       "      <td>0.2196</td>\n",
       "      <td>-0.1943</td>\n",
       "      <td>0.1297</td>\n",
       "      <td>-1.0722</td>\n",
       "      <td>0.0220</td>\n",
       "      <td>0.3827</td>\n",
       "      <td>1.2503</td>\n",
       "      <td>-0.4797</td>\n",
       "      <td>...</td>\n",
       "      <td>1.2754</td>\n",
       "      <td>1.3721</td>\n",
       "      <td>1.2591</td>\n",
       "      <td>1.9395</td>\n",
       "      <td>1.5085</td>\n",
       "      <td>1.7182</td>\n",
       "      <td>2.0320</td>\n",
       "      <td>0.1193</td>\n",
       "      <td>0.9679</td>\n",
       "      <td>1.0774</td>\n",
       "    </tr>\n",
       "    <tr>\n",
       "      <th>4</th>\n",
       "      <td>1.8635</td>\n",
       "      <td>1.2665</td>\n",
       "      <td>0.1321</td>\n",
       "      <td>-0.4352</td>\n",
       "      <td>0.1718</td>\n",
       "      <td>0.3453</td>\n",
       "      <td>0.5043</td>\n",
       "      <td>1.5079</td>\n",
       "      <td>1.5333</td>\n",
       "      <td>0.2684</td>\n",
       "      <td>...</td>\n",
       "      <td>1.3948</td>\n",
       "      <td>1.0977</td>\n",
       "      <td>2.1222</td>\n",
       "      <td>0.8577</td>\n",
       "      <td>2.7827</td>\n",
       "      <td>0.4183</td>\n",
       "      <td>0.8452</td>\n",
       "      <td>-2.0517</td>\n",
       "      <td>1.1303</td>\n",
       "      <td>0.4846</td>\n",
       "    </tr>\n",
       "    <tr>\n",
       "      <th>5</th>\n",
       "      <td>-0.6275</td>\n",
       "      <td>-0.6568</td>\n",
       "      <td>-1.6290</td>\n",
       "      <td>-1.4820</td>\n",
       "      <td>-1.7779</td>\n",
       "      <td>-0.9692</td>\n",
       "      <td>-1.5749</td>\n",
       "      <td>-0.4975</td>\n",
       "      <td>-1.8058</td>\n",
       "      <td>0.6240</td>\n",
       "      <td>...</td>\n",
       "      <td>-1.1046</td>\n",
       "      <td>-0.9107</td>\n",
       "      <td>0.4796</td>\n",
       "      <td>0.2064</td>\n",
       "      <td>-0.6044</td>\n",
       "      <td>-0.6893</td>\n",
       "      <td>-0.9811</td>\n",
       "      <td>0.7733</td>\n",
       "      <td>-1.4425</td>\n",
       "      <td>-0.7750</td>\n",
       "    </tr>\n",
       "    <tr>\n",
       "      <th>...</th>\n",
       "      <td>...</td>\n",
       "      <td>...</td>\n",
       "      <td>...</td>\n",
       "      <td>...</td>\n",
       "      <td>...</td>\n",
       "      <td>...</td>\n",
       "      <td>...</td>\n",
       "      <td>...</td>\n",
       "      <td>...</td>\n",
       "      <td>...</td>\n",
       "      <td>...</td>\n",
       "      <td>...</td>\n",
       "      <td>...</td>\n",
       "      <td>...</td>\n",
       "      <td>...</td>\n",
       "      <td>...</td>\n",
       "      <td>...</td>\n",
       "      <td>...</td>\n",
       "      <td>...</td>\n",
       "      <td>...</td>\n",
       "      <td>...</td>\n",
       "    </tr>\n",
       "    <tr>\n",
       "      <th>70</th>\n",
       "      <td>-2.2865</td>\n",
       "      <td>-2.6079</td>\n",
       "      <td>-0.3615</td>\n",
       "      <td>1.0572</td>\n",
       "      <td>-0.6241</td>\n",
       "      <td>-0.1795</td>\n",
       "      <td>0.7696</td>\n",
       "      <td>-0.6364</td>\n",
       "      <td>-0.0445</td>\n",
       "      <td>0.5093</td>\n",
       "      <td>...</td>\n",
       "      <td>1.4717</td>\n",
       "      <td>1.9149</td>\n",
       "      <td>-1.2712</td>\n",
       "      <td>-0.5375</td>\n",
       "      <td>-1.5697</td>\n",
       "      <td>-0.4334</td>\n",
       "      <td>-0.7383</td>\n",
       "      <td>1.5243</td>\n",
       "      <td>-1.5691</td>\n",
       "      <td>-0.6089</td>\n",
       "    </tr>\n",
       "    <tr>\n",
       "      <th>71</th>\n",
       "      <td>1.8908</td>\n",
       "      <td>1.6385</td>\n",
       "      <td>1.3709</td>\n",
       "      <td>1.2346</td>\n",
       "      <td>2.3879</td>\n",
       "      <td>1.7848</td>\n",
       "      <td>-0.6311</td>\n",
       "      <td>-1.4158</td>\n",
       "      <td>0.5490</td>\n",
       "      <td>-0.3936</td>\n",
       "      <td>...</td>\n",
       "      <td>1.3178</td>\n",
       "      <td>0.9137</td>\n",
       "      <td>-0.8435</td>\n",
       "      <td>0.6213</td>\n",
       "      <td>-0.8221</td>\n",
       "      <td>1.9176</td>\n",
       "      <td>0.6194</td>\n",
       "      <td>0.9272</td>\n",
       "      <td>-2.2363</td>\n",
       "      <td>-0.6841</td>\n",
       "    </tr>\n",
       "    <tr>\n",
       "      <th>72</th>\n",
       "      <td>-3.1094</td>\n",
       "      <td>-0.4106</td>\n",
       "      <td>-0.2267</td>\n",
       "      <td>-0.5026</td>\n",
       "      <td>-0.4874</td>\n",
       "      <td>-1.6739</td>\n",
       "      <td>-1.2181</td>\n",
       "      <td>-0.3655</td>\n",
       "      <td>-1.0931</td>\n",
       "      <td>1.5220</td>\n",
       "      <td>...</td>\n",
       "      <td>-0.8721</td>\n",
       "      <td>-2.1572</td>\n",
       "      <td>-1.5062</td>\n",
       "      <td>-1.5347</td>\n",
       "      <td>-0.2171</td>\n",
       "      <td>0.5606</td>\n",
       "      <td>-0.7373</td>\n",
       "      <td>-0.3267</td>\n",
       "      <td>-1.3742</td>\n",
       "      <td>0.0142</td>\n",
       "    </tr>\n",
       "    <tr>\n",
       "      <th>73</th>\n",
       "      <td>-2.2865</td>\n",
       "      <td>-0.9103</td>\n",
       "      <td>-3.6377</td>\n",
       "      <td>0.1517</td>\n",
       "      <td>-2.0793</td>\n",
       "      <td>-1.3053</td>\n",
       "      <td>-2.8440</td>\n",
       "      <td>-3.2393</td>\n",
       "      <td>-0.0147</td>\n",
       "      <td>2.0823</td>\n",
       "      <td>...</td>\n",
       "      <td>-2.2624</td>\n",
       "      <td>-0.7311</td>\n",
       "      <td>-1.5147</td>\n",
       "      <td>-1.2047</td>\n",
       "      <td>-2.3282</td>\n",
       "      <td>-0.1411</td>\n",
       "      <td>-0.7221</td>\n",
       "      <td>0.8746</td>\n",
       "      <td>-0.7372</td>\n",
       "      <td>-3.0246</td>\n",
       "    </tr>\n",
       "    <tr>\n",
       "      <th>74</th>\n",
       "      <td>-0.7116</td>\n",
       "      <td>-1.6548</td>\n",
       "      <td>-1.1031</td>\n",
       "      <td>-0.2450</td>\n",
       "      <td>-0.4768</td>\n",
       "      <td>-1.3053</td>\n",
       "      <td>0.0211</td>\n",
       "      <td>-0.5419</td>\n",
       "      <td>-0.0954</td>\n",
       "      <td>-0.5216</td>\n",
       "      <td>...</td>\n",
       "      <td>-0.3875</td>\n",
       "      <td>-0.4860</td>\n",
       "      <td>0.2175</td>\n",
       "      <td>1.1372</td>\n",
       "      <td>0.1300</td>\n",
       "      <td>-0.3672</td>\n",
       "      <td>0.1264</td>\n",
       "      <td>0.2018</td>\n",
       "      <td>-0.5116</td>\n",
       "      <td>-0.2690</td>\n",
       "    </tr>\n",
       "  </tbody>\n",
       "</table>\n",
       "<p>74 rows × 16340 columns</p>\n",
       "</div>"
      ],
      "text/plain": [
       "     1       2       3       4       6       11      12      19      20     \\\n",
       "1  -3.6531 -1.2866 -0.8844  1.0053 -2.1361 -1.3499 -2.6803 -0.8835 -2.0407   \n",
       "2   0.2661  0.6528 -0.7820  0.6400 -0.3290 -1.1215  2.0988  0.9483 -0.1546   \n",
       "3   0.6270  0.0497  0.2196 -0.1943  0.1297 -1.0722  0.0220  0.3827  1.2503   \n",
       "4   1.8635  1.2665  0.1321 -0.4352  0.1718  0.3453  0.5043  1.5079  1.5333   \n",
       "5  -0.6275 -0.6568 -1.6290 -1.4820 -1.7779 -0.9692 -1.5749 -0.4975 -1.8058   \n",
       "..     ...     ...     ...     ...     ...     ...     ...     ...     ...   \n",
       "70 -2.2865 -2.6079 -0.3615  1.0572 -0.6241 -0.1795  0.7696 -0.6364 -0.0445   \n",
       "71  1.8908  1.6385  1.3709  1.2346  2.3879  1.7848 -0.6311 -1.4158  0.5490   \n",
       "72 -3.1094 -0.4106 -0.2267 -0.5026 -0.4874 -1.6739 -1.2181 -0.3655 -1.0931   \n",
       "73 -2.2865 -0.9103 -3.6377  0.1517 -2.0793 -1.3053 -2.8440 -3.2393 -0.0147   \n",
       "74 -0.7116 -1.6548 -1.1031 -0.2450 -0.4768 -1.3053  0.0211 -0.5419 -0.0954   \n",
       "\n",
       "     22     ...   20521   20522   20523   20524   20525   20526   20527  \\\n",
       "1  -2.2589  ... -0.7690 -0.1299  0.1915 -0.1904 -1.1761  1.8149  0.7038   \n",
       "2  -0.4375  ... -0.0649 -0.0885 -0.8805 -0.5958  0.5515  0.3507  0.3513   \n",
       "3  -0.4797  ...  1.2754  1.3721  1.2591  1.9395  1.5085  1.7182  2.0320   \n",
       "4   0.2684  ...  1.3948  1.0977  2.1222  0.8577  2.7827  0.4183  0.8452   \n",
       "5   0.6240  ... -1.1046 -0.9107  0.4796  0.2064 -0.6044 -0.6893 -0.9811   \n",
       "..     ...  ...     ...     ...     ...     ...     ...     ...     ...   \n",
       "70  0.5093  ...  1.4717  1.9149 -1.2712 -0.5375 -1.5697 -0.4334 -0.7383   \n",
       "71 -0.3936  ...  1.3178  0.9137 -0.8435  0.6213 -0.8221  1.9176  0.6194   \n",
       "72  1.5220  ... -0.8721 -2.1572 -1.5062 -1.5347 -0.2171  0.5606 -0.7373   \n",
       "73  2.0823  ... -2.2624 -0.7311 -1.5147 -1.2047 -2.3282 -0.1411 -0.7221   \n",
       "74 -0.5216  ... -0.3875 -0.4860  0.2175  1.1372  0.1300 -0.3672  0.1264   \n",
       "\n",
       "     20528   20529   20530  \n",
       "1   1.1159 -0.3484 -0.4009  \n",
       "2  -0.1165 -0.2731  0.0095  \n",
       "3   0.1193  0.9679  1.0774  \n",
       "4  -2.0517  1.1303  0.4846  \n",
       "5   0.7733 -1.4425 -0.7750  \n",
       "..     ...     ...     ...  \n",
       "70  1.5243 -1.5691 -0.6089  \n",
       "71  0.9272 -2.2363 -0.6841  \n",
       "72 -0.3267 -1.3742  0.0142  \n",
       "73  0.8746 -0.7372 -3.0246  \n",
       "74  0.2018 -0.5116 -0.2690  \n",
       "\n",
       "[74 rows x 16340 columns]"
      ]
     },
     "execution_count": 3,
     "metadata": {},
     "output_type": "execute_result"
    }
   ],
   "source": [
    "test #74 rows * 16328columns"
   ]
  },
  {
   "cell_type": "code",
   "execution_count": 4,
   "id": "10d630f8-f504-4d1c-903e-d51cb5f9b358",
   "metadata": {},
   "outputs": [],
   "source": [
    "patientID = data['PATIENT_ID'] #train_clinical 데이터셋의 PATIENT_ID 열 추출"
   ]
  },
  {
   "cell_type": "code",
   "execution_count": 5,
   "id": "37bea267-8efb-443a-a1cc-b7dda9b0a2b1",
   "metadata": {},
   "outputs": [
    {
     "data": {
      "text/plain": [
       "(2751, 16340)"
      ]
     },
     "execution_count": 5,
     "metadata": {},
     "output_type": "execute_result"
    }
   ],
   "source": [
    "rnaID = rna.iloc[:, 2:] # 행 전체, 0,1번째 열 제외하고 출력\n",
    "# 20531 rows * 2763 columns\n",
    "rnaID = rnaID.dropna(axis=0) #NaN값 제거\n",
    "# 16340 rows * 2763 columns\n",
    "rnaID = rnaID.iloc[: , 12:]\n",
    "#16340 rows * 2751 columns\n",
    "rnaID = rnaID.transpose() #행/열 변환\n",
    "#2751 rows * 16340 columns\n",
    "rnaID.shape"
   ]
  },
  {
   "cell_type": "code",
   "execution_count": 6,
   "id": "177de7ff-15e2-473f-ac5d-aeb705914b47",
   "metadata": {
    "tags": []
   },
   "outputs": [
    {
     "data": {
      "text/html": [
       "<div>\n",
       "<style scoped>\n",
       "    .dataframe tbody tr th:only-of-type {\n",
       "        vertical-align: middle;\n",
       "    }\n",
       "\n",
       "    .dataframe tbody tr th {\n",
       "        vertical-align: top;\n",
       "    }\n",
       "\n",
       "    .dataframe thead th {\n",
       "        text-align: right;\n",
       "    }\n",
       "</style>\n",
       "<table border=\"1\" class=\"dataframe\">\n",
       "  <thead>\n",
       "    <tr style=\"text-align: right;\">\n",
       "      <th></th>\n",
       "      <th>1</th>\n",
       "      <th>2</th>\n",
       "      <th>3</th>\n",
       "      <th>4</th>\n",
       "      <th>6</th>\n",
       "      <th>11</th>\n",
       "      <th>12</th>\n",
       "      <th>19</th>\n",
       "      <th>20</th>\n",
       "      <th>22</th>\n",
       "      <th>...</th>\n",
       "      <th>20521</th>\n",
       "      <th>20522</th>\n",
       "      <th>20523</th>\n",
       "      <th>20524</th>\n",
       "      <th>20525</th>\n",
       "      <th>20526</th>\n",
       "      <th>20527</th>\n",
       "      <th>20528</th>\n",
       "      <th>20529</th>\n",
       "      <th>20530</th>\n",
       "    </tr>\n",
       "  </thead>\n",
       "  <tbody>\n",
       "    <tr>\n",
       "      <th>TCGA-BR-6453-01</th>\n",
       "      <td>-0.3377</td>\n",
       "      <td>0.2974</td>\n",
       "      <td>-2.2844</td>\n",
       "      <td>0.5930</td>\n",
       "      <td>-1.1559</td>\n",
       "      <td>0.3951</td>\n",
       "      <td>0.0140</td>\n",
       "      <td>-0.7056</td>\n",
       "      <td>-0.5021</td>\n",
       "      <td>-0.0008</td>\n",
       "      <td>...</td>\n",
       "      <td>-1.2864</td>\n",
       "      <td>-0.2231</td>\n",
       "      <td>-0.4357</td>\n",
       "      <td>-0.6893</td>\n",
       "      <td>-0.9083</td>\n",
       "      <td>-0.1498</td>\n",
       "      <td>-1.1634</td>\n",
       "      <td>0.2087</td>\n",
       "      <td>0.2361</td>\n",
       "      <td>-1.6824</td>\n",
       "    </tr>\n",
       "    <tr>\n",
       "      <th>TCGA-BR-6454-01</th>\n",
       "      <td>-0.1244</td>\n",
       "      <td>0.2972</td>\n",
       "      <td>-1.6241</td>\n",
       "      <td>-0.8885</td>\n",
       "      <td>-0.6654</td>\n",
       "      <td>3.9873</td>\n",
       "      <td>-0.6873</td>\n",
       "      <td>1.7188</td>\n",
       "      <td>0.0312</td>\n",
       "      <td>0.2824</td>\n",
       "      <td>...</td>\n",
       "      <td>-1.6461</td>\n",
       "      <td>-0.0658</td>\n",
       "      <td>1.6156</td>\n",
       "      <td>1.2233</td>\n",
       "      <td>0.0805</td>\n",
       "      <td>-1.4317</td>\n",
       "      <td>-1.2823</td>\n",
       "      <td>-1.0852</td>\n",
       "      <td>-0.4345</td>\n",
       "      <td>-1.1290</td>\n",
       "    </tr>\n",
       "    <tr>\n",
       "      <th>TCGA-BR-6455-01</th>\n",
       "      <td>0.4916</td>\n",
       "      <td>-1.1981</td>\n",
       "      <td>0.0717</td>\n",
       "      <td>-0.0857</td>\n",
       "      <td>-1.2703</td>\n",
       "      <td>-1.3499</td>\n",
       "      <td>-1.0326</td>\n",
       "      <td>-0.7076</td>\n",
       "      <td>-0.2781</td>\n",
       "      <td>-0.2199</td>\n",
       "      <td>...</td>\n",
       "      <td>0.2030</td>\n",
       "      <td>1.4725</td>\n",
       "      <td>-1.5332</td>\n",
       "      <td>-4.0117</td>\n",
       "      <td>-0.4711</td>\n",
       "      <td>2.0172</td>\n",
       "      <td>0.5408</td>\n",
       "      <td>-0.2296</td>\n",
       "      <td>-0.7173</td>\n",
       "      <td>0.4233</td>\n",
       "    </tr>\n",
       "    <tr>\n",
       "      <th>TCGA-BR-6456-01</th>\n",
       "      <td>-0.7246</td>\n",
       "      <td>-0.8930</td>\n",
       "      <td>-1.9199</td>\n",
       "      <td>-0.1918</td>\n",
       "      <td>-1.0761</td>\n",
       "      <td>-0.2123</td>\n",
       "      <td>-1.5749</td>\n",
       "      <td>0.7257</td>\n",
       "      <td>-1.9996</td>\n",
       "      <td>-0.4320</td>\n",
       "      <td>...</td>\n",
       "      <td>-0.2636</td>\n",
       "      <td>0.2714</td>\n",
       "      <td>0.6561</td>\n",
       "      <td>0.2121</td>\n",
       "      <td>-0.3215</td>\n",
       "      <td>0.1107</td>\n",
       "      <td>0.1492</td>\n",
       "      <td>2.3314</td>\n",
       "      <td>-0.5676</td>\n",
       "      <td>-0.8733</td>\n",
       "    </tr>\n",
       "    <tr>\n",
       "      <th>TCGA-BR-6457-01</th>\n",
       "      <td>-1.3170</td>\n",
       "      <td>-0.6033</td>\n",
       "      <td>-1.4234</td>\n",
       "      <td>-0.4526</td>\n",
       "      <td>-0.7556</td>\n",
       "      <td>-0.4201</td>\n",
       "      <td>1.3878</td>\n",
       "      <td>0.3657</td>\n",
       "      <td>-1.2008</td>\n",
       "      <td>-0.3903</td>\n",
       "      <td>...</td>\n",
       "      <td>-2.5712</td>\n",
       "      <td>-0.9814</td>\n",
       "      <td>0.8946</td>\n",
       "      <td>0.1286</td>\n",
       "      <td>-0.4348</td>\n",
       "      <td>-1.4317</td>\n",
       "      <td>-0.0662</td>\n",
       "      <td>1.5187</td>\n",
       "      <td>-0.3325</td>\n",
       "      <td>-1.7130</td>\n",
       "    </tr>\n",
       "    <tr>\n",
       "      <th>...</th>\n",
       "      <td>...</td>\n",
       "      <td>...</td>\n",
       "      <td>...</td>\n",
       "      <td>...</td>\n",
       "      <td>...</td>\n",
       "      <td>...</td>\n",
       "      <td>...</td>\n",
       "      <td>...</td>\n",
       "      <td>...</td>\n",
       "      <td>...</td>\n",
       "      <td>...</td>\n",
       "      <td>...</td>\n",
       "      <td>...</td>\n",
       "      <td>...</td>\n",
       "      <td>...</td>\n",
       "      <td>...</td>\n",
       "      <td>...</td>\n",
       "      <td>...</td>\n",
       "      <td>...</td>\n",
       "      <td>...</td>\n",
       "      <td>...</td>\n",
       "    </tr>\n",
       "    <tr>\n",
       "      <th>TCGA-WY-A85A-01</th>\n",
       "      <td>-0.4623</td>\n",
       "      <td>0.2481</td>\n",
       "      <td>-0.4197</td>\n",
       "      <td>0.2058</td>\n",
       "      <td>0.4442</td>\n",
       "      <td>1.3310</td>\n",
       "      <td>-0.2275</td>\n",
       "      <td>0.1635</td>\n",
       "      <td>0.7661</td>\n",
       "      <td>-0.8457</td>\n",
       "      <td>...</td>\n",
       "      <td>-0.5834</td>\n",
       "      <td>-0.4914</td>\n",
       "      <td>-0.3775</td>\n",
       "      <td>-0.6975</td>\n",
       "      <td>0.0466</td>\n",
       "      <td>-1.2143</td>\n",
       "      <td>0.4425</td>\n",
       "      <td>-0.9402</td>\n",
       "      <td>-0.1893</td>\n",
       "      <td>0.4236</td>\n",
       "    </tr>\n",
       "    <tr>\n",
       "      <th>TCGA-WY-A85B-01</th>\n",
       "      <td>0.0507</td>\n",
       "      <td>0.5676</td>\n",
       "      <td>-0.2125</td>\n",
       "      <td>0.2314</td>\n",
       "      <td>0.6382</td>\n",
       "      <td>-1.6739</td>\n",
       "      <td>0.7388</td>\n",
       "      <td>-0.4172</td>\n",
       "      <td>0.9313</td>\n",
       "      <td>-1.3543</td>\n",
       "      <td>...</td>\n",
       "      <td>1.0486</td>\n",
       "      <td>1.1282</td>\n",
       "      <td>-0.1515</td>\n",
       "      <td>0.5935</td>\n",
       "      <td>0.3402</td>\n",
       "      <td>-0.2231</td>\n",
       "      <td>0.3485</td>\n",
       "      <td>-0.8402</td>\n",
       "      <td>0.1042</td>\n",
       "      <td>1.0122</td>\n",
       "    </tr>\n",
       "    <tr>\n",
       "      <th>TCGA-WY-A85C-01</th>\n",
       "      <td>0.4778</td>\n",
       "      <td>0.4846</td>\n",
       "      <td>-0.5183</td>\n",
       "      <td>-0.6588</td>\n",
       "      <td>1.1459</td>\n",
       "      <td>-0.7668</td>\n",
       "      <td>0.4220</td>\n",
       "      <td>-1.1259</td>\n",
       "      <td>0.7704</td>\n",
       "      <td>-0.6735</td>\n",
       "      <td>...</td>\n",
       "      <td>-0.6817</td>\n",
       "      <td>-0.7663</td>\n",
       "      <td>0.3284</td>\n",
       "      <td>0.7869</td>\n",
       "      <td>0.9922</td>\n",
       "      <td>0.9422</td>\n",
       "      <td>1.0692</td>\n",
       "      <td>-0.4389</td>\n",
       "      <td>0.7413</td>\n",
       "      <td>1.2262</td>\n",
       "    </tr>\n",
       "    <tr>\n",
       "      <th>TCGA-WY-A85D-01</th>\n",
       "      <td>-0.4763</td>\n",
       "      <td>-0.6968</td>\n",
       "      <td>-0.8822</td>\n",
       "      <td>0.4685</td>\n",
       "      <td>1.0834</td>\n",
       "      <td>-0.6127</td>\n",
       "      <td>1.5654</td>\n",
       "      <td>-1.6966</td>\n",
       "      <td>0.3744</td>\n",
       "      <td>0.7605</td>\n",
       "      <td>...</td>\n",
       "      <td>-1.9247</td>\n",
       "      <td>-0.3125</td>\n",
       "      <td>-1.2386</td>\n",
       "      <td>-1.1186</td>\n",
       "      <td>0.6909</td>\n",
       "      <td>-1.2143</td>\n",
       "      <td>-0.1277</td>\n",
       "      <td>-0.6813</td>\n",
       "      <td>-0.5001</td>\n",
       "      <td>0.8035</td>\n",
       "    </tr>\n",
       "    <tr>\n",
       "      <th>TCGA-WY-A85E-01</th>\n",
       "      <td>0.2876</td>\n",
       "      <td>-0.9707</td>\n",
       "      <td>-0.0090</td>\n",
       "      <td>0.6967</td>\n",
       "      <td>1.7139</td>\n",
       "      <td>0.3330</td>\n",
       "      <td>-0.3630</td>\n",
       "      <td>-1.3160</td>\n",
       "      <td>0.9403</td>\n",
       "      <td>-0.7307</td>\n",
       "      <td>...</td>\n",
       "      <td>0.8830</td>\n",
       "      <td>1.1751</td>\n",
       "      <td>-0.3137</td>\n",
       "      <td>-0.3742</td>\n",
       "      <td>-2.4513</td>\n",
       "      <td>1.1519</td>\n",
       "      <td>0.7383</td>\n",
       "      <td>-0.3227</td>\n",
       "      <td>-0.4875</td>\n",
       "      <td>0.2730</td>\n",
       "    </tr>\n",
       "  </tbody>\n",
       "</table>\n",
       "<p>2751 rows × 16340 columns</p>\n",
       "</div>"
      ],
      "text/plain": [
       "                  1       2       3       4       6       11      12     \\\n",
       "TCGA-BR-6453-01 -0.3377  0.2974 -2.2844  0.5930 -1.1559  0.3951  0.0140   \n",
       "TCGA-BR-6454-01 -0.1244  0.2972 -1.6241 -0.8885 -0.6654  3.9873 -0.6873   \n",
       "TCGA-BR-6455-01  0.4916 -1.1981  0.0717 -0.0857 -1.2703 -1.3499 -1.0326   \n",
       "TCGA-BR-6456-01 -0.7246 -0.8930 -1.9199 -0.1918 -1.0761 -0.2123 -1.5749   \n",
       "TCGA-BR-6457-01 -1.3170 -0.6033 -1.4234 -0.4526 -0.7556 -0.4201  1.3878   \n",
       "...                 ...     ...     ...     ...     ...     ...     ...   \n",
       "TCGA-WY-A85A-01 -0.4623  0.2481 -0.4197  0.2058  0.4442  1.3310 -0.2275   \n",
       "TCGA-WY-A85B-01  0.0507  0.5676 -0.2125  0.2314  0.6382 -1.6739  0.7388   \n",
       "TCGA-WY-A85C-01  0.4778  0.4846 -0.5183 -0.6588  1.1459 -0.7668  0.4220   \n",
       "TCGA-WY-A85D-01 -0.4763 -0.6968 -0.8822  0.4685  1.0834 -0.6127  1.5654   \n",
       "TCGA-WY-A85E-01  0.2876 -0.9707 -0.0090  0.6967  1.7139  0.3330 -0.3630   \n",
       "\n",
       "                  19      20      22     ...   20521   20522   20523   20524  \\\n",
       "TCGA-BR-6453-01 -0.7056 -0.5021 -0.0008  ... -1.2864 -0.2231 -0.4357 -0.6893   \n",
       "TCGA-BR-6454-01  1.7188  0.0312  0.2824  ... -1.6461 -0.0658  1.6156  1.2233   \n",
       "TCGA-BR-6455-01 -0.7076 -0.2781 -0.2199  ...  0.2030  1.4725 -1.5332 -4.0117   \n",
       "TCGA-BR-6456-01  0.7257 -1.9996 -0.4320  ... -0.2636  0.2714  0.6561  0.2121   \n",
       "TCGA-BR-6457-01  0.3657 -1.2008 -0.3903  ... -2.5712 -0.9814  0.8946  0.1286   \n",
       "...                 ...     ...     ...  ...     ...     ...     ...     ...   \n",
       "TCGA-WY-A85A-01  0.1635  0.7661 -0.8457  ... -0.5834 -0.4914 -0.3775 -0.6975   \n",
       "TCGA-WY-A85B-01 -0.4172  0.9313 -1.3543  ...  1.0486  1.1282 -0.1515  0.5935   \n",
       "TCGA-WY-A85C-01 -1.1259  0.7704 -0.6735  ... -0.6817 -0.7663  0.3284  0.7869   \n",
       "TCGA-WY-A85D-01 -1.6966  0.3744  0.7605  ... -1.9247 -0.3125 -1.2386 -1.1186   \n",
       "TCGA-WY-A85E-01 -1.3160  0.9403 -0.7307  ...  0.8830  1.1751 -0.3137 -0.3742   \n",
       "\n",
       "                  20525   20526   20527   20528   20529   20530  \n",
       "TCGA-BR-6453-01 -0.9083 -0.1498 -1.1634  0.2087  0.2361 -1.6824  \n",
       "TCGA-BR-6454-01  0.0805 -1.4317 -1.2823 -1.0852 -0.4345 -1.1290  \n",
       "TCGA-BR-6455-01 -0.4711  2.0172  0.5408 -0.2296 -0.7173  0.4233  \n",
       "TCGA-BR-6456-01 -0.3215  0.1107  0.1492  2.3314 -0.5676 -0.8733  \n",
       "TCGA-BR-6457-01 -0.4348 -1.4317 -0.0662  1.5187 -0.3325 -1.7130  \n",
       "...                 ...     ...     ...     ...     ...     ...  \n",
       "TCGA-WY-A85A-01  0.0466 -1.2143  0.4425 -0.9402 -0.1893  0.4236  \n",
       "TCGA-WY-A85B-01  0.3402 -0.2231  0.3485 -0.8402  0.1042  1.0122  \n",
       "TCGA-WY-A85C-01  0.9922  0.9422  1.0692 -0.4389  0.7413  1.2262  \n",
       "TCGA-WY-A85D-01  0.6909 -1.2143 -0.1277 -0.6813 -0.5001  0.8035  \n",
       "TCGA-WY-A85E-01 -2.4513  1.1519  0.7383 -0.3227 -0.4875  0.2730  \n",
       "\n",
       "[2751 rows x 16340 columns]"
      ]
     },
     "execution_count": 6,
     "metadata": {},
     "output_type": "execute_result"
    }
   ],
   "source": [
    "rnaID"
   ]
  },
  {
   "cell_type": "code",
   "execution_count": 7,
   "id": "305c72b6-73a5-49cf-a941-11eabbb36be5",
   "metadata": {},
   "outputs": [],
   "source": [
    "rnaID = rnaID.rename(lambda label:label[:-3]) # 인덱스의 뒤부터 -3만큼 제외\n",
    "# rnaID.shape"
   ]
  },
  {
   "cell_type": "code",
   "execution_count": 8,
   "id": "efbce495-f5d5-49c0-8993-ac973833b4e7",
   "metadata": {},
   "outputs": [],
   "source": [
    "data = data.rename(index=data['PATIENT_ID']) #data의 인덱스를 PATIENT_ID로 선언"
   ]
  },
  {
   "cell_type": "code",
   "execution_count": 9,
   "id": "4c14f08f-1022-42c3-88f8-c3553c672ddd",
   "metadata": {},
   "outputs": [
    {
     "data": {
      "text/plain": [
       "(2595, 16340)"
      ]
     },
     "execution_count": 9,
     "metadata": {},
     "output_type": "execute_result"
    }
   ],
   "source": [
    "rna_pat_ID = list(rnaID.index) #rnaID 인덱스를 ran_pat_ID 로 리스트 타입 선언\n",
    "patientID = list(data['PATIENT_ID'].values) # data의 columns중 PATIENT_ID의 값을 patientID로 리스트 타입 선언\n",
    "# print(rna_pat_ID)\n",
    "\n",
    "delete = []\n",
    "for i in patientID: #patientID 리스트 만큼 반복함\n",
    "    if i not in rna_pat_ID: # patientID의 I 값이 rna_pat_ID안에 들어있지않다면\n",
    "        delete.append(i) # delete리스트에 I값을 추가함\n",
    "data = data.drop(index=delete) # data의 인덱스 중 delete와 동일한 값을 drop시킴\n",
    "\n",
    "delete = []\n",
    "for i in rna_pat_ID: # rna_pat_ID 리스트 만큼 반복함\n",
    "    if i not in patientID: # I값이 patientID 안에 들어있지않다면\n",
    "        delete.append(i) # delete리스트에 I 값 추가\n",
    "rnaID = rnaID.drop(index=delete) # rnaID의 인덱스 중 delete와 동일한 값을 drop함\n",
    "\n",
    "rnaID.shape"
   ]
  },
  {
   "cell_type": "code",
   "execution_count": 10,
   "id": "39cedd61-8240-492d-8753-3aded6432d6a",
   "metadata": {},
   "outputs": [],
   "source": [
    "from iteration_utilities import duplicates\n",
    "\n",
    "rna = list(rnaID.index) # rna에 rnaID의 인덱스 값을 리스트 형태로 저장 2595개\n",
    "rna = list(duplicates(rna)) # rna에 중복되어 제거된 값을 리스트 형태로 저장 ['TCGA-ER-A19T', 'TCGA-ER-A2NF']"
   ]
  },
  {
   "cell_type": "code",
   "execution_count": 11,
   "id": "d3f03a84-c267-4e6b-8818-2b606000549b",
   "metadata": {},
   "outputs": [
    {
     "data": {
      "text/plain": [
       "['TCGA-ER-A19T', 'TCGA-ER-A2NF']"
      ]
     },
     "execution_count": 11,
     "metadata": {},
     "output_type": "execute_result"
    }
   ],
   "source": [
    "rna"
   ]
  },
  {
   "cell_type": "code",
   "execution_count": 12,
   "id": "22f3281a-e0ae-469c-845a-81faf1b6f7ca",
   "metadata": {},
   "outputs": [
    {
     "data": {
      "text/plain": [
       "(2591, 16340)"
      ]
     },
     "execution_count": 12,
     "metadata": {},
     "output_type": "execute_result"
    }
   ],
   "source": [
    "rnaID = rnaID.drop(index=rna) # rnaID 인덱스 중 rna리스트안에 있는 값과 일치하는값을 drop함\n",
    "rnaID.shape # (2591,16340)"
   ]
  },
  {
   "cell_type": "code",
   "execution_count": 13,
   "id": "3a4b0182-6e5b-41f5-a380-961e4164dcbd",
   "metadata": {},
   "outputs": [
    {
     "data": {
      "text/plain": [
       "(2591, 16340)"
      ]
     },
     "execution_count": 13,
     "metadata": {},
     "output_type": "execute_result"
    }
   ],
   "source": [
    "delete = []\n",
    "t1 = list(rnaID.index) # t1에 rnaID 인덱스 값을 리스트로 생성 rnaID 2591개의 rows값\n",
    "t2 = list(data.index) # t2에 data의 인덱스 값을 리스트로 생성 data 2593개의 rows값\n",
    "\n",
    "for i in t1: # t1만큼 반복함\n",
    "    if i not in t2: # i값이 t2에 없으면 \n",
    "        delete.append(i) # delete 리스트의 i값 추가\n",
    "        \n",
    "data = data.drop(index=delete) # data안에 delete 리스트 값을 drop함\n",
    "rnaID.shape\n",
    "# data.shape"
   ]
  },
  {
   "cell_type": "code",
   "execution_count": 14,
   "id": "ba00a49b-8a4d-4299-b675-179d34a63c80",
   "metadata": {},
   "outputs": [
    {
     "data": {
      "text/plain": [
       "(2591, 16340)"
      ]
     },
     "execution_count": 14,
     "metadata": {},
     "output_type": "execute_result"
    }
   ],
   "source": [
    "data_du = list(data['PATIENT_ID']) # data_du 리스트에 data의 PATIENT_ID값 리스트로 생성\n",
    "data_du = list(duplicates(data_du)) # data_du 중복되어 제거된 값을 리스트 형태로 저장\n",
    "\n",
    "data = data.drop(index=data_du)\n",
    "rnaID.shape"
   ]
  },
  {
   "cell_type": "code",
   "execution_count": 15,
   "id": "407b7f25-0cde-4211-b1c8-f0889d9000ab",
   "metadata": {},
   "outputs": [
    {
     "name": "stdout",
     "output_type": "stream",
     "text": [
      "                PATIENT_ID CANCER_TYPE_ACRONYM  \\\n",
      "TCGA-BR-4191  TCGA-BR-4191                STAD   \n",
      "TCGA-BR-4201  TCGA-BR-4201                STAD   \n",
      "TCGA-BR-4253  TCGA-BR-4253                STAD   \n",
      "TCGA-BR-4267  TCGA-BR-4267                STAD   \n",
      "TCGA-BR-4279  TCGA-BR-4279                STAD   \n",
      "...                    ...                 ...   \n",
      "TCGA-WY-A85B  TCGA-WY-A85B                 LGG   \n",
      "TCGA-WY-A85C  TCGA-WY-A85C                 LGG   \n",
      "TCGA-WY-A85D  TCGA-WY-A85D                 LGG   \n",
      "TCGA-WY-A85E  TCGA-WY-A85E                 LGG   \n",
      "TCGA-R8-A6YH  TCGA-R8-A6YH                 LGG   \n",
      "\n",
      "                                  OTHER_PATIENT_ID   AGE     SEX  \\\n",
      "TCGA-BR-4191  74f859cf-6df5-4e96-ae6b-cfaab691d5fd  72.0    Male   \n",
      "TCGA-BR-4201  8520654b-2192-46cf-9d72-1ddb885a7c55  66.0  Female   \n",
      "TCGA-BR-4253  411257a4-a148-4606-8c8b-f9f1240e40ed  80.0  Female   \n",
      "TCGA-BR-4267  0d0f0200-25b8-483b-b04a-82a7833b4d30  51.0    Male   \n",
      "TCGA-BR-4279  117eb38b-0c62-4336-a866-fa5bd013256a  43.0    Male   \n",
      "...                                            ...   ...     ...   \n",
      "TCGA-WY-A85B  CB041720-0EFA-4EB6-A9A5-B6E138BB1A99  24.0    Male   \n",
      "TCGA-WY-A85C  F62BE2B8-88C4-4A7E-8C80-8176FB5F6C56  36.0    Male   \n",
      "TCGA-WY-A85D  0D5A4C63-C3FB-4295-A433-D90CDBFC4ED6  60.0    Male   \n",
      "TCGA-WY-A85E  2272DFF7-A509-496F-B500-467C1BCE2F79  48.0  Female   \n",
      "TCGA-R8-A6YH                                   NaN   NaN     NaN   \n",
      "\n",
      "             AJCC_PATHOLOGIC_TUMOR_STAGE AJCC_STAGING_EDITION  \\\n",
      "TCGA-BR-4191                         NaN                  6TH   \n",
      "TCGA-BR-4201                         NaN                  6TH   \n",
      "TCGA-BR-4253                  STAGE IIIA                  6TH   \n",
      "TCGA-BR-4267                    STAGE IB                  6TH   \n",
      "TCGA-BR-4279                    STAGE II                  6TH   \n",
      "...                                  ...                  ...   \n",
      "TCGA-WY-A85B                         NaN                  NaN   \n",
      "TCGA-WY-A85C                         NaN                  NaN   \n",
      "TCGA-WY-A85D                         NaN                  NaN   \n",
      "TCGA-WY-A85E                         NaN                  NaN   \n",
      "TCGA-R8-A6YH                         NaN                  NaN   \n",
      "\n",
      "             DAYS_LAST_FOLLOWUP DAYS_TO_BIRTH  \\\n",
      "TCGA-BR-4191                  0        -26562   \n",
      "TCGA-BR-4201                  0        -24354   \n",
      "TCGA-BR-4253                  0        -29397   \n",
      "TCGA-BR-4267                  0        -18699   \n",
      "TCGA-BR-4279                  0        -16065   \n",
      "...                         ...           ...   \n",
      "TCGA-WY-A85B               1393         -8817   \n",
      "TCGA-WY-A85C               1426        -13506   \n",
      "TCGA-WY-A85D               1147        -21979   \n",
      "TCGA-WY-A85E                633        -17878   \n",
      "TCGA-R8-A6YH                NaN           NaN   \n",
      "\n",
      "              DAYS_TO_INITIAL_PATHOLOGIC_DIAGNOSIS  ...         CENTER  \\\n",
      "TCGA-BR-4191                                   0.0  ...       Asterand   \n",
      "TCGA-BR-4201                                   0.0  ...       Asterand   \n",
      "TCGA-BR-4253                                   0.0  ...       Asterand   \n",
      "TCGA-BR-4267                                   0.0  ...       Asterand   \n",
      "TCGA-BR-4279                                   0.0  ...       Asterand   \n",
      "...                                            ...  ...            ...   \n",
      "TCGA-WY-A85B                                   0.0  ...  Johns Hopkins   \n",
      "TCGA-WY-A85C                                   0.0  ...  Johns Hopkins   \n",
      "TCGA-WY-A85D                                   0.0  ...  Johns Hopkins   \n",
      "TCGA-WY-A85E                                   0.0  ...  Johns Hopkins   \n",
      "TCGA-R8-A6YH                                   NaN  ...    MD Anderson   \n",
      "\n",
      "             IN_PANCANPATHWAYS_FREEZE   OS_STATUS  OS_MONTHS  \\\n",
      "TCGA-BR-4191                      Yes  1:DECEASED  18.345004   \n",
      "TCGA-BR-4201                      Yes  1:DECEASED  30.903771   \n",
      "TCGA-BR-4253                      Yes  1:DECEASED   4.076668   \n",
      "TCGA-BR-4267                      Yes  1:DECEASED   6.180754   \n",
      "TCGA-BR-4279                      Yes  1:DECEASED   9.567018   \n",
      "...                               ...         ...        ...   \n",
      "TCGA-WY-A85B                      Yes    0:LIVING  45.796758   \n",
      "TCGA-WY-A85C                      Yes    0:LIVING  46.881678   \n",
      "TCGA-WY-A85D                      Yes    0:LIVING  37.709176   \n",
      "TCGA-WY-A85E                      Yes    0:LIVING  20.810731   \n",
      "TCGA-R8-A6YH                      Yes         NaN        NaN   \n",
      "\n",
      "                              DSS_STATUS DSS_MONTHS     DFS_STATUS DFS_MONTHS  \\\n",
      "TCGA-BR-4191                         NaN  18.345004            NaN        NaN   \n",
      "TCGA-BR-4201                         NaN  30.903771            NaN        NaN   \n",
      "TCGA-BR-4253                         NaN   4.076668            NaN        NaN   \n",
      "TCGA-BR-4267                         NaN   6.180754            NaN        NaN   \n",
      "TCGA-BR-4279                         NaN   9.567018            NaN        NaN   \n",
      "...                                  ...        ...            ...        ...   \n",
      "TCGA-WY-A85B  0:ALIVE OR DEAD TUMOR FREE  45.796758  0:DiseaseFree  45.796758   \n",
      "TCGA-WY-A85C  0:ALIVE OR DEAD TUMOR FREE  46.881678            NaN        NaN   \n",
      "TCGA-WY-A85D  0:ALIVE OR DEAD TUMOR FREE  37.709176            NaN        NaN   \n",
      "TCGA-WY-A85E  0:ALIVE OR DEAD TUMOR FREE  20.810731            NaN        NaN   \n",
      "TCGA-R8-A6YH                         NaN        NaN            NaN        NaN   \n",
      "\n",
      "                 PFS_STATUS PFS_MONTHS  \n",
      "TCGA-BR-4191     0:CENSORED  18.345004  \n",
      "TCGA-BR-4201     0:CENSORED  30.903771  \n",
      "TCGA-BR-4253     0:CENSORED   4.076668  \n",
      "TCGA-BR-4267     0:CENSORED   6.180754  \n",
      "TCGA-BR-4279     0:CENSORED   9.567018  \n",
      "...                     ...        ...  \n",
      "TCGA-WY-A85B     0:CENSORED  45.796758  \n",
      "TCGA-WY-A85C  1:PROGRESSION  26.596969  \n",
      "TCGA-WY-A85D  1:PROGRESSION  29.161324  \n",
      "TCGA-WY-A85E  1:PROGRESSION  17.490219  \n",
      "TCGA-R8-A6YH            NaN        NaN  \n",
      "\n",
      "[2591 rows x 37 columns]\n"
     ]
    }
   ],
   "source": [
    "rna_pat_ID = list(rnaID.index) # rna_pat_ID 에 rnaID 인덱스 값 리스트로 생성\n",
    "patientID = list(data['PATIENT_ID'].values) # data의 PATIENT_ID 칼럼의 값을 patientID리스트로 생성\n",
    "# print(rna_pat_ID)\n",
    "\n",
    "delete = []\n",
    "for i in patientID:\n",
    "    if i not in rna_pat_ID:\n",
    "        delete.append(i)\n",
    "data = data.drop(index=delete)\n",
    "\n",
    "delete = []\n",
    "for i in rna_pat_ID:\n",
    "    if i not in patientID:\n",
    "        delete.append(i)\n",
    "rnaID = rnaID.drop(index=delete)\n",
    "rnaID.shape\n",
    "print(data)"
   ]
  },
  {
   "cell_type": "code",
   "execution_count": 16,
   "id": "2d402139-677d-4fbc-8cbb-e3453d4c41be",
   "metadata": {},
   "outputs": [
    {
     "data": {
      "text/plain": [
       "TCGA-BR-4191    STAD\n",
       "TCGA-BR-4201    STAD\n",
       "TCGA-BR-4253    STAD\n",
       "TCGA-BR-4267    STAD\n",
       "TCGA-BR-4279    STAD\n",
       "                ... \n",
       "TCGA-WY-A85B     LGG\n",
       "TCGA-WY-A85C     LGG\n",
       "TCGA-WY-A85D     LGG\n",
       "TCGA-WY-A85E     LGG\n",
       "TCGA-R8-A6YH     LGG\n",
       "Name: CANCER_TYPE_ACRONYM, Length: 2591, dtype: object"
      ]
     },
     "execution_count": 16,
     "metadata": {},
     "output_type": "execute_result"
    }
   ],
   "source": [
    "cancer = data['CANCER_TYPE_ACRONYM']\n",
    "rnaID.shape #(2591, 16340)\n",
    "# cancer.shape #(2591,)\n",
    "cancer"
   ]
  },
  {
   "cell_type": "code",
   "execution_count": 25,
   "id": "ca29cbf3-3d84-49ad-bb33-f091de92a74b",
   "metadata": {},
   "outputs": [
    {
     "name": "stdout",
     "output_type": "stream",
     "text": [
      "<class 'pandas.core.frame.DataFrame'>\n",
      "********************\n",
      "<class 'numpy.ndarray'>\n"
     ]
    }
   ],
   "source": [
    "X = rnaID\n",
    "Y = cancer.values\n",
    "print(type(X))\n",
    "print('*' *20)\n",
    "print(type(Y))"
   ]
  },
  {
   "cell_type": "code",
   "execution_count": 24,
   "id": "f4f6b86a-6282-41a1-8c70-9bb472a886d0",
   "metadata": {},
   "outputs": [
    {
     "name": "stdout",
     "output_type": "stream",
     "text": [
      "<class 'pandas.core.frame.DataFrame'>\n"
     ]
    }
   ],
   "source": [
    "X = X.iloc[:, 0:16340]\n",
    "X.shape #(2591, 10000)\n",
    "test = test.iloc[:, 0:16340]\n",
    "# test # 74 rows * 10000 columns\n",
    "print(type(test))"
   ]
  },
  {
   "cell_type": "code",
   "execution_count": 27,
   "id": "5db38317-44cb-4c26-82de-1728c93ca5c6",
   "metadata": {},
   "outputs": [],
   "source": [
    "from sklearn.preprocessing import RobustScaler\n",
    "RC = RobustScaler()\n",
    "# X = RC.fit_transform(X)\n",
    "# test = RC.fit_transform(test)\n",
    "\n",
    "from sklearn.preprocessing import MinMaxScaler\n",
    "sc = MinMaxScaler()\n",
    "X = sc.fit_transform(X)\n",
    "test = sc.fit_transform(test)\n",
    "\n",
    "\n",
    "from sklearn.feature_selection import VarianceThreshold\n",
    "selector = VarianceThreshold(1e-5)\n",
    "X = selector.fit_transform(X)\n",
    "test = selector.transform(test)\n",
    "\n",
    "\n"
   ]
  },
  {
   "cell_type": "code",
   "execution_count": 28,
   "id": "d8d1ff7d-9ef8-4c40-8e7e-a81bb6e9fa3b",
   "metadata": {},
   "outputs": [
    {
     "data": {
      "text/plain": [
       "array([[0.02183301, 0.31115769, 0.48086697, ..., 0.77118719, 0.52679358,\n",
       "        0.61526995],\n",
       "       [0.69348094, 0.76787396, 0.49875124, ..., 0.55382119, 0.54521875,\n",
       "        0.67899567],\n",
       "       [0.75532972, 0.62584778, 0.67368182, ..., 0.59541069, 0.84887932,\n",
       "        0.84481607],\n",
       "       ...,\n",
       "       [0.11500891, 0.51745008, 0.59573502, ..., 0.51674692, 0.27579035,\n",
       "        0.67972547],\n",
       "       [0.25603236, 0.39977393, 0.        , ..., 0.72862762, 0.43165802,\n",
       "        0.20786944],\n",
       "       [0.52592885, 0.22444894, 0.44267077, ..., 0.60996173, 0.48686014,\n",
       "        0.635751  ]])"
      ]
     },
     "execution_count": 28,
     "metadata": {},
     "output_type": "execute_result"
    }
   ],
   "source": [
    "test"
   ]
  },
  {
   "cell_type": "code",
   "execution_count": 27,
   "id": "b7f276ca-5909-4848-9d8e-2e8e10977611",
   "metadata": {},
   "outputs": [
    {
     "data": {
      "text/plain": [
       "array(['STAD', 'STAD', 'STAD', ..., 'LGG', 'LGG', 'LGG'], dtype=object)"
      ]
     },
     "execution_count": 27,
     "metadata": {},
     "output_type": "execute_result"
    }
   ],
   "source": [
    "Y"
   ]
  },
  {
   "cell_type": "code",
   "execution_count": 28,
   "id": "1eef47b6-93fd-4f27-9228-563ff2ba0d10",
   "metadata": {},
   "outputs": [],
   "source": [
    "from sklearn.preprocessing import LabelEncoder\n",
    "encoder = LabelEncoder()\n",
    "\n",
    "encoder.fit(Y)\n",
    "Y_encoded = encoder.transform(Y)\n",
    "\n",
    "for label in np.unique(Y):\n",
    "    if label not in encoder.classes_: \n",
    "        encoder.classes_ = np.append(encoder.classes_, label)\n",
    "Y_encoded = encoder.transform(Y)"
   ]
  },
  {
   "cell_type": "code",
   "execution_count": 30,
   "id": "9edb736c-f063-41b8-b842-7044c298762e",
   "metadata": {},
   "outputs": [
    {
     "data": {
      "text/plain": [
       "array(['STAD', 'STAD', 'STAD', ..., 'LGG', 'LGG', 'LGG'], dtype=object)"
      ]
     },
     "execution_count": 30,
     "metadata": {},
     "output_type": "execute_result"
    }
   ],
   "source": [
    "Y"
   ]
  },
  {
   "cell_type": "code",
   "execution_count": 29,
   "id": "66412a76-6725-4256-bf62-4f5921e898bb",
   "metadata": {},
   "outputs": [
    {
     "name": "stdout",
     "output_type": "stream",
     "text": [
      "['COAD' 'LGG' 'LIHC' 'LUAD' 'SKCM' 'STAD']\n",
      "[5 5 5 ... 1 1 1]\n"
     ]
    }
   ],
   "source": [
    "print(encoder.classes_)\n",
    "print(Y_encoded)"
   ]
  },
  {
   "cell_type": "code",
   "execution_count": 23,
   "id": "caacaa43-db10-47f5-961c-7577237d3fcf",
   "metadata": {},
   "outputs": [
    {
     "data": {
      "text/plain": [
       "array([[0.02183301, 0.31115769, 0.48086697, ..., 0.77118719, 0.52679358,\n",
       "        0.61526995],\n",
       "       [0.69348094, 0.76787396, 0.49875124, ..., 0.55382119, 0.54521875,\n",
       "        0.67899567],\n",
       "       [0.75532972, 0.62584778, 0.67368182, ..., 0.59541069, 0.84887932,\n",
       "        0.84481607],\n",
       "       ...,\n",
       "       [0.11500891, 0.51745008, 0.59573502, ..., 0.51674692, 0.27579035,\n",
       "        0.67972547],\n",
       "       [0.25603236, 0.39977393, 0.        , ..., 0.72862762, 0.43165802,\n",
       "        0.20786944],\n",
       "       [0.52592885, 0.22444894, 0.44267077, ..., 0.60996173, 0.48686014,\n",
       "        0.635751  ]])"
      ]
     },
     "execution_count": 23,
     "metadata": {},
     "output_type": "execute_result"
    }
   ],
   "source": [
    "test"
   ]
  },
  {
   "cell_type": "code",
   "execution_count": 24,
   "id": "55f2c4fe-0bd3-4bda-8acc-497b40a33bcd",
   "metadata": {},
   "outputs": [],
   "source": [
    "from sklearn.model_selection import train_test_split\n",
    "X_train, X_test,Y_train, Y_test = train_test_split(X,Y,test_size=0.2)"
   ]
  },
  {
   "cell_type": "code",
   "execution_count": 25,
   "id": "f8c77f75-571d-4cbb-b672-42a645c16c2f",
   "metadata": {},
   "outputs": [
    {
     "name": "stdout",
     "output_type": "stream",
     "text": [
      "(2591, 16340)\n",
      "(2591,)\n",
      "(2072, 16340)\n",
      "(519, 16340)\n",
      "(2072,)\n",
      "(519,)\n",
      "(74, 16340)\n"
     ]
    }
   ],
   "source": [
    "print(X.shape)\n",
    "print(Y.shape)\n",
    "print(X_train.shape)\n",
    "print(X_test.shape)\n",
    "print(Y_train.shape)\n",
    "print(Y_test.shape)\n",
    "print(test.shape)"
   ]
  },
  {
   "cell_type": "code",
   "execution_count": 26,
   "id": "15876359-3879-4425-8fa1-24bc94e8f695",
   "metadata": {},
   "outputs": [
    {
     "data": {
      "text/plain": [
       "array([[0.48863336, 0.47320374, 0.27447469, ..., 0.64573835, 0.60790836,\n",
       "        0.37120168],\n",
       "       [0.51832723, 0.47318455, 0.33873809, ..., 0.52703955, 0.52178715,\n",
       "        0.41632084],\n",
       "       [0.60408169, 0.32964723, 0.50378106, ..., 0.60552992, 0.48546881,\n",
       "        0.54288114],\n",
       "       ...,\n",
       "       [0.60216057, 0.49117351, 0.44635958, ..., 0.58632932, 0.67278822,\n",
       "        0.60834223],\n",
       "       [0.4693386 , 0.37776818, 0.41094317, ..., 0.56409221, 0.51336253,\n",
       "        0.57387916],\n",
       "       [0.57568249, 0.35147588, 0.49592697, ..., 0.59698918, 0.51498067,\n",
       "        0.53062705]])"
      ]
     },
     "execution_count": 26,
     "metadata": {},
     "output_type": "execute_result"
    }
   ],
   "source": [
    "X"
   ]
  },
  {
   "cell_type": "code",
   "execution_count": 27,
   "id": "ae00e46b-6196-49d0-b326-1445936acb34",
   "metadata": {},
   "outputs": [
    {
     "data": {
      "text/plain": [
       "array(['STAD', 'STAD', 'STAD', ..., 'LGG', 'LGG', 'LGG'], dtype=object)"
      ]
     },
     "execution_count": 27,
     "metadata": {},
     "output_type": "execute_result"
    }
   ],
   "source": [
    "Y"
   ]
  },
  {
   "cell_type": "code",
   "execution_count": 28,
   "id": "2fff607d-78f1-4494-be94-22dff27573e2",
   "metadata": {},
   "outputs": [
    {
     "data": {
      "text/plain": [
       "array([[0.02183301, 0.31115769, 0.48086697, ..., 0.77118719, 0.52679358,\n",
       "        0.61526995],\n",
       "       [0.69348094, 0.76787396, 0.49875124, ..., 0.55382119, 0.54521875,\n",
       "        0.67899567],\n",
       "       [0.75532972, 0.62584778, 0.67368182, ..., 0.59541069, 0.84887932,\n",
       "        0.84481607],\n",
       "       ...,\n",
       "       [0.11500891, 0.51745008, 0.59573502, ..., 0.51674692, 0.27579035,\n",
       "        0.67972547],\n",
       "       [0.25603236, 0.39977393, 0.        , ..., 0.72862762, 0.43165802,\n",
       "        0.20786944],\n",
       "       [0.52592885, 0.22444894, 0.44267077, ..., 0.60996173, 0.48686014,\n",
       "        0.635751  ]])"
      ]
     },
     "execution_count": 28,
     "metadata": {},
     "output_type": "execute_result"
    }
   ],
   "source": [
    "test"
   ]
  },
  {
   "cell_type": "code",
   "execution_count": 29,
   "id": "0cb726dc-b33e-4726-a42b-bc8a0ab1cc10",
   "metadata": {},
   "outputs": [
    {
     "name": "stdout",
     "output_type": "stream",
     "text": [
      "0.9961464354527938\n"
     ]
    }
   ],
   "source": [
    "from sklearn.ensemble import RandomForestClassifier\n",
    "\n",
    "classifier = RandomForestClassifier(n_estimators=3000, min_samples_split=400, min_samples_leaf=100)\n",
    "\n",
    "classifier.fit(X_train, Y_train)\n",
    "score = classifier.score(X_test, Y_test)\n",
    "print(score)"
   ]
  },
  {
   "cell_type": "code",
   "execution_count": 30,
   "id": "0c054790-dd45-4e96-979b-563f087e412c",
   "metadata": {},
   "outputs": [
    {
     "data": {
      "text/plain": [
       "array(['STAD', 'LUAD', 'LIHC', 'LIHC', 'STAD', 'LIHC', 'STAD', 'STAD',\n",
       "       'STAD', 'LUAD', 'LUAD', 'LUAD', 'SKCM', 'SKCM', 'LUAD', 'COAD',\n",
       "       'LUAD', 'STAD', 'LUAD', 'LUAD', 'LIHC', 'LUAD', 'LUAD', 'LIHC',\n",
       "       'LUAD', 'LIHC', 'LIHC', 'LGG', 'LIHC', 'LIHC', 'COAD', 'LIHC',\n",
       "       'LIHC', 'STAD', 'STAD', 'LIHC', 'COAD', 'COAD', 'COAD', 'COAD',\n",
       "       'LUAD', 'COAD', 'LGG', 'SKCM', 'LUAD', 'COAD', 'COAD', 'LGG',\n",
       "       'LGG', 'SKCM', 'LGG', 'LGG', 'LGG', 'LGG', 'LIHC', 'COAD', 'LGG',\n",
       "       'LGG', 'LGG', 'COAD', 'LGG', 'SKCM', 'SKCM', 'SKCM', 'STAD',\n",
       "       'SKCM', 'SKCM', 'LGG', 'LUAD', 'SKCM', 'SKCM', 'LGG', 'SKCM',\n",
       "       'SKCM'], dtype=object)"
      ]
     },
     "execution_count": 30,
     "metadata": {},
     "output_type": "execute_result"
    }
   ],
   "source": [
    "pred = classifier.predict(test)\n",
    "pred"
   ]
  },
  {
   "cell_type": "code",
   "execution_count": 31,
   "id": "3f479009-02c2-4a23-a627-4bfa5e053b36",
   "metadata": {},
   "outputs": [],
   "source": [
    "# pred= encoder.inverse_transform(pred)\n",
    "# pred"
   ]
  },
  {
   "cell_type": "code",
   "execution_count": 32,
   "id": "4115ffd4-b028-4095-a9df-605711fcecd0",
   "metadata": {},
   "outputs": [],
   "source": [
    "# from sklearn.naive_bayes import BernoulliNB\n",
    "# from sklearn.metrics import accuracy_score\n",
    "\n",
    "# model = BernoulliNB()\n",
    "# model.fit(X_train, Y_train)\n",
    "# print(\"train accuracy:{:5.3f}\".format(accuracy_score(Y_train, model.predict(X_train))))\n",
    "# print(\"test accuracy :{:5.3f}\".format(accuracy_score(Y_test, model.predict(X_test))))\n",
    "# pred = model.predict(test)"
   ]
  },
  {
   "cell_type": "code",
   "execution_count": 33,
   "id": "2c3afa33-a82a-4ce8-8fe2-451254152e39",
   "metadata": {},
   "outputs": [
    {
     "data": {
      "text/plain": [
       "array(['STAD', 'LUAD', 'LIHC', 'LIHC', 'STAD', 'LIHC', 'STAD', 'STAD',\n",
       "       'STAD', 'LUAD', 'LUAD', 'LUAD', 'SKCM', 'SKCM', 'LUAD', 'COAD',\n",
       "       'LUAD', 'STAD', 'LUAD', 'LUAD', 'LIHC', 'LUAD', 'LUAD', 'LIHC',\n",
       "       'LUAD', 'LIHC', 'LIHC', 'LGG', 'LIHC', 'LIHC', 'COAD', 'LIHC',\n",
       "       'LIHC', 'STAD', 'STAD', 'LIHC', 'COAD', 'COAD', 'COAD', 'COAD',\n",
       "       'LUAD', 'COAD', 'LGG', 'SKCM', 'LUAD', 'COAD', 'COAD', 'LGG',\n",
       "       'LGG', 'SKCM', 'LGG', 'LGG', 'LGG', 'LGG', 'LIHC', 'COAD', 'LGG',\n",
       "       'LGG', 'LGG', 'COAD', 'LGG', 'SKCM', 'SKCM', 'SKCM', 'STAD',\n",
       "       'SKCM', 'SKCM', 'LGG', 'LUAD', 'SKCM', 'SKCM', 'LGG', 'SKCM',\n",
       "       'SKCM'], dtype=object)"
      ]
     },
     "execution_count": 33,
     "metadata": {},
     "output_type": "execute_result"
    }
   ],
   "source": [
    "pred"
   ]
  },
  {
   "cell_type": "code",
   "execution_count": 34,
   "id": "54cf7510-6756-4fd1-bf03-3698b6f66e44",
   "metadata": {},
   "outputs": [
    {
     "name": "stdout",
     "output_type": "stream",
     "text": [
      "(74, 16340)\n",
      "(519, 16340)\n"
     ]
    }
   ],
   "source": [
    "print(test.shape)\n",
    "print(X_test.shape)"
   ]
  },
  {
   "cell_type": "code",
   "execution_count": 35,
   "id": "722cec70-4ab1-4ee5-920e-b6c2c69f5312",
   "metadata": {},
   "outputs": [],
   "source": [
    "submission = pd.read_csv('sample_submission.csv')\n",
    "submission = submission.drop(['expected'], axis=1)\n",
    "submission['expected'] = pred\n",
    "submission.to_csv('RF_Result.csv', index = False)"
   ]
  },
  {
   "cell_type": "code",
   "execution_count": 36,
   "id": "5080f42a-f948-48b5-85bf-fc12b18dd48e",
   "metadata": {},
   "outputs": [
    {
     "data": {
      "text/plain": [
       "array(['STAD', 'LUAD', 'LIHC', 'LIHC', 'STAD', 'LIHC', 'STAD', 'STAD',\n",
       "       'STAD', 'LUAD', 'LUAD', 'LUAD', 'SKCM', 'SKCM', 'LUAD', 'COAD',\n",
       "       'LUAD', 'STAD', 'LUAD', 'LUAD', 'LIHC', 'LUAD', 'LUAD', 'LIHC',\n",
       "       'LUAD', 'LIHC', 'LIHC', 'LGG', 'LIHC', 'LIHC', 'COAD', 'LIHC',\n",
       "       'LIHC', 'STAD', 'STAD', 'LIHC', 'COAD', 'COAD', 'COAD', 'COAD',\n",
       "       'LUAD', 'COAD', 'LGG', 'SKCM', 'LUAD', 'COAD', 'COAD', 'LGG',\n",
       "       'LGG', 'SKCM', 'LGG', 'LGG', 'LGG', 'LGG', 'LIHC', 'COAD', 'LGG',\n",
       "       'LGG', 'LGG', 'COAD', 'LGG', 'SKCM', 'SKCM', 'SKCM', 'STAD',\n",
       "       'SKCM', 'SKCM', 'LGG', 'LUAD', 'SKCM', 'SKCM', 'LGG', 'SKCM',\n",
       "       'SKCM'], dtype=object)"
      ]
     },
     "execution_count": 36,
     "metadata": {},
     "output_type": "execute_result"
    }
   ],
   "source": [
    "pred"
   ]
  },
  {
   "cell_type": "code",
   "execution_count": null,
   "id": "94427f37-3688-4e54-bca2-47c149bb3088",
   "metadata": {},
   "outputs": [],
   "source": []
  }
 ],
 "metadata": {
  "kernelspec": {
   "display_name": "Python 3",
   "language": "python",
   "name": "python3"
  },
  "language_info": {
   "codemirror_mode": {
    "name": "ipython",
    "version": 3
   },
   "file_extension": ".py",
   "mimetype": "text/x-python",
   "name": "python",
   "nbconvert_exporter": "python",
   "pygments_lexer": "ipython3",
   "version": "3.8.8"
  }
 },
 "nbformat": 4,
 "nbformat_minor": 5
}
