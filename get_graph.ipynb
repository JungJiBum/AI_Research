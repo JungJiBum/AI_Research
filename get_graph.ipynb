{
 "cells": [
  {
   "cell_type": "code",
   "execution_count": 1,
   "metadata": {},
   "outputs": [],
   "source": [
    "from sklearn.metrics import confusion_matrix\n",
    "import pandas as pd\n",
    "import seaborn as sns\n",
    "import matplotlib.pyplot as plt"
   ]
  },
  {
   "cell_type": "code",
   "execution_count": 2,
   "metadata": {},
   "outputs": [
    {
     "data": {
      "text/html": [
       "<div>\n",
       "<style scoped>\n",
       "    .dataframe tbody tr th:only-of-type {\n",
       "        vertical-align: middle;\n",
       "    }\n",
       "\n",
       "    .dataframe tbody tr th {\n",
       "        vertical-align: top;\n",
       "    }\n",
       "\n",
       "    .dataframe thead th {\n",
       "        text-align: right;\n",
       "    }\n",
       "</style>\n",
       "<table border=\"1\" class=\"dataframe\">\n",
       "  <thead>\n",
       "    <tr style=\"text-align: right;\">\n",
       "      <th></th>\n",
       "      <th>predict</th>\n",
       "      <th>real</th>\n",
       "      <th>check</th>\n",
       "      <th>count</th>\n",
       "      <th>accuracy</th>\n",
       "    </tr>\n",
       "  </thead>\n",
       "  <tbody>\n",
       "    <tr>\n",
       "      <th>0</th>\n",
       "      <td>stand</td>\n",
       "      <td>stand</td>\n",
       "      <td>O</td>\n",
       "      <td>1</td>\n",
       "      <td>0.062383</td>\n",
       "    </tr>\n",
       "    <tr>\n",
       "      <th>1</th>\n",
       "      <td>stand</td>\n",
       "      <td>stand</td>\n",
       "      <td>O</td>\n",
       "      <td>2</td>\n",
       "      <td>0.124766</td>\n",
       "    </tr>\n",
       "    <tr>\n",
       "      <th>2</th>\n",
       "      <td>stand</td>\n",
       "      <td>stand</td>\n",
       "      <td>O</td>\n",
       "      <td>3</td>\n",
       "      <td>0.187149</td>\n",
       "    </tr>\n",
       "    <tr>\n",
       "      <th>3</th>\n",
       "      <td>stand</td>\n",
       "      <td>stand</td>\n",
       "      <td>O</td>\n",
       "      <td>4</td>\n",
       "      <td>0.249532</td>\n",
       "    </tr>\n",
       "    <tr>\n",
       "      <th>4</th>\n",
       "      <td>stand</td>\n",
       "      <td>stand</td>\n",
       "      <td>O</td>\n",
       "      <td>5</td>\n",
       "      <td>0.311915</td>\n",
       "    </tr>\n",
       "    <tr>\n",
       "      <th>...</th>\n",
       "      <td>...</td>\n",
       "      <td>...</td>\n",
       "      <td>...</td>\n",
       "      <td>...</td>\n",
       "      <td>...</td>\n",
       "    </tr>\n",
       "    <tr>\n",
       "      <th>1598</th>\n",
       "      <td>stand</td>\n",
       "      <td>stand</td>\n",
       "      <td>O</td>\n",
       "      <td>1222</td>\n",
       "      <td>76.232065</td>\n",
       "    </tr>\n",
       "    <tr>\n",
       "      <th>1599</th>\n",
       "      <td>stand</td>\n",
       "      <td>stand</td>\n",
       "      <td>O</td>\n",
       "      <td>1223</td>\n",
       "      <td>76.294448</td>\n",
       "    </tr>\n",
       "    <tr>\n",
       "      <th>1600</th>\n",
       "      <td>stand</td>\n",
       "      <td>stand</td>\n",
       "      <td>O</td>\n",
       "      <td>1224</td>\n",
       "      <td>76.356831</td>\n",
       "    </tr>\n",
       "    <tr>\n",
       "      <th>1601</th>\n",
       "      <td>stand</td>\n",
       "      <td>stand</td>\n",
       "      <td>O</td>\n",
       "      <td>1225</td>\n",
       "      <td>76.419214</td>\n",
       "    </tr>\n",
       "    <tr>\n",
       "      <th>1602</th>\n",
       "      <td>stand</td>\n",
       "      <td>stand</td>\n",
       "      <td>O</td>\n",
       "      <td>1226</td>\n",
       "      <td>76.481597</td>\n",
       "    </tr>\n",
       "  </tbody>\n",
       "</table>\n",
       "<p>1603 rows × 5 columns</p>\n",
       "</div>"
      ],
      "text/plain": [
       "     predict   real check  count   accuracy\n",
       "0      stand  stand     O      1   0.062383\n",
       "1      stand  stand     O      2   0.124766\n",
       "2      stand  stand     O      3   0.187149\n",
       "3      stand  stand     O      4   0.249532\n",
       "4      stand  stand     O      5   0.311915\n",
       "...      ...    ...   ...    ...        ...\n",
       "1598   stand  stand     O   1222  76.232065\n",
       "1599   stand  stand     O   1223  76.294448\n",
       "1600   stand  stand     O   1224  76.356831\n",
       "1601   stand  stand     O   1225  76.419214\n",
       "1602   stand  stand     O   1226  76.481597\n",
       "\n",
       "[1603 rows x 5 columns]"
      ]
     },
     "execution_count": 2,
     "metadata": {},
     "output_type": "execute_result"
    }
   ],
   "source": [
    "data = pd.read_csv('TEST1_Result.csv')\n",
    "data"
   ]
  },
  {
   "cell_type": "code",
   "execution_count": 3,
   "metadata": {},
   "outputs": [],
   "source": [
    "predict = data['predict']\n",
    "real = data['real']"
   ]
  },
  {
   "cell_type": "code",
   "execution_count": 4,
   "metadata": {},
   "outputs": [
    {
     "name": "stdout",
     "output_type": "stream",
     "text": [
      "<class 'pandas.core.series.Series'>\n",
      "<class 'pandas.core.series.Series'>\n"
     ]
    }
   ],
   "source": [
    "print(type(predict))\n",
    "print(type(real))"
   ]
  },
  {
   "cell_type": "code",
   "execution_count": 139,
   "metadata": {},
   "outputs": [
    {
     "data": {
      "text/plain": [
       "array([[244,   0,  35],\n",
       "       [  2, 611, 250],\n",
       "       [  9,  81, 371]])"
      ]
     },
     "execution_count": 139,
     "metadata": {},
     "output_type": "execute_result"
    }
   ],
   "source": [
    "cf_matrix = confusion_matrix(predict, real)\n",
    "cf_matrix"
   ]
  },
  {
   "cell_type": "code",
   "execution_count": 140,
   "metadata": {},
   "outputs": [],
   "source": [
    "from sklearn.metrics import multilabel_confusion_matrix"
   ]
  },
  {
   "cell_type": "code",
   "execution_count": 141,
   "metadata": {},
   "outputs": [
    {
     "name": "stdout",
     "output_type": "stream",
     "text": [
      "[[[1313   11]\n",
      "  [  35  244]]\n",
      "\n",
      " [[ 659   81]\n",
      "  [ 252  611]]\n",
      "\n",
      " [[ 857  285]\n",
      "  [  90  371]]]\n"
     ]
    },
    {
     "data": {
      "text/plain": [
       "'\\n    \\n    sit\\n    stand\\n    walking\\n'"
      ]
     },
     "execution_count": 141,
     "metadata": {},
     "output_type": "execute_result"
    }
   ],
   "source": [
    "multi_cf_matrix = multilabel_confusion_matrix(predict, real)\n",
    "print(multi_cf_matrix)\n",
    "\n",
    "\"\"\"\n",
    "    \n",
    "    sit\n",
    "    stand\n",
    "    walking\n",
    "\"\"\""
   ]
  },
  {
   "cell_type": "code",
   "execution_count": 142,
   "metadata": {},
   "outputs": [],
   "source": [
    "sit_cf = multi_cf_matrix[0]\n",
    "stand_cf = multi_cf_matrix[1]\n",
    "walking_cf = multi_cf_matrix[2]"
   ]
  },
  {
   "cell_type": "code",
   "execution_count": 143,
   "metadata": {},
   "outputs": [
    {
     "name": "stdout",
     "output_type": "stream",
     "text": [
      "[[659  81]\n",
      " [252 611]]\n"
     ]
    }
   ],
   "source": [
    "print(stand_cf)"
   ]
  },
  {
   "cell_type": "code",
   "execution_count": 144,
   "metadata": {},
   "outputs": [],
   "source": [
    "def get_roc_value(data):\n",
    "\n",
    "    \"\"\"\n",
    "    Precision = TP / TP + FP\n",
    "    Recall = TP / TP + FN\n",
    "    \"\"\"\n",
    "    \n",
    "    TN = data[0][0]\n",
    "    FP = data[0][1] \n",
    "    FN = data[1][0] \n",
    "    TP = data[1][1]\n",
    "    \n",
    "#     data_fn = data[0][0]\n",
    "#     data_fp = data[0][1]\n",
    "#     data_tn = data[1][0]\n",
    "#     data_tp = data[1][1]\n",
    "    \n",
    "    Precision = TP / (TP+FP)\n",
    "    Recall = TP / (TP + FN)\n",
    "    f1 = 2 * ((Precision * Recall) / (Precision + Recall))\n",
    "    \n",
    "#     data_precision = data_tp / (data_tp + data_fp)\n",
    "#     data_recall = data_tp / (data_tp + data_fn)\n",
    "\n",
    "    return Precision, Recall, f1\n",
    "#     return data_precision, data_recall\n",
    "\n",
    "stand_precision, stand_recall, stand_f1 = get_roc_value(stand_cf)\n",
    "walking_precision, walking_recall, walking_f1 = get_roc_value(walking_cf)\n",
    "sit_precision, sit_recall, sit_f1 = get_roc_value(sit_cf)"
   ]
  },
  {
   "cell_type": "code",
   "execution_count": 145,
   "metadata": {},
   "outputs": [
    {
     "data": {
      "text/html": [
       "<div>\n",
       "<style scoped>\n",
       "    .dataframe tbody tr th:only-of-type {\n",
       "        vertical-align: middle;\n",
       "    }\n",
       "\n",
       "    .dataframe tbody tr th {\n",
       "        vertical-align: top;\n",
       "    }\n",
       "\n",
       "    .dataframe thead th {\n",
       "        text-align: right;\n",
       "    }\n",
       "</style>\n",
       "<table border=\"1\" class=\"dataframe\">\n",
       "  <thead>\n",
       "    <tr style=\"text-align: right;\">\n",
       "      <th></th>\n",
       "      <th>Stance</th>\n",
       "      <th>Precision</th>\n",
       "      <th>Recall</th>\n",
       "      <th>f1Score</th>\n",
       "    </tr>\n",
       "  </thead>\n",
       "  <tbody>\n",
       "    <tr>\n",
       "      <th>0</th>\n",
       "      <td>Stand</td>\n",
       "      <td>0.882948</td>\n",
       "      <td>0.707995</td>\n",
       "      <td>0.785852</td>\n",
       "    </tr>\n",
       "    <tr>\n",
       "      <th>1</th>\n",
       "      <td>Walking</td>\n",
       "      <td>0.565549</td>\n",
       "      <td>0.804772</td>\n",
       "      <td>0.664279</td>\n",
       "    </tr>\n",
       "    <tr>\n",
       "      <th>2</th>\n",
       "      <td>Sit</td>\n",
       "      <td>0.956863</td>\n",
       "      <td>0.874552</td>\n",
       "      <td>0.913858</td>\n",
       "    </tr>\n",
       "  </tbody>\n",
       "</table>\n",
       "</div>"
      ],
      "text/plain": [
       "    Stance  Precision    Recall   f1Score\n",
       "0    Stand   0.882948  0.707995  0.785852\n",
       "1  Walking   0.565549  0.804772  0.664279\n",
       "2      Sit   0.956863  0.874552  0.913858"
      ]
     },
     "execution_count": 145,
     "metadata": {},
     "output_type": "execute_result"
    }
   ],
   "source": [
    "\"\"\"\n",
    "transform roc to csv\n",
    "\"\"\"\n",
    "my_dict = {\"Stance\": ['Stand', 'Walking', 'Sit'],\n",
    "           \"Precision\": [stand_precision, walking_precision, sit_precision],\n",
    "           \"Recall\": [stand_recall, walking_recall, sit_recall],\n",
    "           \"f1Score\": [stand_f1, walking_f1, sit_f1]}\n",
    "roc_df_2 = pd.DataFrame(data = my_dict, index=None)\n",
    "roc_df_2"
   ]
  },
  {
   "cell_type": "code",
   "execution_count": 146,
   "metadata": {},
   "outputs": [],
   "source": [
    "#make csv for seaborn\n",
    "roc_df_2.to_csv('cm_data.csv', index=False)"
   ]
  },
  {
   "cell_type": "code",
   "execution_count": 147,
   "metadata": {},
   "outputs": [
    {
     "data": {
      "image/png": "[encoded data removed]",
      "text/plain": [
       "<Figure size 720x504 with 1 Axes>"
      ]
     },
     "metadata": {},
     "output_type": "display_data"
    }
   ],
   "source": [
    "test_data = pd.read_csv('cm_data.csv')\n",
    "\n",
    "sns.set(rc = {'figure.figsize':(10,7)})\n",
    "\n",
    "pr_bar = sns.barplot(data=test_data, x ='Stance', y = 'Precision')\n",
    "# test_data = pd.read_csv('3.csv')\n",
    "test_data.groupby('Precision').sum().reset_index()\n",
    "for index, row in test_data.iterrows():\n",
    "    pr_bar.text(row.name,row.Precision, round(row.Precision,2), color='black', ha=\"center\")\n",
    "\n",
    "plt.title(\"Stance Precision Graph\")\n",
    "fig = pr_bar.get_figure()\n",
    "fig.savefig('pr_bar.png') "
   ]
  },
  {
   "cell_type": "code",
   "execution_count": 148,
   "metadata": {},
   "outputs": [
    {
     "data": {
      "image/png": "[encoded data removed]",
      "text/plain": [
       "<Figure size 720x504 with 1 Axes>"
      ]
     },
     "metadata": {},
     "output_type": "display_data"
    }
   ],
   "source": [
    "rc_bar = sns.barplot(data=test_data, x ='Stance', y = 'Recall')\n",
    "test_data = pd.read_csv('cm_data.csv')\n",
    "test_data.groupby('Recall').sum().reset_index()\n",
    "\n",
    "for index, row in test_data.iterrows():\n",
    "    rc_bar.text(row.name,row.Recall, round(row.Recall,2), color='black', ha=\"center\")\n",
    "    \n",
    "plt.title(\"Stance Recall Graph\")\n",
    "fig = rc_bar.get_figure()\n",
    "fig.savefig('rc_bar.png') "
   ]
  },
  {
   "cell_type": "code",
   "execution_count": 149,
   "metadata": {},
   "outputs": [
    {
     "data": {
      "image/png": "[encoded data removed]",
      "text/plain": [
       "<Figure size 720x504 with 1 Axes>"
      ]
     },
     "metadata": {},
     "output_type": "display_data"
    }
   ],
   "source": [
    "test_data = pd.read_csv('cm_data.csv')\n",
    "sns.set(rc = {'figure.figsize':(10,7)})\n",
    "f1_bar = sns.barplot(data=test_data, x ='Stance', y = 'f1Score')\n",
    "\n",
    "test_data.groupby('f1Score').sum().reset_index()\n",
    "for index, row in test_data.iterrows():\n",
    "    f1_bar.text(row.name,row.f1Score, round(row.f1Score,2), color='black', ha=\"center\")\n",
    "\n",
    "plt.title(\"Stance F1Score Graph\")\n",
    "fig = pr_bar.get_figure()\n",
    "fig.savefig('f1_bar.png') "
   ]
  },
  {
   "cell_type": "code",
   "execution_count": 103,
   "metadata": {},
   "outputs": [
    {
     "name": "stdout",
     "output_type": "stream",
     "text": [
      "[[659  81]\n",
      " [252 611]]\n",
      "[[1313   11]\n",
      " [  35  244]]\n",
      "[[857 285]\n",
      " [ 90 371]]\n"
     ]
    }
   ],
   "source": [
    "print(stand_cf)\n",
    "print(sit_cf)\n",
    "print(walking_cf)"
   ]
  },
  {
   "cell_type": "code",
   "execution_count": 150,
   "metadata": {},
   "outputs": [
    {
     "data": {
      "image/png": "[encoded data removed]",
      "text/plain": [
       "<Figure size 576x360 with 2 Axes>"
      ]
     },
     "metadata": {},
     "output_type": "display_data"
    }
   ],
   "source": [
    "XLABEL = ['Negative', 'Positive']\n",
    "YLABEL = ['False', 'True']\n",
    "sns.set(rc = {'figure.figsize':(8,5)})\n",
    "stand_cm = sns.heatmap(stand_cf, xticklabels = XLABEL, yticklabels = YLABEL, annot=True, fmt=\"d\", linewidths=6, annot_kws={\"size\": 13})\n",
    "\n",
    "\n",
    "plt.title(\"Stand ConfusionMatrix\")\n",
    "plt.xlabel(\"Predicted Class\")\n",
    "plt.ylabel(\"Actual Class\")\n",
    "\n",
    "fig = stand_cm.get_figure()\n",
    "fig.savefig('stand_cm.png') "
   ]
  },
  {
   "cell_type": "code",
   "execution_count": 151,
   "metadata": {},
   "outputs": [
    {
     "data": {
      "image/png": "[encoded data removed]",
      "text/plain": [
       "<Figure size 576x360 with 2 Axes>"
      ]
     },
     "metadata": {},
     "output_type": "display_data"
    }
   ],
   "source": [
    "walk_cm = sns.heatmap(walking_cf, xticklabels = XLABEL, yticklabels = YLABEL, annot=True, fmt='d', linewidths=6, annot_kws={\"size\": 13})\n",
    "\n",
    "plt.title(\"Walk ConfusionMatrix\")\n",
    "plt.xlabel(\"Predicted Class\")\n",
    "plt.ylabel(\"Actual Class\")\n",
    "\n",
    "fig = walk_cm.get_figure()\n",
    "fig.savefig('walk_cm.png') "
   ]
  },
  {
   "cell_type": "code",
   "execution_count": 152,
   "metadata": {},
   "outputs": [
    {
     "data": {
      "image/png": "[encoded data removed]",
      "text/plain": [
       "<Figure size 576x360 with 2 Axes>"
      ]
     },
     "metadata": {},
     "output_type": "display_data"
    }
   ],
   "source": [
    "sit_cm = sns.heatmap(sit_cf, xticklabels = XLABEL, yticklabels = YLABEL,  annot=True, fmt='d', linewidths=6, annot_kws={\"size\": 13})\n",
    "\n",
    "plt.title(\"Sit ConfusionMatrix\")\n",
    "plt.xlabel(\"Predicted Class\")\n",
    "plt.ylabel(\"Actual Class\")\n",
    "\n",
    "fig = sit_cm.get_figure()\n",
    "fig.savefig('sit_cm.png') "
   ]
  }
 ],
 "metadata": {
  "kernelspec": {
   "display_name": "Python 3",
   "language": "python",
   "name": "python3"
  },
  "language_info": {
   "codemirror_mode": {
    "name": "ipython",
    "version": 3
   },
   "file_extension": ".py",
   "mimetype": "text/x-python",
   "name": "python",
   "nbconvert_exporter": "python",
   "pygments_lexer": "ipython3",
   "version": "3.8.8"
  }
 },
 "nbformat": 4,
 "nbformat_minor": 4
}
