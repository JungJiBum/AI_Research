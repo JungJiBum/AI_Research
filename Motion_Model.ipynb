{
 "cells": [
  {
   "cell_type": "code",
   "execution_count": 16,
   "id": "a97930df-a14d-4dc7-8458-be86f45c886c",
   "metadata": {},
   "outputs": [],
   "source": [
    "import pandas as pd\n",
    "import numpy as np\n",
    "import matplotlib.pyplot as plt\n",
    "import os\n",
    "import csv\n",
    "from sklearn.model_selection import train_test_split\n",
    "\n",
    "\n",
    "label = '/home/master/Jibum/Motion_Show/label'\n",
    "fi_ls = os.listdir(label)"
   ]
  },
  {
   "cell_type": "code",
   "execution_count": 17,
   "id": "5c4013bc-d9c8-4e78-b377-8db2237f7255",
   "metadata": {},
   "outputs": [],
   "source": [
    "# labelSet = pd.DataFrame()\n",
    "\n",
    "# for i in fi_ls:\n",
    "#     print(i)\n",
    "#     df = pd.read_csv(label + '/' + i, index_col = 'label')\n",
    "#     df = df.iloc[:, 4:31]\n",
    "#     labelSet = pd.concat([labelSet, df])"
   ]
  },
  {
   "cell_type": "code",
   "execution_count": 18,
   "id": "a0e9e333-98cd-40b6-81f4-06e2c8ddd5a4",
   "metadata": {},
   "outputs": [
    {
     "data": {
      "text/html": [
       "<div>\n",
       "<style scoped>\n",
       "    .dataframe tbody tr th:only-of-type {\n",
       "        vertical-align: middle;\n",
       "    }\n",
       "\n",
       "    .dataframe tbody tr th {\n",
       "        vertical-align: top;\n",
       "    }\n",
       "\n",
       "    .dataframe thead th {\n",
       "        text-align: right;\n",
       "    }\n",
       "</style>\n",
       "<table border=\"1\" class=\"dataframe\">\n",
       "  <thead>\n",
       "    <tr style=\"text-align: right;\">\n",
       "      <th></th>\n",
       "      <th>label</th>\n",
       "      <th>Robot_Hips.X</th>\n",
       "      <th>Robot_Hips.Y</th>\n",
       "      <th>Robot_Hips.Z</th>\n",
       "      <th>Robot_LeftUpLeg.X</th>\n",
       "      <th>Robot_LeftUpLeg.Y</th>\n",
       "      <th>Robot_LeftUpLeg.Z</th>\n",
       "      <th>Robot_LeftLeg.X</th>\n",
       "      <th>Robot_LeftLeg.Y</th>\n",
       "      <th>Robot_LeftLeg.Z</th>\n",
       "      <th>...</th>\n",
       "      <th>Robot_RightUpLeg.Z</th>\n",
       "      <th>Robot_RightLeg.X</th>\n",
       "      <th>Robot_RightLeg.Y</th>\n",
       "      <th>Robot_RightLeg.Z</th>\n",
       "      <th>Robot_RightFoot.X</th>\n",
       "      <th>Robot_RightFoot.Y</th>\n",
       "      <th>Robot_RightFoot.Z</th>\n",
       "      <th>Robot_RightToeBase.X</th>\n",
       "      <th>Robot_RightToeBase.Y</th>\n",
       "      <th>Robot_RightToeBase.Z</th>\n",
       "    </tr>\n",
       "  </thead>\n",
       "  <tbody>\n",
       "    <tr>\n",
       "      <th>0</th>\n",
       "      <td>standing</td>\n",
       "      <td>0.001904</td>\n",
       "      <td>1.111125</td>\n",
       "      <td>0.005761</td>\n",
       "      <td>-0.102821</td>\n",
       "      <td>1.022073</td>\n",
       "      <td>-0.002489</td>\n",
       "      <td>-0.112644</td>\n",
       "      <td>0.565446</td>\n",
       "      <td>-0.015439</td>\n",
       "      <td>...</td>\n",
       "      <td>-0.002493</td>\n",
       "      <td>0.117373</td>\n",
       "      <td>0.567342</td>\n",
       "      <td>-0.015010</td>\n",
       "      <td>0.116155</td>\n",
       "      <td>0.100203</td>\n",
       "      <td>-0.013302</td>\n",
       "      <td>0.117034</td>\n",
       "      <td>0.021351</td>\n",
       "      <td>0.109151</td>\n",
       "    </tr>\n",
       "    <tr>\n",
       "      <th>1</th>\n",
       "      <td>standing</td>\n",
       "      <td>0.001800</td>\n",
       "      <td>1.111076</td>\n",
       "      <td>0.005861</td>\n",
       "      <td>-0.102899</td>\n",
       "      <td>1.021990</td>\n",
       "      <td>-0.002360</td>\n",
       "      <td>-0.112545</td>\n",
       "      <td>0.565347</td>\n",
       "      <td>-0.014906</td>\n",
       "      <td>...</td>\n",
       "      <td>-0.002400</td>\n",
       "      <td>0.118023</td>\n",
       "      <td>0.567329</td>\n",
       "      <td>-0.014487</td>\n",
       "      <td>0.117561</td>\n",
       "      <td>0.100190</td>\n",
       "      <td>-0.012330</td>\n",
       "      <td>0.118283</td>\n",
       "      <td>0.021368</td>\n",
       "      <td>0.110143</td>\n",
       "    </tr>\n",
       "    <tr>\n",
       "      <th>2</th>\n",
       "      <td>standing</td>\n",
       "      <td>0.001796</td>\n",
       "      <td>1.111071</td>\n",
       "      <td>0.005803</td>\n",
       "      <td>-0.102891</td>\n",
       "      <td>1.021968</td>\n",
       "      <td>-0.002399</td>\n",
       "      <td>-0.112393</td>\n",
       "      <td>0.565320</td>\n",
       "      <td>-0.014832</td>\n",
       "      <td>...</td>\n",
       "      <td>-0.002472</td>\n",
       "      <td>0.118069</td>\n",
       "      <td>0.567337</td>\n",
       "      <td>-0.014446</td>\n",
       "      <td>0.117641</td>\n",
       "      <td>0.100198</td>\n",
       "      <td>-0.012178</td>\n",
       "      <td>0.118328</td>\n",
       "      <td>0.021398</td>\n",
       "      <td>0.110310</td>\n",
       "    </tr>\n",
       "    <tr>\n",
       "      <th>3</th>\n",
       "      <td>standing</td>\n",
       "      <td>0.001796</td>\n",
       "      <td>1.111071</td>\n",
       "      <td>0.005803</td>\n",
       "      <td>-0.102891</td>\n",
       "      <td>1.021968</td>\n",
       "      <td>-0.002399</td>\n",
       "      <td>-0.112393</td>\n",
       "      <td>0.565320</td>\n",
       "      <td>-0.014832</td>\n",
       "      <td>...</td>\n",
       "      <td>-0.002472</td>\n",
       "      <td>0.118069</td>\n",
       "      <td>0.567337</td>\n",
       "      <td>-0.014446</td>\n",
       "      <td>0.117641</td>\n",
       "      <td>0.100198</td>\n",
       "      <td>-0.012178</td>\n",
       "      <td>0.118328</td>\n",
       "      <td>0.021398</td>\n",
       "      <td>0.110310</td>\n",
       "    </tr>\n",
       "    <tr>\n",
       "      <th>4</th>\n",
       "      <td>standing</td>\n",
       "      <td>0.001780</td>\n",
       "      <td>1.111072</td>\n",
       "      <td>0.005715</td>\n",
       "      <td>-0.102913</td>\n",
       "      <td>1.021971</td>\n",
       "      <td>-0.002420</td>\n",
       "      <td>-0.112356</td>\n",
       "      <td>0.565313</td>\n",
       "      <td>-0.014521</td>\n",
       "      <td>...</td>\n",
       "      <td>-0.002526</td>\n",
       "      <td>0.118026</td>\n",
       "      <td>0.567318</td>\n",
       "      <td>-0.014170</td>\n",
       "      <td>0.117556</td>\n",
       "      <td>0.100181</td>\n",
       "      <td>-0.011581</td>\n",
       "      <td>0.118220</td>\n",
       "      <td>0.021456</td>\n",
       "      <td>0.110955</td>\n",
       "    </tr>\n",
       "    <tr>\n",
       "      <th>...</th>\n",
       "      <td>...</td>\n",
       "      <td>...</td>\n",
       "      <td>...</td>\n",
       "      <td>...</td>\n",
       "      <td>...</td>\n",
       "      <td>...</td>\n",
       "      <td>...</td>\n",
       "      <td>...</td>\n",
       "      <td>...</td>\n",
       "      <td>...</td>\n",
       "      <td>...</td>\n",
       "      <td>...</td>\n",
       "      <td>...</td>\n",
       "      <td>...</td>\n",
       "      <td>...</td>\n",
       "      <td>...</td>\n",
       "      <td>...</td>\n",
       "      <td>...</td>\n",
       "      <td>...</td>\n",
       "      <td>...</td>\n",
       "      <td>...</td>\n",
       "    </tr>\n",
       "    <tr>\n",
       "      <th>7454</th>\n",
       "      <td>walking</td>\n",
       "      <td>0.001495</td>\n",
       "      <td>1.103758</td>\n",
       "      <td>0.015666</td>\n",
       "      <td>-0.107431</td>\n",
       "      <td>1.020183</td>\n",
       "      <td>0.004900</td>\n",
       "      <td>-0.110388</td>\n",
       "      <td>0.572050</td>\n",
       "      <td>-0.084210</td>\n",
       "      <td>...</td>\n",
       "      <td>0.013548</td>\n",
       "      <td>0.119717</td>\n",
       "      <td>0.554483</td>\n",
       "      <td>0.003283</td>\n",
       "      <td>0.130742</td>\n",
       "      <td>0.088158</td>\n",
       "      <td>-0.022086</td>\n",
       "      <td>0.149168</td>\n",
       "      <td>-0.002312</td>\n",
       "      <td>0.090559</td>\n",
       "    </tr>\n",
       "    <tr>\n",
       "      <th>7455</th>\n",
       "      <td>walking</td>\n",
       "      <td>0.001270</td>\n",
       "      <td>1.103723</td>\n",
       "      <td>0.016382</td>\n",
       "      <td>-0.108011</td>\n",
       "      <td>1.020572</td>\n",
       "      <td>0.005928</td>\n",
       "      <td>-0.109812</td>\n",
       "      <td>0.573154</td>\n",
       "      <td>-0.086736</td>\n",
       "      <td>...</td>\n",
       "      <td>0.014201</td>\n",
       "      <td>0.122615</td>\n",
       "      <td>0.554169</td>\n",
       "      <td>0.004343</td>\n",
       "      <td>0.140890</td>\n",
       "      <td>0.088409</td>\n",
       "      <td>-0.026598</td>\n",
       "      <td>0.159496</td>\n",
       "      <td>-0.004190</td>\n",
       "      <td>0.084273</td>\n",
       "    </tr>\n",
       "    <tr>\n",
       "      <th>7456</th>\n",
       "      <td>walking</td>\n",
       "      <td>0.002334</td>\n",
       "      <td>1.103678</td>\n",
       "      <td>0.015983</td>\n",
       "      <td>-0.107066</td>\n",
       "      <td>1.020652</td>\n",
       "      <td>0.005790</td>\n",
       "      <td>-0.108409</td>\n",
       "      <td>0.573981</td>\n",
       "      <td>-0.090419</td>\n",
       "      <td>...</td>\n",
       "      <td>0.013834</td>\n",
       "      <td>0.115149</td>\n",
       "      <td>0.553609</td>\n",
       "      <td>0.009886</td>\n",
       "      <td>0.133269</td>\n",
       "      <td>0.088048</td>\n",
       "      <td>-0.023990</td>\n",
       "      <td>0.150965</td>\n",
       "      <td>-0.005114</td>\n",
       "      <td>0.086557</td>\n",
       "    </tr>\n",
       "    <tr>\n",
       "      <th>7457</th>\n",
       "      <td>walking</td>\n",
       "      <td>0.001230</td>\n",
       "      <td>1.103457</td>\n",
       "      <td>0.019422</td>\n",
       "      <td>-0.108350</td>\n",
       "      <td>1.020598</td>\n",
       "      <td>0.009823</td>\n",
       "      <td>-0.110492</td>\n",
       "      <td>0.575134</td>\n",
       "      <td>-0.091816</td>\n",
       "      <td>...</td>\n",
       "      <td>0.017827</td>\n",
       "      <td>0.118377</td>\n",
       "      <td>0.553768</td>\n",
       "      <td>-0.003205</td>\n",
       "      <td>0.128071</td>\n",
       "      <td>0.087958</td>\n",
       "      <td>-0.037130</td>\n",
       "      <td>0.144543</td>\n",
       "      <td>-0.003443</td>\n",
       "      <td>0.075065</td>\n",
       "    </tr>\n",
       "    <tr>\n",
       "      <th>7458</th>\n",
       "      <td>walking</td>\n",
       "      <td>0.001524</td>\n",
       "      <td>1.103460</td>\n",
       "      <td>0.020572</td>\n",
       "      <td>-0.108080</td>\n",
       "      <td>1.020589</td>\n",
       "      <td>0.011367</td>\n",
       "      <td>-0.111331</td>\n",
       "      <td>0.575562</td>\n",
       "      <td>-0.092137</td>\n",
       "      <td>...</td>\n",
       "      <td>0.018968</td>\n",
       "      <td>0.114314</td>\n",
       "      <td>0.553578</td>\n",
       "      <td>-0.000949</td>\n",
       "      <td>0.120458</td>\n",
       "      <td>0.087651</td>\n",
       "      <td>-0.034090</td>\n",
       "      <td>0.136441</td>\n",
       "      <td>-0.002883</td>\n",
       "      <td>0.078875</td>\n",
       "    </tr>\n",
       "  </tbody>\n",
       "</table>\n",
       "<p>7459 rows × 28 columns</p>\n",
       "</div>"
      ],
      "text/plain": [
       "         label  Robot_Hips.X  Robot_Hips.Y  Robot_Hips.Z  Robot_LeftUpLeg.X  \\\n",
       "0     standing      0.001904      1.111125      0.005761          -0.102821   \n",
       "1     standing      0.001800      1.111076      0.005861          -0.102899   \n",
       "2     standing      0.001796      1.111071      0.005803          -0.102891   \n",
       "3     standing      0.001796      1.111071      0.005803          -0.102891   \n",
       "4     standing      0.001780      1.111072      0.005715          -0.102913   \n",
       "...        ...           ...           ...           ...                ...   \n",
       "7454   walking      0.001495      1.103758      0.015666          -0.107431   \n",
       "7455   walking      0.001270      1.103723      0.016382          -0.108011   \n",
       "7456   walking      0.002334      1.103678      0.015983          -0.107066   \n",
       "7457   walking      0.001230      1.103457      0.019422          -0.108350   \n",
       "7458   walking      0.001524      1.103460      0.020572          -0.108080   \n",
       "\n",
       "      Robot_LeftUpLeg.Y  Robot_LeftUpLeg.Z  Robot_LeftLeg.X  Robot_LeftLeg.Y  \\\n",
       "0              1.022073          -0.002489        -0.112644         0.565446   \n",
       "1              1.021990          -0.002360        -0.112545         0.565347   \n",
       "2              1.021968          -0.002399        -0.112393         0.565320   \n",
       "3              1.021968          -0.002399        -0.112393         0.565320   \n",
       "4              1.021971          -0.002420        -0.112356         0.565313   \n",
       "...                 ...                ...              ...              ...   \n",
       "7454           1.020183           0.004900        -0.110388         0.572050   \n",
       "7455           1.020572           0.005928        -0.109812         0.573154   \n",
       "7456           1.020652           0.005790        -0.108409         0.573981   \n",
       "7457           1.020598           0.009823        -0.110492         0.575134   \n",
       "7458           1.020589           0.011367        -0.111331         0.575562   \n",
       "\n",
       "      Robot_LeftLeg.Z  ...  Robot_RightUpLeg.Z  Robot_RightLeg.X  \\\n",
       "0           -0.015439  ...           -0.002493          0.117373   \n",
       "1           -0.014906  ...           -0.002400          0.118023   \n",
       "2           -0.014832  ...           -0.002472          0.118069   \n",
       "3           -0.014832  ...           -0.002472          0.118069   \n",
       "4           -0.014521  ...           -0.002526          0.118026   \n",
       "...               ...  ...                 ...               ...   \n",
       "7454        -0.084210  ...            0.013548          0.119717   \n",
       "7455        -0.086736  ...            0.014201          0.122615   \n",
       "7456        -0.090419  ...            0.013834          0.115149   \n",
       "7457        -0.091816  ...            0.017827          0.118377   \n",
       "7458        -0.092137  ...            0.018968          0.114314   \n",
       "\n",
       "      Robot_RightLeg.Y  Robot_RightLeg.Z  Robot_RightFoot.X  \\\n",
       "0             0.567342         -0.015010           0.116155   \n",
       "1             0.567329         -0.014487           0.117561   \n",
       "2             0.567337         -0.014446           0.117641   \n",
       "3             0.567337         -0.014446           0.117641   \n",
       "4             0.567318         -0.014170           0.117556   \n",
       "...                ...               ...                ...   \n",
       "7454          0.554483          0.003283           0.130742   \n",
       "7455          0.554169          0.004343           0.140890   \n",
       "7456          0.553609          0.009886           0.133269   \n",
       "7457          0.553768         -0.003205           0.128071   \n",
       "7458          0.553578         -0.000949           0.120458   \n",
       "\n",
       "      Robot_RightFoot.Y  Robot_RightFoot.Z  Robot_RightToeBase.X  \\\n",
       "0              0.100203          -0.013302              0.117034   \n",
       "1              0.100190          -0.012330              0.118283   \n",
       "2              0.100198          -0.012178              0.118328   \n",
       "3              0.100198          -0.012178              0.118328   \n",
       "4              0.100181          -0.011581              0.118220   \n",
       "...                 ...                ...                   ...   \n",
       "7454           0.088158          -0.022086              0.149168   \n",
       "7455           0.088409          -0.026598              0.159496   \n",
       "7456           0.088048          -0.023990              0.150965   \n",
       "7457           0.087958          -0.037130              0.144543   \n",
       "7458           0.087651          -0.034090              0.136441   \n",
       "\n",
       "      Robot_RightToeBase.Y  Robot_RightToeBase.Z  \n",
       "0                 0.021351              0.109151  \n",
       "1                 0.021368              0.110143  \n",
       "2                 0.021398              0.110310  \n",
       "3                 0.021398              0.110310  \n",
       "4                 0.021456              0.110955  \n",
       "...                    ...                   ...  \n",
       "7454             -0.002312              0.090559  \n",
       "7455             -0.004190              0.084273  \n",
       "7456             -0.005114              0.086557  \n",
       "7457             -0.003443              0.075065  \n",
       "7458             -0.002883              0.078875  \n",
       "\n",
       "[7459 rows x 28 columns]"
      ]
     },
     "execution_count": 18,
     "metadata": {},
     "output_type": "execute_result"
    }
   ],
   "source": [
    "# csv저장\n",
    "# labelSet.to_csv('/home/master/Jibum/Motion_Show/result/labelset.csv', index=True,header=True)\n",
    "test = pd.read_csv('/home/master/Jibum/Motion_Show/result/labelset.csv')\n",
    "# test = test.rename(index=test['label'])\n",
    "test"
   ]
  },
  {
   "cell_type": "code",
   "execution_count": 19,
   "id": "2e7b29c8-f551-4fbd-a66f-f2a51bd72ace",
   "metadata": {},
   "outputs": [
    {
     "data": {
      "text/plain": [
       "sit         3974\n",
       "standing    2507\n",
       "walking      978\n",
       "Name: label, dtype: int64"
      ]
     },
     "execution_count": 19,
     "metadata": {},
     "output_type": "execute_result"
    }
   ],
   "source": [
    "test['label'].value_counts()"
   ]
  },
  {
   "cell_type": "code",
   "execution_count": 20,
   "id": "0cdbd5f9-cc28-44f3-b61f-27f720fbd082",
   "metadata": {},
   "outputs": [],
   "source": [
    "# test = pd.read_csv('/home/master/Jibum/Motion_Show/result/onehotset.csv')\n",
    "# test = test.rename(index=test['label'])\n",
    "# test"
   ]
  },
  {
   "cell_type": "code",
   "execution_count": 23,
   "id": "5026a0b3-6545-47b4-8b35-e5afebcf8fa5",
   "metadata": {},
   "outputs": [
    {
     "data": {
      "text/plain": [
       "Index(['label', 'Robot_Hips.X', 'Robot_Hips.Y', 'Robot_Hips.Z',\n",
       "       'Robot_LeftUpLeg.X', 'Robot_LeftUpLeg.Y', 'Robot_LeftUpLeg.Z',\n",
       "       'Robot_LeftLeg.X', 'Robot_LeftLeg.Y', 'Robot_LeftLeg.Z',\n",
       "       'Robot_LeftFoot.X', 'Robot_LeftFoot.Y', 'Robot_LeftFoot.Z',\n",
       "       'Robot_LeftToeBase.X', 'Robot_LeftToeBase.Y', 'Robot_LeftToeBase.Z',\n",
       "       'Robot_RightUpLeg.X', 'Robot_RightUpLeg.Y', 'Robot_RightUpLeg.Z',\n",
       "       'Robot_RightLeg.X', 'Robot_RightLeg.Y', 'Robot_RightLeg.Z',\n",
       "       'Robot_RightFoot.X', 'Robot_RightFoot.Y', 'Robot_RightFoot.Z',\n",
       "       'Robot_RightToeBase.X', 'Robot_RightToeBase.Y', 'Robot_RightToeBase.Z'],\n",
       "      dtype='object')"
      ]
     },
     "execution_count": 23,
     "metadata": {},
     "output_type": "execute_result"
    }
   ],
   "source": [
    "test.columns"
   ]
  },
  {
   "cell_type": "code",
   "execution_count": 5,
   "id": "4bd36fd3-9964-48de-8bd4-40b4c452c381",
   "metadata": {},
   "outputs": [],
   "source": [
    "# x = test.drop(['result'], axis=1)\n",
    "x = test[['Robot_Hips.X', 'Robot_Hips.Y', 'Robot_Hips.Z', 'Robot_LeftUpLeg.X',\n",
    "       'Robot_LeftUpLeg.Y', 'Robot_LeftUpLeg.Z', 'Robot_LeftLeg.X',\n",
    "       'Robot_LeftLeg.Y', 'Robot_LeftLeg.Z', 'Robot_LeftFoot.X',\n",
    "       'Robot_LeftFoot.Y', 'Robot_LeftFoot.Z', 'Robot_LeftToeBase.X',\n",
    "       'Robot_LeftToeBase.Y', 'Robot_LeftToeBase.Z', 'Robot_RightUpLeg.X',\n",
    "       'Robot_RightUpLeg.Y', 'Robot_RightUpLeg.Z', 'Robot_RightLeg.X',\n",
    "       'Robot_RightLeg.Y', 'Robot_RightLeg.Z', 'Robot_RightFoot.X',\n",
    "       'Robot_RightFoot.Y', 'Robot_RightFoot.Z', 'Robot_RightToeBase.X',\n",
    "       'Robot_RightToeBase.Y', 'Robot_RightToeBase.Z']]\n",
    "y = test[['label']]"
   ]
  },
  {
   "cell_type": "code",
   "execution_count": 6,
   "id": "1e48bd0c-525d-423f-a95c-995943e3cd15",
   "metadata": {},
   "outputs": [
    {
     "data": {
      "text/html": [
       "<div>\n",
       "<style scoped>\n",
       "    .dataframe tbody tr th:only-of-type {\n",
       "        vertical-align: middle;\n",
       "    }\n",
       "\n",
       "    .dataframe tbody tr th {\n",
       "        vertical-align: top;\n",
       "    }\n",
       "\n",
       "    .dataframe thead th {\n",
       "        text-align: right;\n",
       "    }\n",
       "</style>\n",
       "<table border=\"1\" class=\"dataframe\">\n",
       "  <thead>\n",
       "    <tr style=\"text-align: right;\">\n",
       "      <th></th>\n",
       "      <th>label</th>\n",
       "    </tr>\n",
       "  </thead>\n",
       "  <tbody>\n",
       "    <tr>\n",
       "      <th>2</th>\n",
       "      <td>2</td>\n",
       "    </tr>\n",
       "    <tr>\n",
       "      <th>2</th>\n",
       "      <td>2</td>\n",
       "    </tr>\n",
       "    <tr>\n",
       "      <th>2</th>\n",
       "      <td>2</td>\n",
       "    </tr>\n",
       "    <tr>\n",
       "      <th>2</th>\n",
       "      <td>2</td>\n",
       "    </tr>\n",
       "    <tr>\n",
       "      <th>2</th>\n",
       "      <td>2</td>\n",
       "    </tr>\n",
       "    <tr>\n",
       "      <th>...</th>\n",
       "      <td>...</td>\n",
       "    </tr>\n",
       "    <tr>\n",
       "      <th>3</th>\n",
       "      <td>3</td>\n",
       "    </tr>\n",
       "    <tr>\n",
       "      <th>3</th>\n",
       "      <td>3</td>\n",
       "    </tr>\n",
       "    <tr>\n",
       "      <th>3</th>\n",
       "      <td>3</td>\n",
       "    </tr>\n",
       "    <tr>\n",
       "      <th>3</th>\n",
       "      <td>3</td>\n",
       "    </tr>\n",
       "    <tr>\n",
       "      <th>3</th>\n",
       "      <td>3</td>\n",
       "    </tr>\n",
       "  </tbody>\n",
       "</table>\n",
       "<p>7459 rows × 1 columns</p>\n",
       "</div>"
      ],
      "text/plain": [
       "    label\n",
       "2       2\n",
       "2       2\n",
       "2       2\n",
       "2       2\n",
       "2       2\n",
       "..    ...\n",
       "3       3\n",
       "3       3\n",
       "3       3\n",
       "3       3\n",
       "3       3\n",
       "\n",
       "[7459 rows x 1 columns]"
      ]
     },
     "execution_count": 6,
     "metadata": {},
     "output_type": "execute_result"
    }
   ],
   "source": [
    "y"
   ]
  },
  {
   "cell_type": "code",
   "execution_count": 7,
   "id": "5004276d-a0b8-4780-a986-1e94cccad1a0",
   "metadata": {},
   "outputs": [
    {
     "name": "stdout",
     "output_type": "stream",
     "text": [
      "(7459, 27) (7459, 1)\n"
     ]
    }
   ],
   "source": [
    "print(x.shape, y.shape)"
   ]
  },
  {
   "cell_type": "code",
   "execution_count": 8,
   "id": "36115857-88da-4d35-894d-ee080dfaa0aa",
   "metadata": {},
   "outputs": [
    {
     "name": "stdout",
     "output_type": "stream",
     "text": [
      "[[0.41884784 0.98590849 0.85776633 ... 0.5680882  0.33601534 0.53123525]\n",
      " [0.4170473  0.98578357 0.85822406 ... 0.57129747 0.33612098 0.53219969]\n",
      " [0.4169775  0.98577003 0.8579588  ... 0.57141265 0.33631387 0.53236196]\n",
      " ...\n",
      " [0.42625761 0.96710366 0.904441   ... 0.65526593 0.16607023 0.50926285]\n",
      " [0.40723137 0.96654557 0.92014387 ... 0.63876615 0.17680308 0.49808678]\n",
      " [0.41230674 0.9665534  0.92539652 ... 0.61795063 0.18039626 0.50179198]]\n"
     ]
    }
   ],
   "source": [
    "from sklearn.preprocessing import MinMaxScaler\n",
    "scaler = MinMaxScaler()\n",
    "x = scaler.fit_transform(x[:])\n",
    "print(x)"
   ]
  },
  {
   "cell_type": "code",
   "execution_count": 10,
   "id": "5184f860-63a3-44b8-87c2-3d39b4f499af",
   "metadata": {},
   "outputs": [],
   "source": [
    "# from sklearn.preprocessing import LabelEncoder\n",
    "\n",
    "# action = ['sit','standing','walking']\n",
    "# encoder = LabelEncoder()\n",
    "# encoder.fit(action)\n",
    "# y_labels = encoder.transform(y)\n",
    "# print(encoder.classes_)\n",
    "# print(y_labels)\n",
    "# for i, label in enumerate(encoder.classes_):\n",
    "#     print(i, '->', label)\n",
    "# test_labels=['sit','walking']\n",
    "# print(test_labels, '->', encoder.transform(test_labels))\n",
    "# encode_dataset = [0,2,1,2,1,1,0]\n",
    "# print(encode_dataset,'->', encoder.inverse_transform(encode_dataset))"
   ]
  },
  {
   "cell_type": "code",
   "execution_count": 9,
   "id": "0ec0fe6d-ac10-453d-acb3-170aacff9261",
   "metadata": {},
   "outputs": [],
   "source": [
    "from sklearn.preprocessing import OneHotEncoder\n",
    "enc = OneHotEncoder()\n",
    "enc.fit(y)\n",
    "y_onehot = enc.transform(y).toarray()"
   ]
  },
  {
   "cell_type": "code",
   "execution_count": 10,
   "id": "f29f150e-2e0f-4c6d-920f-9124057cb778",
   "metadata": {},
   "outputs": [
    {
     "data": {
      "text/plain": [
       "array([[0., 1., 0.],\n",
       "       [0., 1., 0.],\n",
       "       [0., 1., 0.],\n",
       "       ...,\n",
       "       [0., 0., 1.],\n",
       "       [0., 0., 1.],\n",
       "       [0., 0., 1.]])"
      ]
     },
     "execution_count": 10,
     "metadata": {},
     "output_type": "execute_result"
    }
   ],
   "source": [
    "y_onehot"
   ]
  },
  {
   "cell_type": "code",
   "execution_count": 12,
   "id": "1bc53817-063d-4f87-b740-920e5aa40a70",
   "metadata": {},
   "outputs": [],
   "source": [
    "x_train_all,x_test,y_train_all,y_test = train_test_split(x,y_onehot, stratify=y_onehot,test_size=0.2, random_state=42)"
   ]
  },
  {
   "cell_type": "code",
   "execution_count": 13,
   "id": "f058a58f-b074-414b-8850-c75f3db48afa",
   "metadata": {},
   "outputs": [],
   "source": [
    "x_train,x_val,y_train,y_val = train_test_split(x_train_all,y_train_all, stratify=y_train_all,test_size=0.2,random_state=42)"
   ]
  },
  {
   "cell_type": "code",
   "execution_count": 14,
   "id": "822a9100-14a4-4018-806e-273b0c77883f",
   "metadata": {},
   "outputs": [
    {
     "name": "stdout",
     "output_type": "stream",
     "text": [
      "(7459, 27)\n",
      "(5967, 27)\n",
      "(1492, 27)\n",
      "(4773, 27)\n",
      "(1194, 27)\n",
      "(7459, 3)\n",
      "(5967, 3)\n",
      "(1492, 3)\n",
      "(4773, 3)\n",
      "(1194, 3)\n"
     ]
    }
   ],
   "source": [
    "print(x.shape)\n",
    "print(x_train_all.shape)\n",
    "print(x_test.shape)\n",
    "print(x_train.shape)\n",
    "print(x_val.shape)\n",
    "print(y_onehot.shape)\n",
    "print(y_train_all.shape)\n",
    "print(y_test.shape)\n",
    "print(y_train.shape)\n",
    "print(y_val.shape)"
   ]
  },
  {
   "cell_type": "code",
   "execution_count": 15,
   "id": "c238fccc-a737-4fcf-9c40-aa40c83a2ff3",
   "metadata": {},
   "outputs": [
    {
     "name": "stdout",
     "output_type": "stream",
     "text": [
      "Requirement already satisfied: pydot in /home/master/anaconda3/lib/python3.8/site-packages (1.4.2)\n",
      "Requirement already satisfied: pyparsing>=2.1.4 in /home/master/anaconda3/lib/python3.8/site-packages (from pydot) (2.4.7)\n",
      "Note: you may need to restart the kernel to use updated packages.\n"
     ]
    }
   ],
   "source": [
    "pip install pydot"
   ]
  },
  {
   "cell_type": "code",
   "execution_count": 16,
   "id": "8d3b1f58-b81f-4b4a-8108-01abb973bdf3",
   "metadata": {},
   "outputs": [
    {
     "name": "stdout",
     "output_type": "stream",
     "text": [
      "Model: \"sequential\"\n",
      "_________________________________________________________________\n",
      "Layer (type)                 Output Shape              Param #   \n",
      "=================================================================\n",
      "dense (Dense)                (None, 50)                1400      \n",
      "_________________________________________________________________\n",
      "activation (Activation)      (None, 50)                0         \n",
      "_________________________________________________________________\n",
      "dense_1 (Dense)              (None, 25)                1275      \n",
      "_________________________________________________________________\n",
      "activation_1 (Activation)    (None, 25)                0         \n",
      "_________________________________________________________________\n",
      "dense_2 (Dense)              (None, 15)                390       \n",
      "_________________________________________________________________\n",
      "activation_2 (Activation)    (None, 15)                0         \n",
      "_________________________________________________________________\n",
      "dense_3 (Dense)              (None, 3)                 48        \n",
      "_________________________________________________________________\n",
      "activation_3 (Activation)    (None, 3)                 0         \n",
      "=================================================================\n",
      "Total params: 3,113\n",
      "Trainable params: 3,113\n",
      "Non-trainable params: 0\n",
      "_________________________________________________________________\n"
     ]
    },
    {
     "data": {
      "image/png": "[encoded data removed]",
      "text/plain": [
       "<IPython.core.display.Image object>"
      ]
     },
     "execution_count": 16,
     "metadata": {},
     "output_type": "execute_result"
    }
   ],
   "source": [
    "from tensorflow.keras import Sequential\n",
    "from tensorflow.keras.layers import Dense, Activation\n",
    "import tensorflow as tf\n",
    "\n",
    "\n",
    "model = Sequential()\n",
    "model.add(Dense(50, input_shape=(27,)))\n",
    "model.add(Activation('sigmoid'))\n",
    "model.add(Dense(25))\n",
    "model.add(Activation('relu'))\n",
    "model.add(Dense(15))\n",
    "model.add(Activation('relu'))\n",
    "model.add(Dense(3))\n",
    "model.add(Activation('softmax'))\n",
    "model.compile(optimizer='sgd', loss='categorical_crossentropy', metrics=['accuracy'])\n",
    "\n",
    "model.summary()\n",
    "\n",
    "tf.keras.utils.plot_model(model,to_file=\"modelLogic/model.png\",\n",
    "    show_shapes=True,\n",
    "    show_dtype=True,\n",
    "    show_layer_names=True,\n",
    "    rankdir=\"TB\",\n",
    "    expand_nested=False,\n",
    "    dpi=96,\n",
    ")\n"
   ]
  },
  {
   "cell_type": "code",
   "execution_count": 17,
   "id": "3bb0ddf8-8fc1-46fe-bc45-9581777b7572",
   "metadata": {},
   "outputs": [
    {
     "name": "stdout",
     "output_type": "stream",
     "text": [
      "Epoch 1/100\n",
      "150/150 [==============================] - 1s 4ms/step - loss: 1.0483 - accuracy: 0.4277 - val_loss: 0.9500 - val_accuracy: 0.5327\n",
      "Epoch 2/100\n",
      "150/150 [==============================] - 0s 2ms/step - loss: 0.9395 - accuracy: 0.5467 - val_loss: 0.9228 - val_accuracy: 0.5327\n",
      "Epoch 3/100\n",
      "150/150 [==============================] - 0s 1ms/step - loss: 0.9102 - accuracy: 0.5379 - val_loss: 0.8663 - val_accuracy: 0.5327\n",
      "Epoch 4/100\n",
      "150/150 [==============================] - 0s 1ms/step - loss: 0.8475 - accuracy: 0.5335 - val_loss: 0.7224 - val_accuracy: 0.5938\n",
      "Epoch 5/100\n",
      "150/150 [==============================] - 0s 1ms/step - loss: 0.6816 - accuracy: 0.8432 - val_loss: 0.4866 - val_accuracy: 0.8685\n",
      "Epoch 6/100\n",
      "150/150 [==============================] - 0s 1ms/step - loss: 0.4487 - accuracy: 0.8682 - val_loss: 0.3575 - val_accuracy: 0.8685\n",
      "Epoch 7/100\n",
      "150/150 [==============================] - 0s 1ms/step - loss: 0.3295 - accuracy: 0.8759 - val_loss: 0.3143 - val_accuracy: 0.8685\n",
      "Epoch 8/100\n",
      "150/150 [==============================] - 0s 1ms/step - loss: 0.3123 - accuracy: 0.8642 - val_loss: 0.2949 - val_accuracy: 0.8685\n",
      "Epoch 9/100\n",
      "150/150 [==============================] - 0s 1ms/step - loss: 0.2945 - accuracy: 0.8708 - val_loss: 0.2866 - val_accuracy: 0.8685\n",
      "Epoch 10/100\n",
      "150/150 [==============================] - 0s 1ms/step - loss: 0.2905 - accuracy: 0.8643 - val_loss: 0.2824 - val_accuracy: 0.8685\n",
      "Epoch 11/100\n",
      "150/150 [==============================] - 0s 1ms/step - loss: 0.2825 - accuracy: 0.8665 - val_loss: 0.2790 - val_accuracy: 0.8685\n",
      "Epoch 12/100\n",
      "150/150 [==============================] - 0s 2ms/step - loss: 0.2803 - accuracy: 0.8660 - val_loss: 0.2766 - val_accuracy: 0.8685\n",
      "Epoch 13/100\n",
      "150/150 [==============================] - 0s 1ms/step - loss: 0.2742 - accuracy: 0.8702 - val_loss: 0.2750 - val_accuracy: 0.8685\n",
      "Epoch 14/100\n",
      "150/150 [==============================] - 0s 2ms/step - loss: 0.2736 - accuracy: 0.8695 - val_loss: 0.2717 - val_accuracy: 0.8685\n",
      "Epoch 15/100\n",
      "150/150 [==============================] - 0s 1ms/step - loss: 0.2751 - accuracy: 0.8664 - val_loss: 0.2706 - val_accuracy: 0.8685\n",
      "Epoch 16/100\n",
      "150/150 [==============================] - 0s 1ms/step - loss: 0.2631 - accuracy: 0.8743 - val_loss: 0.2691 - val_accuracy: 0.8685\n",
      "Epoch 17/100\n",
      "150/150 [==============================] - 0s 1ms/step - loss: 0.2639 - accuracy: 0.8733 - val_loss: 0.2672 - val_accuracy: 0.8685\n",
      "Epoch 18/100\n",
      "150/150 [==============================] - 0s 2ms/step - loss: 0.2632 - accuracy: 0.8729 - val_loss: 0.2717 - val_accuracy: 0.8685\n",
      "Epoch 19/100\n",
      "150/150 [==============================] - 0s 2ms/step - loss: 0.2662 - accuracy: 0.8697 - val_loss: 0.2647 - val_accuracy: 0.8685\n",
      "Epoch 20/100\n",
      "150/150 [==============================] - 0s 1ms/step - loss: 0.2576 - accuracy: 0.8736 - val_loss: 0.2658 - val_accuracy: 0.8685\n",
      "Epoch 21/100\n",
      "150/150 [==============================] - 0s 1ms/step - loss: 0.2607 - accuracy: 0.8652 - val_loss: 0.2621 - val_accuracy: 0.8685\n",
      "Epoch 22/100\n",
      "150/150 [==============================] - 0s 1ms/step - loss: 0.2549 - accuracy: 0.8736 - val_loss: 0.2650 - val_accuracy: 0.8685\n",
      "Epoch 23/100\n",
      "150/150 [==============================] - 0s 2ms/step - loss: 0.2711 - accuracy: 0.8603 - val_loss: 0.2594 - val_accuracy: 0.8685\n",
      "Epoch 24/100\n",
      "150/150 [==============================] - 0s 2ms/step - loss: 0.2534 - accuracy: 0.8738 - val_loss: 0.2588 - val_accuracy: 0.8685\n",
      "Epoch 25/100\n",
      "150/150 [==============================] - 0s 2ms/step - loss: 0.2645 - accuracy: 0.8632 - val_loss: 0.2549 - val_accuracy: 0.8685\n",
      "Epoch 26/100\n",
      "150/150 [==============================] - 0s 2ms/step - loss: 0.2566 - accuracy: 0.8670 - val_loss: 0.2517 - val_accuracy: 0.8685\n",
      "Epoch 27/100\n",
      "150/150 [==============================] - 1s 4ms/step - loss: 0.2519 - accuracy: 0.8694 - val_loss: 0.2508 - val_accuracy: 0.8685\n",
      "Epoch 28/100\n",
      "150/150 [==============================] - 0s 2ms/step - loss: 0.2556 - accuracy: 0.8682 - val_loss: 0.2503 - val_accuracy: 0.8693\n",
      "Epoch 29/100\n",
      "150/150 [==============================] - 0s 2ms/step - loss: 0.2450 - accuracy: 0.8781 - val_loss: 0.2453 - val_accuracy: 0.8794\n",
      "Epoch 30/100\n",
      "150/150 [==============================] - 0s 3ms/step - loss: 0.2582 - accuracy: 0.8737 - val_loss: 0.2471 - val_accuracy: 0.9003\n",
      "Epoch 31/100\n",
      "150/150 [==============================] - 0s 1ms/step - loss: 0.2406 - accuracy: 0.8874 - val_loss: 0.2378 - val_accuracy: 0.8844\n",
      "Epoch 32/100\n",
      "150/150 [==============================] - 0s 1ms/step - loss: 0.2306 - accuracy: 0.8944 - val_loss: 0.2437 - val_accuracy: 0.9079\n",
      "Epoch 33/100\n",
      "150/150 [==============================] - 0s 1ms/step - loss: 0.2337 - accuracy: 0.8964 - val_loss: 0.2285 - val_accuracy: 0.8970\n",
      "Epoch 34/100\n",
      "150/150 [==============================] - 0s 1ms/step - loss: 0.2243 - accuracy: 0.8987 - val_loss: 0.2248 - val_accuracy: 0.9003\n",
      "Epoch 35/100\n",
      "150/150 [==============================] - 0s 1ms/step - loss: 0.2233 - accuracy: 0.9014 - val_loss: 0.2193 - val_accuracy: 0.9020\n",
      "Epoch 36/100\n",
      "150/150 [==============================] - 0s 1ms/step - loss: 0.2200 - accuracy: 0.9048 - val_loss: 0.2178 - val_accuracy: 0.8970\n",
      "Epoch 37/100\n",
      "150/150 [==============================] - 0s 2ms/step - loss: 0.2235 - accuracy: 0.8992 - val_loss: 0.2158 - val_accuracy: 0.9213\n",
      "Epoch 38/100\n",
      "150/150 [==============================] - 0s 2ms/step - loss: 0.2093 - accuracy: 0.9072 - val_loss: 0.2147 - val_accuracy: 0.8961\n",
      "Epoch 39/100\n",
      "150/150 [==============================] - 0s 2ms/step - loss: 0.2003 - accuracy: 0.9141 - val_loss: 0.1977 - val_accuracy: 0.9037\n",
      "Epoch 40/100\n",
      "150/150 [==============================] - 0s 2ms/step - loss: 0.1935 - accuracy: 0.9139 - val_loss: 0.1918 - val_accuracy: 0.9070\n",
      "Epoch 41/100\n",
      "150/150 [==============================] - 0s 2ms/step - loss: 0.1918 - accuracy: 0.9135 - val_loss: 0.2108 - val_accuracy: 0.9631\n",
      "Epoch 42/100\n",
      "150/150 [==============================] - 0s 2ms/step - loss: 0.1716 - accuracy: 0.9316 - val_loss: 0.1661 - val_accuracy: 0.9305\n",
      "Epoch 43/100\n",
      "150/150 [==============================] - 0s 2ms/step - loss: 0.1616 - accuracy: 0.9364 - val_loss: 0.1785 - val_accuracy: 0.9648\n",
      "Epoch 44/100\n",
      "150/150 [==============================] - 0s 2ms/step - loss: 0.1598 - accuracy: 0.9446 - val_loss: 0.1573 - val_accuracy: 0.9204\n",
      "Epoch 45/100\n",
      "150/150 [==============================] - 0s 2ms/step - loss: 0.1536 - accuracy: 0.9452 - val_loss: 0.1691 - val_accuracy: 0.9121\n",
      "Epoch 46/100\n",
      "150/150 [==============================] - 0s 2ms/step - loss: 0.1395 - accuracy: 0.9521 - val_loss: 0.1415 - val_accuracy: 0.9682\n",
      "Epoch 47/100\n",
      "150/150 [==============================] - 0s 2ms/step - loss: 0.1316 - accuracy: 0.9552 - val_loss: 0.1283 - val_accuracy: 0.9497\n",
      "Epoch 48/100\n",
      "150/150 [==============================] - 0s 2ms/step - loss: 0.1126 - accuracy: 0.9631 - val_loss: 0.1360 - val_accuracy: 0.9757\n",
      "Epoch 49/100\n",
      "150/150 [==============================] - 0s 2ms/step - loss: 0.1089 - accuracy: 0.9698 - val_loss: 0.1130 - val_accuracy: 0.9548\n",
      "Epoch 50/100\n",
      "150/150 [==============================] - 0s 2ms/step - loss: 0.1084 - accuracy: 0.9658 - val_loss: 0.1264 - val_accuracy: 0.9456\n",
      "Epoch 51/100\n",
      "150/150 [==============================] - 0s 2ms/step - loss: 0.1044 - accuracy: 0.9642 - val_loss: 0.1155 - val_accuracy: 0.9506\n",
      "Epoch 52/100\n",
      "150/150 [==============================] - 0s 1ms/step - loss: 0.0997 - accuracy: 0.9678 - val_loss: 0.0970 - val_accuracy: 0.9765\n",
      "Epoch 53/100\n",
      "150/150 [==============================] - 0s 2ms/step - loss: 0.0978 - accuracy: 0.9699 - val_loss: 0.1156 - val_accuracy: 0.9757\n",
      "Epoch 54/100\n",
      "150/150 [==============================] - 0s 2ms/step - loss: 0.0874 - accuracy: 0.9736 - val_loss: 0.0979 - val_accuracy: 0.9598\n",
      "Epoch 55/100\n",
      "150/150 [==============================] - 0s 2ms/step - loss: 0.0732 - accuracy: 0.9792 - val_loss: 0.0849 - val_accuracy: 0.9724\n",
      "Epoch 56/100\n",
      "150/150 [==============================] - 0s 2ms/step - loss: 0.0806 - accuracy: 0.9756 - val_loss: 0.0827 - val_accuracy: 0.9724\n",
      "Epoch 57/100\n",
      "150/150 [==============================] - 0s 2ms/step - loss: 0.0776 - accuracy: 0.9757 - val_loss: 0.0984 - val_accuracy: 0.9765\n",
      "Epoch 58/100\n",
      "150/150 [==============================] - 0s 2ms/step - loss: 0.0705 - accuracy: 0.9807 - val_loss: 0.3981 - val_accuracy: 0.7404\n",
      "Epoch 59/100\n",
      "150/150 [==============================] - 0s 2ms/step - loss: 0.0762 - accuracy: 0.9748 - val_loss: 0.0746 - val_accuracy: 0.9782\n",
      "Epoch 60/100\n",
      "150/150 [==============================] - 0s 2ms/step - loss: 0.0673 - accuracy: 0.9788 - val_loss: 0.0762 - val_accuracy: 0.9765\n",
      "Epoch 61/100\n",
      "150/150 [==============================] - 0s 2ms/step - loss: 0.0649 - accuracy: 0.9812 - val_loss: 0.0764 - val_accuracy: 0.9765\n",
      "Epoch 62/100\n",
      "150/150 [==============================] - 0s 2ms/step - loss: 0.0676 - accuracy: 0.9800 - val_loss: 0.0809 - val_accuracy: 0.9707\n",
      "Epoch 63/100\n",
      "150/150 [==============================] - 0s 2ms/step - loss: 0.0560 - accuracy: 0.9846 - val_loss: 0.0670 - val_accuracy: 0.9799\n",
      "Epoch 64/100\n",
      "150/150 [==============================] - 0s 2ms/step - loss: 0.0587 - accuracy: 0.9832 - val_loss: 0.0656 - val_accuracy: 0.9782\n",
      "Epoch 65/100\n",
      "150/150 [==============================] - 0s 2ms/step - loss: 0.0597 - accuracy: 0.9796 - val_loss: 0.0679 - val_accuracy: 0.9791\n",
      "Epoch 66/100\n",
      "150/150 [==============================] - 0s 1ms/step - loss: 0.0574 - accuracy: 0.9836 - val_loss: 0.0681 - val_accuracy: 0.9782\n",
      "Epoch 67/100\n",
      "150/150 [==============================] - 0s 2ms/step - loss: 0.0607 - accuracy: 0.9810 - val_loss: 0.0743 - val_accuracy: 0.9757\n",
      "Epoch 68/100\n",
      "150/150 [==============================] - 0s 1ms/step - loss: 0.0638 - accuracy: 0.9803 - val_loss: 0.0590 - val_accuracy: 0.9816\n",
      "Epoch 69/100\n",
      "150/150 [==============================] - 0s 2ms/step - loss: 0.0533 - accuracy: 0.9863 - val_loss: 0.0857 - val_accuracy: 0.9698\n",
      "Epoch 70/100\n",
      "150/150 [==============================] - 0s 2ms/step - loss: 0.0529 - accuracy: 0.9838 - val_loss: 0.0613 - val_accuracy: 0.9807\n",
      "Epoch 71/100\n",
      "150/150 [==============================] - 0s 2ms/step - loss: 0.0471 - accuracy: 0.9894 - val_loss: 0.0782 - val_accuracy: 0.9732\n",
      "Epoch 72/100\n",
      "150/150 [==============================] - 0s 2ms/step - loss: 0.0479 - accuracy: 0.9846 - val_loss: 0.0544 - val_accuracy: 0.9816\n",
      "Epoch 73/100\n",
      "150/150 [==============================] - 0s 2ms/step - loss: 0.0486 - accuracy: 0.9843 - val_loss: 0.0617 - val_accuracy: 0.9799\n",
      "Epoch 74/100\n",
      "150/150 [==============================] - 0s 2ms/step - loss: 0.0516 - accuracy: 0.9829 - val_loss: 0.0592 - val_accuracy: 0.9824\n",
      "Epoch 75/100\n",
      "150/150 [==============================] - 0s 2ms/step - loss: 0.0517 - accuracy: 0.9819 - val_loss: 0.0528 - val_accuracy: 0.9858\n",
      "Epoch 76/100\n",
      "150/150 [==============================] - 0s 2ms/step - loss: 0.0446 - accuracy: 0.9857 - val_loss: 0.0548 - val_accuracy: 0.9858\n",
      "Epoch 77/100\n",
      "150/150 [==============================] - 0s 2ms/step - loss: 0.0437 - accuracy: 0.9875 - val_loss: 0.0671 - val_accuracy: 0.9774\n",
      "Epoch 78/100\n",
      "150/150 [==============================] - 0s 1ms/step - loss: 0.0413 - accuracy: 0.9861 - val_loss: 0.0521 - val_accuracy: 0.9858\n",
      "Epoch 79/100\n",
      "150/150 [==============================] - 0s 2ms/step - loss: 0.0410 - accuracy: 0.9883 - val_loss: 0.0580 - val_accuracy: 0.9824\n",
      "Epoch 80/100\n",
      "150/150 [==============================] - 0s 2ms/step - loss: 0.0413 - accuracy: 0.9879 - val_loss: 0.0489 - val_accuracy: 0.9858\n",
      "Epoch 81/100\n",
      "150/150 [==============================] - 0s 2ms/step - loss: 0.0430 - accuracy: 0.9882 - val_loss: 0.0455 - val_accuracy: 0.9849\n",
      "Epoch 82/100\n",
      "150/150 [==============================] - 0s 2ms/step - loss: 0.0431 - accuracy: 0.9843 - val_loss: 0.0509 - val_accuracy: 0.9866\n",
      "Epoch 83/100\n",
      "150/150 [==============================] - 0s 2ms/step - loss: 0.0385 - accuracy: 0.9877 - val_loss: 0.0493 - val_accuracy: 0.9866\n",
      "Epoch 84/100\n",
      "150/150 [==============================] - 0s 2ms/step - loss: 0.0383 - accuracy: 0.9874 - val_loss: 0.0486 - val_accuracy: 0.9866\n",
      "Epoch 85/100\n",
      "150/150 [==============================] - 0s 2ms/step - loss: 0.0337 - accuracy: 0.9892 - val_loss: 0.0561 - val_accuracy: 0.9832\n",
      "Epoch 86/100\n",
      "150/150 [==============================] - 0s 1ms/step - loss: 0.0390 - accuracy: 0.9883 - val_loss: 0.0415 - val_accuracy: 0.9858\n",
      "Epoch 87/100\n",
      "150/150 [==============================] - 0s 2ms/step - loss: 0.0380 - accuracy: 0.9895 - val_loss: 0.0513 - val_accuracy: 0.9858\n",
      "Epoch 88/100\n",
      "150/150 [==============================] - 0s 1ms/step - loss: 0.0266 - accuracy: 0.9920 - val_loss: 0.0482 - val_accuracy: 0.9866\n",
      "Epoch 89/100\n",
      "150/150 [==============================] - 0s 2ms/step - loss: 0.0341 - accuracy: 0.9888 - val_loss: 0.0388 - val_accuracy: 0.9866\n",
      "Epoch 90/100\n",
      "150/150 [==============================] - 0s 2ms/step - loss: 0.0333 - accuracy: 0.9900 - val_loss: 0.0436 - val_accuracy: 0.9866\n",
      "Epoch 91/100\n",
      "150/150 [==============================] - 0s 2ms/step - loss: 0.0352 - accuracy: 0.9903 - val_loss: 0.0533 - val_accuracy: 0.9841\n",
      "Epoch 92/100\n",
      "150/150 [==============================] - 0s 1ms/step - loss: 0.0309 - accuracy: 0.9905 - val_loss: 0.0374 - val_accuracy: 0.9874\n",
      "Epoch 93/100\n",
      "150/150 [==============================] - 0s 2ms/step - loss: 0.0337 - accuracy: 0.9894 - val_loss: 0.0462 - val_accuracy: 0.9866\n",
      "Epoch 94/100\n",
      "150/150 [==============================] - 0s 2ms/step - loss: 0.0308 - accuracy: 0.9905 - val_loss: 0.0363 - val_accuracy: 0.9883\n",
      "Epoch 95/100\n",
      "150/150 [==============================] - 0s 2ms/step - loss: 0.0281 - accuracy: 0.9898 - val_loss: 0.0407 - val_accuracy: 0.9866\n",
      "Epoch 96/100\n",
      "150/150 [==============================] - 0s 2ms/step - loss: 0.0324 - accuracy: 0.9905 - val_loss: 0.0361 - val_accuracy: 0.9883\n",
      "Epoch 97/100\n",
      "150/150 [==============================] - 1s 4ms/step - loss: 0.0296 - accuracy: 0.9905 - val_loss: 0.0932 - val_accuracy: 0.9698\n",
      "Epoch 98/100\n",
      "150/150 [==============================] - 0s 2ms/step - loss: 0.0366 - accuracy: 0.9904 - val_loss: 0.0340 - val_accuracy: 0.9883\n",
      "Epoch 99/100\n",
      "150/150 [==============================] - 0s 2ms/step - loss: 0.0339 - accuracy: 0.9911 - val_loss: 0.0333 - val_accuracy: 0.9891\n",
      "Epoch 100/100\n",
      "150/150 [==============================] - 0s 2ms/step - loss: 0.0293 - accuracy: 0.9909 - val_loss: 0.0324 - val_accuracy: 0.9908\n"
     ]
    }
   ],
   "source": [
    "history = model.fit(x_train,y_train, epochs=100, validation_data = (x_val, y_val))"
   ]
  },
  {
   "cell_type": "code",
   "execution_count": 18,
   "id": "c58cad88-2b03-496e-b001-1dc342b7b866",
   "metadata": {},
   "outputs": [
    {
     "data": {
      "text/plain": [
       "Text(0, 0.5, 'loss')"
      ]
     },
     "execution_count": 18,
     "metadata": {},
     "output_type": "execute_result"
    },
    {
     "data": {
      "image/png": "[encoded data removed]",
      "text/plain": [
       "<Figure size 432x288 with 1 Axes>"
      ]
     },
     "metadata": {
      "needs_background": "light"
     },
     "output_type": "display_data"
    }
   ],
   "source": [
    "plt.plot(history.history['loss'])\n",
    "plt.plot(history.history['val_loss'])\n",
    "\n",
    "plt.xlabel('epoch')\n",
    "plt.ylabel('loss')"
   ]
  },
  {
   "cell_type": "code",
   "execution_count": 19,
   "id": "445b5240-6cd6-4df8-97d5-11822f40de96",
   "metadata": {},
   "outputs": [
    {
     "data": {
      "text/plain": [
       "Text(0, 0.5, 'accuracy')"
      ]
     },
     "execution_count": 19,
     "metadata": {},
     "output_type": "execute_result"
    },
    {
     "data": {
      "image/png": "[encoded data removed]",
      "text/plain": [
       "<Figure size 432x288 with 1 Axes>"
      ]
     },
     "metadata": {
      "needs_background": "light"
     },
     "output_type": "display_data"
    }
   ],
   "source": [
    "plt.plot(history.history['accuracy'])\n",
    "plt.plot(history.history['val_accuracy'])\n",
    "plt.xlabel('epoch')\n",
    "plt.ylabel('accuracy')"
   ]
  },
  {
   "cell_type": "code",
   "execution_count": 20,
   "id": "d2e58c9f-02b8-4846-a64d-ce586f8d6e5c",
   "metadata": {},
   "outputs": [
    {
     "name": "stdout",
     "output_type": "stream",
     "text": [
      "[[9.9980015e-01 1.9990766e-04 3.8848361e-15]\n",
      " [9.9980980e-01 1.9024838e-04 5.1410301e-15]\n",
      " [4.9526518e-04 9.9416453e-01 5.3402148e-03]\n",
      " ...\n",
      " [9.9921167e-01 7.8828313e-04 1.7751199e-13]\n",
      " [9.9983096e-01 1.6905222e-04 3.2335695e-15]\n",
      " [9.9976712e-01 2.3289147e-04 8.6330470e-15]]\n"
     ]
    }
   ],
   "source": [
    "pred = model.predict(x_test)\n",
    "print(pred)"
   ]
  },
  {
   "cell_type": "code",
   "execution_count": 21,
   "id": "628d9525-9e3b-4a01-9573-eb235ebe58ce",
   "metadata": {},
   "outputs": [
    {
     "data": {
      "text/plain": [
       "(1492, 3)"
      ]
     },
     "execution_count": 21,
     "metadata": {},
     "output_type": "execute_result"
    }
   ],
   "source": [
    "pred.shape"
   ]
  },
  {
   "cell_type": "code",
   "execution_count": 22,
   "id": "2eb88340-1b1b-4184-abec-d1abf0fd0298",
   "metadata": {},
   "outputs": [
    {
     "name": "stdout",
     "output_type": "stream",
     "text": [
      "[0 0 1 ... 0 0 0]\n"
     ]
    }
   ],
   "source": [
    "pred_label = np.argmax(pred, axis=1)\n",
    "print(pred_label)"
   ]
  },
  {
   "cell_type": "code",
   "execution_count": 23,
   "id": "9112b8c1-0634-4b5d-ac7c-2603ed6c6856",
   "metadata": {},
   "outputs": [
    {
     "data": {
      "text/plain": [
       "(1492,)"
      ]
     },
     "execution_count": 23,
     "metadata": {},
     "output_type": "execute_result"
    }
   ],
   "source": [
    "pred_label.shape"
   ]
  },
  {
   "cell_type": "code",
   "execution_count": 24,
   "id": "fcac0b8b-f4fd-43dc-83a5-83c65f5cdc40",
   "metadata": {},
   "outputs": [
    {
     "data": {
      "text/plain": [
       "array([0, 0, 1, 2, 1, 1, 1, 0, 0])"
      ]
     },
     "execution_count": 24,
     "metadata": {},
     "output_type": "execute_result"
    }
   ],
   "source": [
    "pred_label[0:9]"
   ]
  },
  {
   "cell_type": "code",
   "execution_count": 25,
   "id": "0a1a7b1b-d51d-445a-80ac-28a693f0ff83",
   "metadata": {},
   "outputs": [
    {
     "data": {
      "text/plain": [
       "array([[1., 0., 0.],\n",
       "       [1., 0., 0.],\n",
       "       [0., 1., 0.],\n",
       "       [0., 0., 1.],\n",
       "       [0., 1., 0.],\n",
       "       [0., 1., 0.],\n",
       "       [0., 1., 0.],\n",
       "       [1., 0., 0.],\n",
       "       [1., 0., 0.]])"
      ]
     },
     "execution_count": 25,
     "metadata": {},
     "output_type": "execute_result"
    }
   ],
   "source": [
    "y_test[0:9]"
   ]
  },
  {
   "cell_type": "code",
   "execution_count": 26,
   "id": "696c730d-e059-43a6-8a83-7306b1c6390a",
   "metadata": {},
   "outputs": [
    {
     "name": "stdout",
     "output_type": "stream",
     "text": [
      "150/150 [==============================] - 0s 933us/step - loss: 0.0265 - accuracy: 0.9925\n",
      "[0.0265310388058424, 0.9924575686454773]\n"
     ]
    }
   ],
   "source": [
    "print(model.evaluate(x_train,y_train))"
   ]
  },
  {
   "cell_type": "code",
   "execution_count": 28,
   "id": "f7fdf2b8-e622-4f33-a993-5a3197a63e16",
   "metadata": {},
   "outputs": [
    {
     "data": {
      "text/plain": [
       "'\\n테스트값이 랜덤으로 들어갔을때\\n어떤 동작인지 라벨로 출력됬으면 좋겠다.\\n물론 프레임 단위로 끊기겠지만\\n리스트 빈도수\\n코드 재정의 하고 // 라벨링 작업을 코드로 진행하기.(파일명에서 _전까지만 라벨링 해주기)\\n\\n'"
      ]
     },
     "execution_count": 28,
     "metadata": {},
     "output_type": "execute_result"
    }
   ],
   "source": [
    "'''\n",
    "테스트값이 랜덤으로 들어갔을때\n",
    "어떤 동작인지 라벨로 출력됬으면 좋겠다.\n",
    "물론 프레임 단위로 끊기겠지만\n",
    "리스트 빈도수\n",
    "코드 재정의 하고 // 라벨링 작업을 코드로 진행하기.(파일명에서 _전까지만 라벨링 해주기)\n",
    "\n",
    "''' \n"
   ]
  },
  {
   "cell_type": "code",
   "execution_count": null,
   "id": "325a0bd9-02aa-405c-b3d7-ee0579c37347",
   "metadata": {},
   "outputs": [],
   "source": []
  }
 ],
 "metadata": {
  "kernelspec": {
   "display_name": "Python 3",
   "language": "python",
   "name": "python3"
  },
  "language_info": {
   "codemirror_mode": {
    "name": "ipython",
    "version": 3
   },
   "file_extension": ".py",
   "mimetype": "text/x-python",
   "name": "python",
   "nbconvert_exporter": "python",
   "pygments_lexer": "ipython3",
   "version": "3.8.8"
  }
 },
 "nbformat": 4,
 "nbformat_minor": 5
}
