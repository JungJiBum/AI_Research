{
 "cells": [
  {
   "cell_type": "code",
   "execution_count": 1,
   "id": "0ee31c29-67c7-42b1-9810-72293c7ed9f0",
   "metadata": {},
   "outputs": [],
   "source": [
    "import pandas as pd\n",
    "import numpy as np\n",
    "import matplotlib.pyplot as plt\n",
    "import os\n",
    "import sys\n",
    "import tensorflow as tf\n",
    "import json\n",
    "import csv\n",
    "import seaborn as sns\n",
    "\n",
    "from keras.callbacks import ModelCheckpoint, EarlyStopping\n",
    "from tensorflow import keras\n",
    "from sklearn.model_selection import train_test_split\n",
    "from sklearn.preprocessing import OneHotEncoder\n",
    "from sklearn.preprocessing import MinMaxScaler\n",
    "from sklearn.preprocessing import LabelEncoder\n",
    "\n",
    "from keras.utils import np_utils\n",
    "from tensorflow.keras import Sequential\n",
    "from tensorflow.keras.layers import Dense, Activation"
   ]
  },
  {
   "cell_type": "code",
   "execution_count": 2,
   "id": "fcd9aa66-88e0-4711-946f-ee0d7e8ebe3f",
   "metadata": {},
   "outputs": [],
   "source": [
    "os.environ[\"CUAD_VISIBLE_DEVICES\"]='0'\n",
    "os.environ[\"CUAD_VISIBLE_DEVICES\"]='1'"
   ]
  },
  {
   "cell_type": "code",
   "execution_count": 3,
   "id": "7a109629-7d12-4f7a-af76-9fb727404800",
   "metadata": {},
   "outputs": [],
   "source": [
    "MMS = MinMaxScaler() # MinMaxScaler\n",
    "le = LabelEncoder() # LabelEncoder\n",
    "enc = OneHotEncoder() # OneHotEncoder"
   ]
  },
  {
   "cell_type": "markdown",
   "id": "4e57ea2a-bf2b-4c19-94fd-8d554b0311b4",
   "metadata": {},
   "source": [
    "# 데이터 호출"
   ]
  },
  {
   "cell_type": "code",
   "execution_count": 4,
   "id": "1370b49a-d4c3-42a7-a8c8-6eb344bb5555",
   "metadata": {},
   "outputs": [],
   "source": [
    "axis = pd.read_csv('/home/master/Jibum/Motion_Show/HAR/Final/training_data.csv')"
   ]
  },
  {
   "cell_type": "markdown",
   "id": "819fcd71-4740-49ff-ba10-8131fa3a46c2",
   "metadata": {},
   "source": [
    "# 독립변수, 종속변수 선언"
   ]
  },
  {
   "cell_type": "code",
   "execution_count": 5,
   "id": "29427554-854f-4096-a8ad-1c535226353e",
   "metadata": {},
   "outputs": [],
   "source": [
    "feature = axis.iloc[:,:-1]\n",
    "label = axis['activity']"
   ]
  },
  {
   "cell_type": "markdown",
   "id": "2f3eadce-677f-48f9-a0fe-d87ec194a256",
   "metadata": {},
   "source": [
    "# 라벨인코딩"
   ]
  },
  {
   "cell_type": "code",
   "execution_count": 6,
   "id": "38f3ae0a-9670-4a0a-93bd-b97f2fbf08cf",
   "metadata": {},
   "outputs": [
    {
     "name": "stdout",
     "output_type": "stream",
     "text": [
      "[0 0 0 ... 1 1 1] <class 'numpy.ndarray'> (44946,) ['sit' 'stand' 'walking']\n"
     ]
    }
   ],
   "source": [
    "le.fit(label)\n",
    "label = le.transform(label)\n",
    "print(label, type(label), label.shape, le.classes_)"
   ]
  },
  {
   "cell_type": "markdown",
   "id": "42a67cbe-9d47-496d-98d4-59c83dbfb6c6",
   "metadata": {},
   "source": [
    "# SMOTE 알고리즘"
   ]
  },
  {
   "cell_type": "code",
   "execution_count": 7,
   "id": "efd7b44a-1a9e-4c30-8191-5290169f4d82",
   "metadata": {},
   "outputs": [
    {
     "name": "stdout",
     "output_type": "stream",
     "text": [
      "0.8.1\n"
     ]
    }
   ],
   "source": [
    "import imblearn\n",
    "from collections import Counter\n",
    "print(imblearn.__version__)\n",
    "\n",
    "def count_and_plot(label):\n",
    "    counter = Counter(label)\n",
    "    \n",
    "    for i,j in counter.items():\n",
    "        print(\"Class = %d, n = %d (%.3f%%)\" % (i, j, j/len(label)*100))\n",
    "    \n",
    "    plt.bar(counter.keys(), counter.values())\n",
    "    plt.show()"
   ]
  },
  {
   "cell_type": "code",
   "execution_count": 8,
   "id": "a0e367d4-64a8-4707-8375-290814913cbd",
   "metadata": {},
   "outputs": [
    {
     "name": "stdout",
     "output_type": "stream",
     "text": [
      "Class = 0, n = 15328 (34.103%)\n",
      "Class = 2, n = 12429 (27.653%)\n",
      "Class = 1, n = 17189 (38.244%)\n"
     ]
    },
    {
     "data": {
      "image/png": "[encoded data removed]",
      "text/plain": [
       "<Figure size 432x288 with 1 Axes>"
      ]
     },
     "metadata": {
      "needs_background": "light"
     },
     "output_type": "display_data"
    }
   ],
   "source": [
    "count_and_plot(label)"
   ]
  },
  {
   "cell_type": "code",
   "execution_count": 9,
   "id": "bff33c83-a37b-4589-ae6d-edd5eedc8cf6",
   "metadata": {},
   "outputs": [
    {
     "name": "stdout",
     "output_type": "stream",
     "text": [
      "Class = 0, n = 17189 (33.333%)\n",
      "Class = 2, n = 17189 (33.333%)\n",
      "Class = 1, n = 17189 (33.333%)\n"
     ]
    },
    {
     "data": {
      "image/png": "[encoded data removed]",
      "text/plain": [
       "<Figure size 432x288 with 1 Axes>"
      ]
     },
     "metadata": {
      "needs_background": "light"
     },
     "output_type": "display_data"
    }
   ],
   "source": [
    "from imblearn.over_sampling import SMOTE\n",
    "feature_resampled, label_resampled = SMOTE(random_state=0).fit_resample(feature,label)\n",
    "count_and_plot(label_resampled)"
   ]
  },
  {
   "cell_type": "code",
   "execution_count": 10,
   "id": "59c4c965-4cdc-4635-b977-2071fdd29ef7",
   "metadata": {},
   "outputs": [],
   "source": [
    "label_resampled = np_utils.to_categorical(label_resampled)"
   ]
  },
  {
   "cell_type": "markdown",
   "id": "6119d95f-7330-473a-8270-d58cbcd66fc2",
   "metadata": {},
   "source": [
    "# 스케일링 적용"
   ]
  },
  {
   "cell_type": "code",
   "execution_count": 11,
   "id": "c8dad1a4-93ec-432a-9140-697187a2ba9f",
   "metadata": {},
   "outputs": [],
   "source": [
    "from sklearn.preprocessing import StandardScaler\n",
    "from sklearn.preprocessing import RobustScaler\n",
    "from sklearn.preprocessing import Normalizer\n",
    "\n",
    "nor = Normalizer() \n",
    "rob = RobustScaler() \n",
    "sc = StandardScaler() \n",
    "\n",
    "\n",
    "# feature_resampled = nor.fit_transform(feature_resampled)\n",
    "feature_resampled = rob.fit_transform(feature_resampled)\n",
    "# feature_resampled = sc.fit_transform(feature_resampled)\n"
   ]
  },
  {
   "cell_type": "code",
   "execution_count": 12,
   "id": "afb4df9a-1521-4e9b-b488-65cafb2c954d",
   "metadata": {},
   "outputs": [
    {
     "name": "stdout",
     "output_type": "stream",
     "text": [
      "독립변수 : (51567, 27)\n",
      "종속변수 : (51567, 3)\n"
     ]
    }
   ],
   "source": [
    "print(\"독립변수 : {}\".format(feature_resampled.shape))\n",
    "print(\"종속변수 : {}\".format(label_resampled.shape))"
   ]
  },
  {
   "cell_type": "markdown",
   "id": "48c25823-b3c8-4dd4-a3b6-0e40a8606434",
   "metadata": {},
   "source": [
    "# 데이터 분리"
   ]
  },
  {
   "cell_type": "code",
   "execution_count": 13,
   "id": "de03b49e-2b5e-42b9-85cf-dcb9fe3eed0e",
   "metadata": {},
   "outputs": [],
   "source": [
    "def split(data,target):\n",
    "    x_train_all, x_test, y_train_all, y_test = train_test_split(data, target, stratify=target, test_size=0.2, random_state=42)\n",
    "    x_train, x_val, y_train, y_val = train_test_split(x_train_all, y_train_all, stratify=y_train_all, test_size=0.2, random_state=42)\n",
    "    return x_train_all, x_train, x_val, x_test, y_train_all, y_train, y_val, y_test\n",
    "    "
   ]
  },
  {
   "cell_type": "code",
   "execution_count": 14,
   "id": "7326ccb0-0cb4-4cfa-b80f-f9e5b360e4c4",
   "metadata": {},
   "outputs": [
    {
     "name": "stdout",
     "output_type": "stream",
     "text": [
      "(41253, 27)\n",
      "(33002, 27)\n",
      "(8251, 27)\n",
      "(10314, 27)\n",
      "(41253, 3)\n",
      "(33002, 3)\n",
      "(8251, 3)\n",
      "(10314, 3)\n"
     ]
    }
   ],
   "source": [
    "x_train_all, x_train, x_val, x_test, y_train_all, y_train, y_val, y_test = split(feature_resampled,label_resampled)\n",
    "print(x_train_all.shape)\n",
    "print(x_train.shape)\n",
    "print(x_val.shape)\n",
    "print(x_test.shape)\n",
    "print(y_train_all.shape)\n",
    "print(y_train.shape)\n",
    "print(y_val.shape)\n",
    "print(y_test.shape)"
   ]
  },
  {
   "cell_type": "markdown",
   "id": "e90007b3-c6b2-44bc-806d-02878e9517ea",
   "metadata": {},
   "source": [
    "# 모델 설계"
   ]
  },
  {
   "cell_type": "code",
   "execution_count": 15,
   "id": "af3e127d-ccfc-4b42-9bd3-3da16500d553",
   "metadata": {},
   "outputs": [],
   "source": [
    "from tensorflow import keras\n",
    "\n",
    "def create_model():\n",
    "    model = Sequential([\n",
    "        keras.layers.Dense(units=100, activation='sigmoid', input_shape=(27,)),\n",
    "        keras.layers.Dense(units=50, activation='relu'),\n",
    "        keras.layers.Dense(units=25, activation='relu'),\n",
    "        keras.layers.Dense(units=3, activation='softmax') \n",
    "    ])\n",
    "#     opt = keras.optimizers.Adam(learning_rate=0.0001)\n",
    "    model.compile(optimizer='adam', loss='categorical_crossentropy', metrics=['accuracy'])\n",
    "    \n",
    "    return model\n",
    "\n",
    "early_stop = EarlyStopping(monitor='loss', patience=1, verbose=1)\n"
   ]
  },
  {
   "cell_type": "code",
   "execution_count": 16,
   "id": "c54698e5-8d39-458f-a71c-7a6e120a9ff9",
   "metadata": {},
   "outputs": [
    {
     "name": "stdout",
     "output_type": "stream",
     "text": [
      "Epoch 1/100\n",
      "1032/1032 [==============================] - 3s 2ms/step - loss: 0.1687 - accuracy: 0.9441 - val_loss: 0.0933 - val_accuracy: 0.9715\n",
      "Epoch 2/100\n",
      "1032/1032 [==============================] - 2s 2ms/step - loss: 0.0844 - accuracy: 0.9731 - val_loss: 0.0708 - val_accuracy: 0.9784\n",
      "Epoch 3/100\n",
      "1032/1032 [==============================] - 2s 2ms/step - loss: 0.0695 - accuracy: 0.9785 - val_loss: 0.0528 - val_accuracy: 0.9847\n",
      "Epoch 4/100\n",
      "1032/1032 [==============================] - 2s 2ms/step - loss: 0.0592 - accuracy: 0.9816 - val_loss: 0.0510 - val_accuracy: 0.9842\n",
      "Epoch 5/100\n",
      "1032/1032 [==============================] - 2s 2ms/step - loss: 0.0542 - accuracy: 0.9835 - val_loss: 0.0443 - val_accuracy: 0.9878\n",
      "Epoch 6/100\n",
      "1032/1032 [==============================] - 2s 2ms/step - loss: 0.0502 - accuracy: 0.9847 - val_loss: 0.0408 - val_accuracy: 0.9867\n",
      "Epoch 7/100\n",
      "1032/1032 [==============================] - 2s 2ms/step - loss: 0.0472 - accuracy: 0.9852 - val_loss: 0.0553 - val_accuracy: 0.9828\n",
      "Epoch 8/100\n",
      "1032/1032 [==============================] - 2s 2ms/step - loss: 0.0437 - accuracy: 0.9863 - val_loss: 0.0379 - val_accuracy: 0.9884\n",
      "Epoch 9/100\n",
      "1032/1032 [==============================] - 2s 2ms/step - loss: 0.0418 - accuracy: 0.9864 - val_loss: 0.0360 - val_accuracy: 0.9895\n",
      "Epoch 10/100\n",
      "1032/1032 [==============================] - 2s 2ms/step - loss: 0.0377 - accuracy: 0.9874 - val_loss: 0.0304 - val_accuracy: 0.9890\n",
      "Epoch 11/100\n",
      "1032/1032 [==============================] - 2s 2ms/step - loss: 0.0345 - accuracy: 0.9878 - val_loss: 0.0276 - val_accuracy: 0.9912\n",
      "Epoch 12/100\n",
      "1032/1032 [==============================] - 2s 2ms/step - loss: 0.0335 - accuracy: 0.9885 - val_loss: 0.0379 - val_accuracy: 0.9875\n",
      "Epoch 13/100\n",
      "1032/1032 [==============================] - 2s 2ms/step - loss: 0.0279 - accuracy: 0.9900 - val_loss: 0.0292 - val_accuracy: 0.9886\n",
      "Epoch 14/100\n",
      "1032/1032 [==============================] - 2s 2ms/step - loss: 0.0270 - accuracy: 0.9905 - val_loss: 0.0212 - val_accuracy: 0.9913\n",
      "Epoch 15/100\n",
      "1032/1032 [==============================] - 2s 2ms/step - loss: 0.0231 - accuracy: 0.9919 - val_loss: 0.0180 - val_accuracy: 0.9931\n",
      "Epoch 16/100\n",
      "1032/1032 [==============================] - 2s 2ms/step - loss: 0.0220 - accuracy: 0.9922 - val_loss: 0.0177 - val_accuracy: 0.9954\n",
      "Epoch 17/100\n",
      "1032/1032 [==============================] - 2s 2ms/step - loss: 0.0184 - accuracy: 0.9934 - val_loss: 0.0135 - val_accuracy: 0.9954\n",
      "Epoch 18/100\n",
      "1032/1032 [==============================] - 2s 2ms/step - loss: 0.0168 - accuracy: 0.9939 - val_loss: 0.0200 - val_accuracy: 0.9954\n",
      "Epoch 19/100\n",
      "1032/1032 [==============================] - 2s 2ms/step - loss: 0.0141 - accuracy: 0.9951 - val_loss: 0.0132 - val_accuracy: 0.9941\n",
      "Epoch 20/100\n",
      "1032/1032 [==============================] - 2s 2ms/step - loss: 0.0145 - accuracy: 0.9948 - val_loss: 0.0085 - val_accuracy: 0.9981\n",
      "Epoch 00020: early stopping\n"
     ]
    }
   ],
   "source": [
    "model = create_model()\n",
    "\n",
    "history = model.fit(x_train,y_train, epochs=100, validation_data = (x_val,y_val), callbacks=[early_stop])"
   ]
  },
  {
   "cell_type": "code",
   "execution_count": 17,
   "id": "7319bef5-8c40-4dfd-8952-6480c02f8a5b",
   "metadata": {},
   "outputs": [
    {
     "data": {
      "text/plain": [
       "Text(0, 0.5, 'Loss')"
      ]
     },
     "execution_count": 17,
     "metadata": {},
     "output_type": "execute_result"
    },
    {
     "data": {
      "image/png": "[encoded data removed]",
      "text/plain": [
       "<Figure size 432x288 with 1 Axes>"
      ]
     },
     "metadata": {
      "needs_background": "light"
     },
     "output_type": "display_data"
    }
   ],
   "source": [
    "plt.plot(history.history['loss'])\n",
    "plt.plot(history.history['val_loss'])\n",
    "plt.xlabel(\"epoch\",fontsize=20)\n",
    "plt.ylabel(\"Loss\",fontsize=20)\n",
    "# plt.savefig('loss.png')"
   ]
  },
  {
   "cell_type": "code",
   "execution_count": 18,
   "id": "8173d5bd-250e-45c9-b6c8-70c83a30ce23",
   "metadata": {},
   "outputs": [
    {
     "data": {
      "text/plain": [
       "Text(0, 0.5, 'Accuracy')"
      ]
     },
     "execution_count": 18,
     "metadata": {},
     "output_type": "execute_result"
    },
    {
     "data": {
      "image/png": "[encoded data removed]",
      "text/plain": [
       "<Figure size 432x288 with 1 Axes>"
      ]
     },
     "metadata": {
      "needs_background": "light"
     },
     "output_type": "display_data"
    }
   ],
   "source": [
    "plt.plot(history.history['accuracy'])\n",
    "plt.plot(history.history['val_accuracy'])\n",
    "plt.xlabel(\"epoch\",fontsize=20)\n",
    "plt.ylabel(\"Accuracy\",fontsize=20)\n",
    "# plt.savefig('acc.png')"
   ]
  },
  {
   "cell_type": "code",
   "execution_count": 19,
   "id": "06d80afc-3ac1-4ae5-8f94-62be90079aae",
   "metadata": {},
   "outputs": [
    {
     "name": "stdout",
     "output_type": "stream",
     "text": [
      "1032/1032 - 1s - loss: 0.0090 - accuracy: 0.9972\n",
      "train_model acc : 99.71516728401184\n",
      "train_model loss : 0.9037476032972336\n",
      "323/323 - 0s - loss: 0.0100 - accuracy: 0.9974\n",
      "test_model acc : 99.73822236061096%\n",
      "test_model loss : 1.0041349567472935\n"
     ]
    }
   ],
   "source": [
    "loss,acc = model.evaluate(x_train,y_train, verbose=2)\n",
    "print(\"train_model acc : {}\".format(100*acc))\n",
    "print(\"train_model loss : {}\".format(100*loss))\n",
    "\n",
    "loss, acc = model.evaluate(x_test,y_test, verbose=2)\n",
    "print(\"test_model acc : {}%\".format(100*acc))\n",
    "print(\"test_model loss : {}\".format(100*loss))\n"
   ]
  },
  {
   "cell_type": "code",
   "execution_count": 70,
   "id": "376df7dc-d088-426f-90dc-f521b6a488d3",
   "metadata": {},
   "outputs": [],
   "source": [
    "def create_model1():\n",
    "    model1 = Sequential([\n",
    "        keras.layers.Dense(units=100, activation='sigmoid', input_shape=(27,)),\n",
    "        keras.layers.Dense(units=50, activation='relu'),\n",
    "        keras.layers.Dense(units=25, activation='relu'),\n",
    "        keras.layers.Dense(units=3, activation='softmax') \n",
    "    ])\n",
    "    opt = keras.optimizers.Adam(learning_rate=0.01)\n",
    "    model1.compile(optimizer=opt, loss='categorical_crossentropy', metrics=['Precision','accuracy','Recall'])\n",
    "    \n",
    "    return model1"
   ]
  },
  {
   "cell_type": "code",
   "execution_count": 71,
   "id": "1dbdf724-bc69-4405-908d-83351ae3e944",
   "metadata": {},
   "outputs": [
    {
     "name": "stdout",
     "output_type": "stream",
     "text": [
      "Epoch 1/100\n",
      "1032/1032 [==============================] - 3s 3ms/step - loss: 0.1191 - precision: 0.9640 - accuracy: 0.9623 - recall: 0.9599 - val_loss: 0.0695 - val_precision: 0.9779 - val_accuracy: 0.9769 - val_recall: 0.9765\n",
      "Epoch 2/100\n",
      "1032/1032 [==============================] - 3s 3ms/step - loss: 0.0682 - precision: 0.9797 - accuracy: 0.9795 - recall: 0.9791 - val_loss: 0.0522 - val_precision: 0.9823 - val_accuracy: 0.9823 - val_recall: 0.9821\n",
      "Epoch 3/100\n",
      "1032/1032 [==============================] - 3s 3ms/step - loss: 0.0535 - precision: 0.9840 - accuracy: 0.9836 - recall: 0.9830 - val_loss: 0.0480 - val_precision: 0.9867 - val_accuracy: 0.9842 - val_recall: 0.9832\n",
      "Epoch 4/100\n",
      "1032/1032 [==============================] - 3s 3ms/step - loss: 0.0461 - precision: 0.9860 - accuracy: 0.9854 - recall: 0.9851 - val_loss: 0.0313 - val_precision: 0.9896 - val_accuracy: 0.9887 - val_recall: 0.9881\n",
      "Epoch 5/100\n",
      "1032/1032 [==============================] - 3s 3ms/step - loss: 0.0356 - precision: 0.9887 - accuracy: 0.9882 - recall: 0.9876 - val_loss: 0.0215 - val_precision: 0.9935 - val_accuracy: 0.9932 - val_recall: 0.9928\n",
      "Epoch 6/100\n",
      "1032/1032 [==============================] - 3s 3ms/step - loss: 0.0273 - precision: 0.9915 - accuracy: 0.9913 - recall: 0.9910 - val_loss: 0.0422 - val_precision: 0.9899 - val_accuracy: 0.9899 - val_recall: 0.9898\n",
      "Epoch 7/100\n",
      "1032/1032 [==============================] - 3s 3ms/step - loss: 0.0249 - precision: 0.9929 - accuracy: 0.9928 - recall: 0.9926 - val_loss: 0.0228 - val_precision: 0.9934 - val_accuracy: 0.9928 - val_recall: 0.9926\n",
      "Epoch 8/100\n",
      "1032/1032 [==============================] - 3s 3ms/step - loss: 0.0153 - precision: 0.9957 - accuracy: 0.9955 - recall: 0.9954 - val_loss: 0.0202 - val_precision: 0.9953 - val_accuracy: 0.9952 - val_recall: 0.9950\n",
      "Epoch 9/100\n",
      "1032/1032 [==============================] - 3s 3ms/step - loss: 0.0137 - precision: 0.9960 - accuracy: 0.9958 - recall: 0.9957 - val_loss: 0.0092 - val_precision: 0.9964 - val_accuracy: 0.9964 - val_recall: 0.9961\n",
      "Epoch 10/100\n",
      "1032/1032 [==============================] - 3s 3ms/step - loss: 0.0126 - precision: 0.9961 - accuracy: 0.9960 - recall: 0.9958 - val_loss: 0.0151 - val_precision: 0.9958 - val_accuracy: 0.9956 - val_recall: 0.9956\n",
      "Epoch 11/100\n",
      "1032/1032 [==============================] - 3s 3ms/step - loss: 0.0110 - precision: 0.9966 - accuracy: 0.9965 - recall: 0.9965 - val_loss: 0.0440 - val_precision: 0.9874 - val_accuracy: 0.9872 - val_recall: 0.9869\n",
      "Epoch 12/100\n",
      "1032/1032 [==============================] - 3s 3ms/step - loss: 0.0115 - precision: 0.9965 - accuracy: 0.9964 - recall: 0.9964 - val_loss: 0.0084 - val_precision: 0.9978 - val_accuracy: 0.9977 - val_recall: 0.9976\n",
      "Epoch 00012: early stopping\n"
     ]
    }
   ],
   "source": [
    "model1 = create_model1()\n",
    "\n",
    "history = model1.fit(x_train,y_train, epochs=100, validation_data = (x_val,y_val), callbacks=[early_stop])"
   ]
  },
  {
   "cell_type": "code",
   "execution_count": 72,
   "id": "03a0fe92-26e2-4371-9d2b-707c9eb7edf6",
   "metadata": {},
   "outputs": [
    {
     "name": "stdout",
     "output_type": "stream",
     "text": [
      "dict_keys(['loss', 'precision', 'accuracy', 'recall', 'val_loss', 'val_precision', 'val_accuracy', 'val_recall'])\n"
     ]
    }
   ],
   "source": [
    "print(history.history.keys())\n",
    "pr=history.history['val_precision']\n",
    "re=history.history['val_recall']"
   ]
  },
  {
   "cell_type": "code",
   "execution_count": 73,
   "id": "b7f9bec0-7b12-43ff-a636-5988ee55a343",
   "metadata": {},
   "outputs": [
    {
     "data": {
      "text/plain": [
       "Text(0, 0.5, 'precision')"
      ]
     },
     "execution_count": 73,
     "metadata": {},
     "output_type": "execute_result"
    },
    {
     "data": {
      "image/png": "[encoded data removed]",
      "text/plain": [
       "<Figure size 432x288 with 1 Axes>"
      ]
     },
     "metadata": {
      "needs_background": "light"
     },
     "output_type": "display_data"
    }
   ],
   "source": [
    "plt.plot(history.history['precision'])\n",
    "plt.plot(history.history['val_precision'])\n",
    "plt.xlabel(\"epoch\",fontsize=20)\n",
    "plt.ylabel(\"precision\",fontsize=20)\n",
    "\n",
    "# plt.savefig('loss.png')"
   ]
  },
  {
   "cell_type": "code",
   "execution_count": 74,
   "id": "e49ea755-3686-4680-a01e-aefd94f66230",
   "metadata": {},
   "outputs": [
    {
     "data": {
      "text/plain": [
       "Text(0, 0.5, 'recall')"
      ]
     },
     "execution_count": 74,
     "metadata": {},
     "output_type": "execute_result"
    },
    {
     "data": {
      "image/png": "[encoded data removed]",
      "text/plain": [
       "<Figure size 432x288 with 1 Axes>"
      ]
     },
     "metadata": {
      "needs_background": "light"
     },
     "output_type": "display_data"
    }
   ],
   "source": [
    "plt.plot(history.history['recall'])\n",
    "plt.plot(history.history['val_recall'])\n",
    "plt.xlabel(\"epoch\",fontsize=20)\n",
    "plt.ylabel(\"recall\",fontsize=20)\n",
    "\n",
    "# plt.savefig('loss.png')"
   ]
  },
  {
   "cell_type": "code",
   "execution_count": 75,
   "id": "198b9a61-2db0-40f4-b99d-0d6201d91a1d",
   "metadata": {},
   "outputs": [
    {
     "data": {
      "text/plain": [
       "Text(0, 0.5, 'Loss')"
      ]
     },
     "execution_count": 75,
     "metadata": {},
     "output_type": "execute_result"
    },
    {
     "data": {
      "image/png": "[encoded data removed]",
      "text/plain": [
       "<Figure size 432x288 with 1 Axes>"
      ]
     },
     "metadata": {
      "needs_background": "light"
     },
     "output_type": "display_data"
    }
   ],
   "source": [
    "plt.plot(history.history['loss'])\n",
    "plt.plot(history.history['val_loss'])\n",
    "plt.xlabel(\"epoch\",fontsize=20)\n",
    "plt.ylabel(\"Loss\",fontsize=20)\n",
    "\n",
    "# plt.savefig('loss.png')"
   ]
  },
  {
   "cell_type": "code",
   "execution_count": 76,
   "id": "290d5e79-bf76-41fe-a0f4-c15ebe3b841c",
   "metadata": {},
   "outputs": [
    {
     "data": {
      "text/plain": [
       "Text(0, 0.5, 'Accuracy')"
      ]
     },
     "execution_count": 76,
     "metadata": {},
     "output_type": "execute_result"
    },
    {
     "data": {
      "image/png": "[encoded data removed]",
      "text/plain": [
       "<Figure size 432x288 with 1 Axes>"
      ]
     },
     "metadata": {
      "needs_background": "light"
     },
     "output_type": "display_data"
    }
   ],
   "source": [
    "plt.plot(history.history['accuracy'])\n",
    "plt.plot(history.history['val_accuracy'])\n",
    "plt.xlabel(\"epoch\",fontsize=20)\n",
    "plt.ylabel(\"Accuracy\",fontsize=20)\n",
    "\n",
    "# plt.savefig('acc.png')"
   ]
  },
  {
   "cell_type": "code",
   "execution_count": 77,
   "id": "ff92f2aa-872e-4674-ab31-d9909d8ecca3",
   "metadata": {},
   "outputs": [
    {
     "name": "stdout",
     "output_type": "stream",
     "text": [
      "1032/1032 - 2s - loss: 0.0079 - precision: 0.9979 - accuracy: 0.9979 - recall: 0.9979\n",
      "train_model acc : 99.79395270347595\n",
      "train_model loss : 0.7924480363726616\n",
      "323/323 - 0s - loss: 0.0075 - precision: 0.9985 - accuracy: 0.9985 - recall: 0.9984\n",
      "test_model acc : 99.85456466674805%\n",
      "test_model loss : 0.7503411266952753\n",
      "258/258 - 0s - loss: 0.0084 - precision: 0.9978 - accuracy: 0.9977 - recall: 0.9976\n",
      "val_model acc : 99.76972341537476%\n",
      "val_model loss : 0.8417538367211819\n"
     ]
    }
   ],
   "source": [
    "loss,prec,acc,rec = model1.evaluate(x_train,y_train, verbose=2)\n",
    "print(\"train_model acc : {}\".format(100*acc))\n",
    "print(\"train_model loss : {}\".format(100*loss))\n",
    "\n",
    "loss,prec,acc,rec = model1.evaluate(x_test,y_test, verbose=2)\n",
    "print(\"test_model acc : {}%\".format(100*acc))\n",
    "print(\"test_model loss : {}\".format(100*loss))\n",
    "\n",
    "loss,prec,acc,rec = model1.evaluate(x_val,y_val, verbose=2)\n",
    "print(\"val_model acc : {}%\".format(100*acc))\n",
    "print(\"val_model loss : {}\".format(100*loss))"
   ]
  },
  {
   "cell_type": "code",
   "execution_count": 78,
   "id": "bccc83ef-34d1-4344-8508-12a4dc91bb2f",
   "metadata": {},
   "outputs": [],
   "source": [
    "axis = pd.read_csv('/home/master/Jibum/Motion_Show/HAR/Final/training_data.csv')"
   ]
  },
  {
   "cell_type": "code",
   "execution_count": 79,
   "id": "d6ac201a-dc5d-41d8-abdd-1a542cce5303",
   "metadata": {},
   "outputs": [],
   "source": [
    "a = axis.iloc[:,:-1]\n",
    "b = axis['activity']"
   ]
  },
  {
   "cell_type": "code",
   "execution_count": 62,
   "id": "65c45862-bb6a-47d7-99d3-0d99c4b16371",
   "metadata": {},
   "outputs": [
    {
     "name": "stdout",
     "output_type": "stream",
     "text": [
      "(35956, 27)\n",
      "(28764, 27)\n",
      "(7192, 27)\n",
      "(8990, 27)\n",
      "(35956,)\n",
      "(28764,)\n",
      "(7192,)\n",
      "(8990,)\n"
     ]
    }
   ],
   "source": [
    "a_train_all, a_train, a_val, a_test, b_train_all, b_train, b_val, b_test = split(a,b)\n",
    "print(a_train_all.shape)\n",
    "print(a_train.shape)\n",
    "print(a_val.shape)\n",
    "print(a_test.shape)\n",
    "print(b_train_all.shape)\n",
    "print(b_train.shape)\n",
    "print(b_val.shape)\n",
    "print(b_test.shape)"
   ]
  },
  {
   "cell_type": "code",
   "execution_count": 80,
   "id": "32b08bd7-34df-454f-a83b-443974fb77df",
   "metadata": {},
   "outputs": [
    {
     "name": "stdout",
     "output_type": "stream",
     "text": [
      "[0 0 0 ... 1 1 1] <class 'numpy.ndarray'> (44946,) ['sit' 'stand' 'walking']\n"
     ]
    }
   ],
   "source": [
    "le.fit(b)\n",
    "c = le.transform(b)\n",
    "print(c, type(c), c.shape, le.classes_)"
   ]
  },
  {
   "cell_type": "code",
   "execution_count": 81,
   "id": "ddf65aa9-14d8-4806-a563-5e76a020fa58",
   "metadata": {},
   "outputs": [
    {
     "name": "stdout",
     "output_type": "stream",
     "text": [
      "(44946, 3)\n"
     ]
    }
   ],
   "source": [
    "d = np_utils.to_categorical(c)\n",
    "print(d.shape)"
   ]
  },
  {
   "cell_type": "code",
   "execution_count": 82,
   "id": "81969234-43d3-43ec-95a8-2409b4ade14c",
   "metadata": {},
   "outputs": [
    {
     "name": "stdout",
     "output_type": "stream",
     "text": [
      "1405/1405 - 3s - loss: 19.9927 - precision: 0.3824 - accuracy: 0.3824 - recall: 0.3824\n",
      "acc : 38.243669271469116 \n",
      "loss : 1999.2719650268555 \n"
     ]
    }
   ],
   "source": [
    "loss,prec,acc,rec = model1.evaluate(a,d,verbose=2)\n",
    "print(\"acc : {} \".format(acc*100))\n",
    "print(\"loss : {} \".format(loss*100))"
   ]
  },
  {
   "cell_type": "code",
   "execution_count": 47,
   "id": "8ae239fc-33cc-4e92-933f-4e9e5b2fe193",
   "metadata": {},
   "outputs": [],
   "source": [
    "from tensorflow.keras.wrappers.scikit_learn import KerasClassifier\n",
    "from sklearn.model_selection import KFold\n",
    "from sklearn.model_selection import cross_val_score\n",
    "from sklearn.model_selection import cross_validate\n",
    "from sklearn.metrics import make_scorer, accuracy_score, precision_score, recall_score\n",
    "\n",
    "\n",
    "modelK = KerasClassifier(build_fn=create_model1, epochs=100, verbose=0)\n",
    "\n",
    "scoring={'accuracy':make_scorer(accuracy_score),\n",
    "         'precision':make_scorer(precision_score, average='micro'),\n",
    "         'recall':make_scorer(recall_score, average='micro')}\n",
    "\n",
    "results = cross_validate(modelK,a,b,cv=10,scoring=scoring)\n",
    "# acc = cross_val_score(estimator=modelK, X=a,y=b, scoring='accuracy', cv=5)\n",
    "# pr = cross_val_score(estimator=modelK, X=a,y=b, scoring='precision', cv=5)\n",
    "# re = cross_val_score(estimator=modelK, X=a,y=b, scoring='recall', cv=5)\n",
    "\n",
    "# scores = cross_validate(modelK,a,b,scoring=scoring,cv=5)b"
   ]
  },
  {
   "cell_type": "code",
   "execution_count": 63,
   "id": "089b1514-0503-46f9-9178-ac0ba58622f9",
   "metadata": {},
   "outputs": [
    {
     "name": "stdout",
     "output_type": "stream",
     "text": [
      "acc :90.94%\n"
     ]
    },
    {
     "name": "stderr",
     "output_type": "stream",
     "text": [
      "/home/master/anaconda3/lib/python3.8/site-packages/sklearn/metrics/_classification.py:1248: UndefinedMetricWarning: Precision is ill-defined and being set to 0.0 in labels with no predicted samples. Use `zero_division` parameter to control this behavior.\n",
      "  _warn_prf(average, modifier, msg_start, len(result))\n"
     ]
    },
    {
     "name": "stdout",
     "output_type": "stream",
     "text": [
      "Precision: 0.94%\n"
     ]
    },
    {
     "name": "stderr",
     "output_type": "stream",
     "text": [
      "/home/master/anaconda3/lib/python3.8/site-packages/sklearn/metrics/_classification.py:1248: UndefinedMetricWarning: Recall is ill-defined and being set to 0.0 in labels with no true samples. Use `zero_division` parameter to control this behavior.\n",
      "  _warn_prf(average, modifier, msg_start, len(result))\n",
      "/home/master/anaconda3/lib/python3.8/site-packages/sklearn/metrics/_classification.py:1248: UndefinedMetricWarning: Recall is ill-defined and being set to 0.0 in labels with no true samples. Use `zero_division` parameter to control this behavior.\n",
      "  _warn_prf(average, modifier, msg_start, len(result))\n",
      "/home/master/anaconda3/lib/python3.8/site-packages/sklearn/metrics/_classification.py:1248: UndefinedMetricWarning: Recall is ill-defined and being set to 0.0 in labels with no true samples. Use `zero_division` parameter to control this behavior.\n",
      "  _warn_prf(average, modifier, msg_start, len(result))\n",
      "/home/master/anaconda3/lib/python3.8/site-packages/sklearn/metrics/_classification.py:1248: UndefinedMetricWarning: Recall is ill-defined and being set to 0.0 in labels with no true samples. Use `zero_division` parameter to control this behavior.\n",
      "  _warn_prf(average, modifier, msg_start, len(result))\n",
      "/home/master/anaconda3/lib/python3.8/site-packages/sklearn/metrics/_classification.py:1248: UndefinedMetricWarning: Recall is ill-defined and being set to 0.0 in labels with no true samples. Use `zero_division` parameter to control this behavior.\n",
      "  _warn_prf(average, modifier, msg_start, len(result))\n"
     ]
    },
    {
     "name": "stdout",
     "output_type": "stream",
     "text": [
      "Recall: 0.91%\n"
     ]
    }
   ],
   "source": [
    "\n",
    "num_folds=10\n",
    "acc_val = cross_val_score(modelK,a,b,scoring='accuracy',cv=num_folds)\n",
    "print(\"acc :\"+str(round(100*acc_val.mean(),2))+'%')\n",
    "pr_val = cross_val_score(modelK,a,b,scoring='precision_weighted',cv=num_folds)\n",
    "print (\"Precision: \"+ str(round(pr_val.mean(),2))+'%')\n",
    "\n",
    "re_val = cross_val_score(modelK,a,b,scoring='recall_weighted',cv=num_folds)\n",
    "print (\"Recall: \"+ str(round(re_val.mean(),2))+'%')"
   ]
  },
  {
   "cell_type": "code",
   "execution_count": 48,
   "id": "5044b9b2-348f-40bf-8814-4089132497b4",
   "metadata": {},
   "outputs": [
    {
     "name": "stdout",
     "output_type": "stream",
     "text": [
      "dict_keys(['fit_time', 'score_time', 'test_accuracy', 'test_precision', 'test_recall'])\n",
      "\n",
      "{'fit_time': array([234.87693858, 237.95594168, 238.64653683, 242.85776663,\n",
      "       240.62410998, 236.73178101, 238.94122458, 234.2843821 ,\n",
      "       234.94354868, 240.2621944 ]), 'score_time': array([0.19051528, 0.16285229, 0.19931173, 0.36848068, 0.17790031,\n",
      "       0.19022608, 0.19682646, 0.2069056 , 0.19375229, 0.18951964]), 'test_accuracy': array([0.98420467, 0.93214683, 1.        , 0.9650723 , 0.98976641,\n",
      "       0.97953281, 0.83667112, 0.81441923, 0.9670672 , 0.56853583]), 'test_precision': array([0.98420467, 0.93214683, 1.        , 0.9650723 , 0.98976641,\n",
      "       0.97953281, 0.83667112, 0.81441923, 0.9670672 , 0.56853583]), 'test_recall': array([0.98420467, 0.93214683, 1.        , 0.9650723 , 0.98976641,\n",
      "       0.97953281, 0.83667112, 0.81441923, 0.9670672 , 0.56853583])}\n",
      "\n",
      "dict_values([array([234.87693858, 237.95594168, 238.64653683, 242.85776663,\n",
      "       240.62410998, 236.73178101, 238.94122458, 234.2843821 ,\n",
      "       234.94354868, 240.2621944 ]), array([0.19051528, 0.16285229, 0.19931173, 0.36848068, 0.17790031,\n",
      "       0.19022608, 0.19682646, 0.2069056 , 0.19375229, 0.18951964]), array([0.98420467, 0.93214683, 1.        , 0.9650723 , 0.98976641,\n",
      "       0.97953281, 0.83667112, 0.81441923, 0.9670672 , 0.56853583]), array([0.98420467, 0.93214683, 1.        , 0.9650723 , 0.98976641,\n",
      "       0.97953281, 0.83667112, 0.81441923, 0.9670672 , 0.56853583]), array([0.98420467, 0.93214683, 1.        , 0.9650723 , 0.98976641,\n",
      "       0.97953281, 0.83667112, 0.81441923, 0.9670672 , 0.56853583])])\n"
     ]
    }
   ],
   "source": [
    "print(results.keys())\n",
    "print()\n",
    "print(results)\n",
    "print()\n",
    "print(results.values())"
   ]
  },
  {
   "cell_type": "code",
   "execution_count": 53,
   "id": "80d47b86-250f-4fe7-8192-676334a727dc",
   "metadata": {},
   "outputs": [
    {
     "name": "stdout",
     "output_type": "stream",
     "text": [
      "[0.98420467 0.93214683 1.         0.9650723  0.98976641 0.97953281\n",
      " 0.83667112 0.81441923 0.9670672  0.56853583]\n",
      "[0.98420467 0.93214683 1.         0.9650723  0.98976641 0.97953281\n",
      " 0.83667112 0.81441923 0.9670672  0.56853583]\n",
      "[0.98420467 0.93214683 1.         0.9650723  0.98976641 0.97953281\n",
      " 0.83667112 0.81441923 0.9670672  0.56853583]\n",
      "\n",
      "[0.98420467 0.93214683 1.         0.9650723  0.98976641 0.97953281\n",
      " 0.83667112 0.81441923 0.9670672  0.56853583] <class 'numpy.ndarray'> (10,)\n"
     ]
    }
   ],
   "source": [
    "print(results.get('test_precision'))\n",
    "print(results.get('test_recall'))\n",
    "print(results.get('test_accuracy'))\n",
    "a = results.get('test_precision')\n",
    "b = results.get('test_recall')\n",
    "print()\n",
    "print(a,type(a),a.shape)"
   ]
  },
  {
   "cell_type": "code",
   "execution_count": 55,
   "id": "8c237ebe-c6e5-489d-8dfe-56c5a6779824",
   "metadata": {},
   "outputs": [
    {
     "name": "stdout",
     "output_type": "stream",
     "text": [
      "0.903741639452034\n"
     ]
    }
   ],
   "source": [
    "print(a.mean())"
   ]
  },
  {
   "cell_type": "code",
   "execution_count": 56,
   "id": "98c40d43-279b-44d3-a15e-0b11b27aa7a9",
   "metadata": {},
   "outputs": [
    {
     "name": "stdout",
     "output_type": "stream",
     "text": [
      "0.903741639452034\n"
     ]
    }
   ],
   "source": [
    "print(b.mean())"
   ]
  },
  {
   "cell_type": "code",
   "execution_count": null,
   "id": "276223ba-669f-4fe7-a3ea-e6640fc5b502",
   "metadata": {},
   "outputs": [],
   "source": [
    "print(scores)"
   ]
  },
  {
   "cell_type": "code",
   "execution_count": null,
   "id": "8868af49-50c5-446c-a96f-a794260daf73",
   "metadata": {},
   "outputs": [],
   "source": []
  }
 ],
 "metadata": {
  "kernelspec": {
   "display_name": "Python 3",
   "language": "python",
   "name": "python3"
  },
  "language_info": {
   "codemirror_mode": {
    "name": "ipython",
    "version": 3
   },
   "file_extension": ".py",
   "mimetype": "text/x-python",
   "name": "python",
   "nbconvert_exporter": "python",
   "pygments_lexer": "ipython3",
   "version": "3.8.8"
  }
 },
 "nbformat": 4,
 "nbformat_minor": 5
}
